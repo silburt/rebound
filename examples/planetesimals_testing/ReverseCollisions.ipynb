{
 "cells": [
  {
   "cell_type": "code",
   "execution_count": 1,
   "metadata": {
    "collapsed": true
   },
   "outputs": [],
   "source": [
    "import rebound\n",
    "import numpy as np\n",
    "import matplotlib.pyplot as plt\n",
    "import sys\n",
    "%matplotlib inline"
   ]
  },
  {
   "cell_type": "code",
   "execution_count": 2,
   "metadata": {
    "collapsed": true
   },
   "outputs": [],
   "source": [
    "setup_checkpoint = 1"
   ]
  },
  {
   "cell_type": "code",
   "execution_count": 26,
   "metadata": {
    "collapsed": false
   },
   "outputs": [
    {
     "name": "stdout",
     "output_type": "stream",
     "text": [
      "100.0"
     ]
    },
    {
     "data": {
      "image/png": "[encoded data removed]",
      "text/plain": [
       "<matplotlib.figure.Figure at 0x10ceb2f10>"
      ]
     },
     "metadata": {},
     "output_type": "display_data"
    }
   ],
   "source": [
    "#add particles to simulation and send them out into space\n",
    "if setup_checkpoint == 1:\n",
    "    sim = rebound.Simulation()\n",
    "    sim.add(m=1.)\n",
    "    sim.add(m=1e-4,a=1.)\n",
    "\n",
    "    Np = 10\n",
    "    tmax = 100\n",
    "    times = np.linspace(0.5,tmax,Np)\n",
    "    prad = 1e-4                                 #planet radius\n",
    "    ev = 1.5*np.sqrt(2*sim.particles[1].m/prad)  #escape velocity\n",
    "    mp = 1e-11\n",
    "\n",
    "    for i in xrange(0,Np):\n",
    "        phi = np.random.random()*np.pi*2\n",
    "        x = 1.*sim.particles[1].x + prad*np.cos(phi)\n",
    "        y = 1.*sim.particles[1].y + prad*np.sin(phi)\n",
    "        vx = ev*np.cos(phi)\n",
    "        vy = ev*np.sin(phi)\n",
    "        sim.add(m=mp, x=x, y=y, vx=vx, vy=vy)\n",
    "        tsteps = np.linspace(sim.t,times[i],10)\n",
    "        for t in tsteps:\n",
    "            sim.integrate(t)\n",
    "            plt.scatter(sim.particles[0].x,sim.particles[0].y,color='yellow',s=20)\n",
    "            plt.scatter(sim.particles[1].x,sim.particles[1].y,color='red',s=8)\n",
    "            for p in sim.particles[2:]:\n",
    "                plt.scatter(p.x,p.y,color='blue',s=5)\n",
    "        sys.stdout.write(\"\\r\" + str(sim.t))\n",
    "        sys.stdout.flush()\n",
    "    sim.save(\"ReverseCollisions.bin\")\n",
    "    del sim"
   ]
  },
  {
   "cell_type": "code",
   "execution_count": 27,
   "metadata": {
    "collapsed": false
   },
   "outputs": [],
   "source": [
    "#now load it and integrate backwards to have collisions\n",
    "sim = rebound.Simulation.from_file(\"ReverseCollisions.bin\")\n",
    "sim.integrator='hybarid'\n",
    "sim.collisions_track_dE = 1\n",
    "sim.collision = 'direct'\n",
    "sim.collision_resolve = 'merge'\n",
    "sim.testparticle_type = 1\n",
    "sim.dt = -0.0001\n",
    "sim.ri_hybarid.switch_radius = 6\n",
    "sim.ri_hybarid.CE_radius = 20\n",
    "sim.N_active = 2\n",
    "sim.move_to_com()"
   ]
  },
  {
   "cell_type": "code",
   "execution_count": 28,
   "metadata": {
    "collapsed": false
   },
   "outputs": [
    {
     "name": "stdout",
     "output_type": "stream",
     "text": [
      "0.0"
     ]
    },
    {
     "data": {
      "image/png": "[encoded data removed]",
      "text/plain": [
       "<matplotlib.figure.Figure at 0x10cf533d0>"
      ]
     },
     "metadata": {},
     "output_type": "display_data"
    }
   ],
   "source": [
    "#reverse integrate\n",
    "E0 = sim.calculate_energy()\n",
    "dE = np.zeros(0)\n",
    "times = np.linspace(sim.t-0.1,0,0.01/abs(sim.dt))\n",
    "for t in times:\n",
    "    sim.integrate(t)\n",
    "    Ei = sim.calculate_energy() + sim.collisions_dE\n",
    "    dE = np.append(dE,(Ei-E0)/E0)\n",
    "    plt.scatter(sim.particles[0].x,sim.particles[0].y,color='yellow',s=20)\n",
    "    plt.scatter(sim.particles[1].x,sim.particles[1].y,color='red',s=8)\n",
    "    for p in sim.particles[2:]:\n",
    "        plt.scatter(p.x,p.y,color='blue',s=5)\n",
    "    sys.stdout.write(\"\\r\" + str(sim.t))\n",
    "    sys.stdout.flush()"
   ]
  },
  {
   "cell_type": "code",
   "execution_count": 29,
   "metadata": {
    "collapsed": false
   },
   "outputs": [
    {
     "name": "stdout",
     "output_type": "stream",
     "text": [
      "---------------------------------\n",
      "REBOUND version:     \t2.14.1\n",
      "REBOUND built on:    \tApr  7 2016 09:30:47\n",
      "Number of particles: \t12\n",
      "Selected integrator: \thybarid\n",
      "Simulation time:     \t0.000000\n",
      "Current timestep:    \t-0.000100\n",
      "---------------------------------\n",
      "<rebound.Particle object, id=0 m=1.0 x=-9.99892930224e-05 y=2.3244271543e-08 z=0.0 vx=-2.16187261011e-08 vy=-9.99950869588e-05 vz=0.0>\n",
      "<rebound.Particle object, id=0 m=0.0001 x=0.999898356495 y=-0.000216633839837 z=0.0 vx=0.000216041015461 vy=0.999950347975 vz=0.0>\n",
      "<rebound.Particle object, id=0 m=1e-11 x=0.999899969788 y=-0.000122688892795 z=0.0 vx=1.18501940587 vy=1.97482117817 vz=0.0>\n",
      "<rebound.Particle object, id=0 m=1e-11 x=1.54830891808 y=-0.0374959191033 z=0.0 vx=-1.20175200671 vy=1.05317069967 vz=0.0>\n",
      "<rebound.Particle object, id=0 m=1e-11 x=3.46442622287 y=-16.3061262546 z=0.0 vx=-0.292994536696 vy=1.34845997465 vz=0.0>\n",
      "<rebound.Particle object, id=0 m=1e-11 x=-18.8365706113 y=27.6592505149 z=0.0 vx=0.827060079669 vy=-1.18680730617 vz=0.0>\n",
      "<rebound.Particle object, id=0 m=1e-11 x=3.90285602109 y=-10.8293954396 z=0.0 vx=0.0600517079088 vy=0.171150278656 vz=0.0>\n",
      "<rebound.Particle object, id=0 m=1e-11 x=63.8970515004 y=-39.468547721 z=0.0 vx=-1.41627196193 vy=0.869021147459 vz=0.0>\n",
      "<rebound.Particle object, id=0 m=1e-11 x=-178.937085921 y=3.86556914043 z=0.0 vx=3.21128902467 vy=-0.0849709315997 vz=0.0>\n",
      "<rebound.Particle object, id=0 m=1e-11 x=-30.3272630198 y=109.206036616 z=0.0 vx=0.432170614407 vy=-1.62611118865 vz=0.0>\n",
      "<rebound.Particle object, id=0 m=1e-11 x=146.410678651 y=-52.2644950816 z=0.0 vx=-1.87208071756 vy=0.680034289245 vz=0.0>\n",
      "<rebound.Particle object, id=0 m=1e-11 x=-46.3851871739 y=-179.913481563 z=0.0 vx=0.529963805859 vy=2.01735938425 vz=0.0>\n",
      "---------------------------------\n"
     ]
    }
   ],
   "source": [
    "#afterward\n",
    "sim.status()"
   ]
  },
  {
   "cell_type": "code",
   "execution_count": 30,
   "metadata": {
    "collapsed": false
   },
   "outputs": [
    {
     "name": "stdout",
     "output_type": "stream",
     "text": [
      "[  4.40457353e-14  -6.93889737e-14  -3.79470950e-15   5.47522371e-14\n",
      "   3.53721136e-14   7.08797525e-14  -7.27771072e-14  -3.12114857e-13\n",
      "  -4.77049194e-14  -4.33681086e-14  -4.25549566e-14  -5.59719651e-14\n",
      "  -1.40946353e-14  -1.08284746e-13  -9.96111244e-14  -6.20706054e-14\n",
      "  -1.03676885e-13  -1.08826847e-13   3.87737996e-13   2.37846971e-13\n",
      "   4.16740418e-13   1.47993671e-13   1.48806823e-13   1.77538195e-13\n",
      "   1.49755500e-13   8.83625213e-14   3.66867094e-13   4.26362718e-13\n",
      "   3.91668231e-13   3.90855079e-13   5.57415721e-13   3.80555153e-13\n",
      "   1.82823683e-13   1.43656860e-13   1.68322471e-13   1.94072286e-13\n",
      "   1.99222249e-13   2.24836538e-13   1.75776365e-13   1.89328899e-13\n",
      "  -1.01644005e-14  -1.79977651e-13  -1.41217404e-13  -1.34847713e-13\n",
      "  -1.49213399e-13  -2.20499727e-13  -1.42301606e-14   1.80384227e-13\n",
      "   2.60344177e-13   5.40746104e-13   4.03729986e-13   3.91803756e-13\n",
      "   3.81097254e-13   3.78386747e-13   4.38966574e-13   4.14572013e-13\n",
      "   4.77726821e-13   4.67155845e-13   5.31123805e-13   5.22179132e-13\n",
      "   5.19062050e-13   4.44929689e-13   4.51028329e-13   5.07677921e-13\n",
      "   3.10895128e-13   2.82299282e-13   2.97884696e-13   2.91921581e-13\n",
      "   1.67509319e-13   2.31748330e-14   3.67273670e-14  -1.09775525e-14\n",
      "   2.03288009e-15  -1.68864573e-13  -1.09911050e-13  -5.73678761e-13\n",
      "  -4.55094090e-13  -4.70950554e-13  -4.83825461e-13  -2.61563905e-13\n",
      "  -3.67544720e-13  -3.96140567e-13   1.77538195e-14   5.84114213e-14\n",
      "   2.28360197e-13  -4.55365140e-14  -1.29833275e-13  -8.22638810e-14\n",
      "  -6.97955498e-14  -6.23416561e-14  -1.28478022e-13   7.54876140e-14\n",
      "   2.06405092e-13   7.29532902e-13   5.47115795e-13   8.31447957e-13\n",
      "   8.43374187e-13   8.94873816e-13   9.31059081e-13   9.28619625e-13]\n"
     ]
    },
    {
     "data": {
      "text/plain": [
       "<matplotlib.text.Text at 0x1107ea910>"
      ]
     },
     "execution_count": 30,
     "metadata": {},
     "output_type": "execute_result"
    },
    {
     "data": {
      "image/png": "[encoded data removed]",
      "text/plain": [
       "<matplotlib.figure.Figure at 0x11031fe50>"
      ]
     },
     "metadata": {},
     "output_type": "display_data"
    }
   ],
   "source": [
    "plt.plot(times,dE)\n",
    "#print(dE)\n",
    "plt.gca().invert_xaxis()\n",
    "plt.xscale('log')\n",
    "plt.xlabel('time')\n",
    "plt.ylabel('signed dE/E')"
   ]
  },
  {
   "cell_type": "code",
   "execution_count": null,
   "metadata": {
    "collapsed": true
   },
   "outputs": [],
   "source": []
  }
 ],
 "metadata": {
  "kernelspec": {
   "display_name": "Python 2",
   "language": "python",
   "name": "python2"
  },
  "language_info": {
   "codemirror_mode": {
    "name": "ipython",
    "version": 2
   },
   "file_extension": ".py",
   "mimetype": "text/x-python",
   "name": "python",
   "nbconvert_exporter": "python",
   "pygments_lexer": "ipython2",
   "version": "2.7.11"
  }
 },
 "nbformat": 4,
 "nbformat_minor": 0
}
