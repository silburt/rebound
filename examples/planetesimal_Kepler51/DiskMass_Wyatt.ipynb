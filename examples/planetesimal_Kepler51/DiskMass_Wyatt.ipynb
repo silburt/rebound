{
 "cells": [
  {
   "cell_type": "markdown",
   "metadata": {},
   "source": [
    "# Max Disk Mass Over Time (Wyatt 2007)\n",
    "Wyatt et al. (2007) has a great relationship constraining the maximum disk mass as a function of time. This assumes a collisional equilibrium $$n(D) = KD^{2-3q}$$ where $n$ is the number of objects with diameter $D$ (in km), $K$ is a constant, and $q = 11/6$ is an infinite collisional cascade (Dohnanyi, 1969). This relationship is assumed to hold for the largest planetesimal in the disk of diameter $D_c$ down to the blowout size (by radiation pressure). If $5/3<q<2$ then most of the mass is in the largest planetesimals.  \n",
    "\n",
    "The maximum mass (units of Earth mass), $M_{max}$, in a planetesimal belt is:  \n",
    "$$M_{max} = 1.4x10^{-9} r^{13/3}(dr/r)D_cQ_D^{*5/6}e^{-5/3}M_*^{-4/3}t^{-1}_{age}$$\n",
    "where:  \n",
    "$r$ = radial distance of planetesimal belt (AU).  \n",
    "$dr$ = width of the planetesimal belt.  \n",
    "$Q_D^*$ = specific incident energy required to catastrophically destroy a particle (J/kg).  \n",
    "$e$ = mean eccentricity of the planetesimals in the disk, valid for a Rayleigh distribution.  \n",
    "$M_*$ = Stellar mass.  \n",
    "$t_{age}$ = age of the planetesimal disk (Myr).  \n",
    "\n",
    "Here we have also assumed the ratio of the relative velocity of collisions to the Keplerian velocity ($v_{rel}/v_{kep}$) is equal to $f(e,I) = \\sqrt{1.25e^2 + I^2}$ where $I$ is the inclination, $e \\sim I$, $q = 11/6$, and $\\rho = 2700 \\rm{kgm^{-3}}$. One interesting consequence of this equation is that the maximum mass is independent of initial disk mass. This stems from the fact that disks that are e.g. twice as massive also decay twice as fast.  \n",
    "\n",
    "Full the details are in Wyatt et al. (2007) - http://adsabs.harvard.edu/abs/2007ApJ...658..569W."
   ]
  },
  {
   "cell_type": "code",
   "execution_count": 2,
   "metadata": {
    "collapsed": true
   },
   "outputs": [],
   "source": [
    "import numpy as np\n",
    "import matplotlib.pyplot as plt\n",
    "%matplotlib inline"
   ]
  },
  {
   "cell_type": "code",
   "execution_count": 36,
   "metadata": {
    "collapsed": true
   },
   "outputs": [],
   "source": [
    "def Mmax(r,dr,Qd,e,D,M,t): #this is the mass expected in Earth masses\n",
    "    return 1.4e-9*r**(13./3.)*(dr/r)*D*Qd**(5./6.)*e**(-5./3.)*M**(-4./3.)/t\n",
    "\n",
    "def fmax(r,dr,Qd,e,D,M,t,L): #this is the infared emission expected normalized by Solar value\n",
    "    return 0.58e-9 * r**(7./3.) * (dr/r) * D**(0.5) * Qd**(5./6.) * e**(-5./3.) * M**(-5./6.) * L**(-0.5)/t"
   ]
  },
  {
   "cell_type": "code",
   "execution_count": 45,
   "metadata": {
    "collapsed": false
   },
   "outputs": [],
   "source": [
    "r = 0.1       #AU\n",
    "dr = 0.01      #AU\n",
    "QD = 200.     #J/kg\n",
    "e_mean = 0.1  #\n",
    "D_c = 1737.    #moon sized = 1737 km\n",
    "M = 1         #M_sun\n",
    "t = 10        #Myr"
   ]
  },
  {
   "cell_type": "code",
   "execution_count": 46,
   "metadata": {
    "collapsed": false
   },
   "outputs": [
    {
     "data": {
      "text/plain": [
       "4.332975005547359e-09"
      ]
     },
     "execution_count": 46,
     "metadata": {},
     "output_type": "execute_result"
    }
   ],
   "source": [
    "Mmax(r,dr,QD,e_mean,D_c,M,t)"
   ]
  },
  {
   "cell_type": "code",
   "execution_count": 35,
   "metadata": {
    "collapsed": false
   },
   "outputs": [
    {
     "data": {
      "text/plain": [
       "0.0003987083301926093"
      ]
     },
     "execution_count": 35,
     "metadata": {},
     "output_type": "execute_result"
    }
   ],
   "source": [
    "fmax(r,dr,QD,e_mean,D_c,M,t,54)"
   ]
  },
  {
   "cell_type": "code",
   "execution_count": null,
   "metadata": {
    "collapsed": true
   },
   "outputs": [],
   "source": []
  }
 ],
 "metadata": {
  "kernelspec": {
   "display_name": "Python 2",
   "language": "python",
   "name": "python2"
  },
  "language_info": {
   "codemirror_mode": {
    "name": "ipython",
    "version": 2
   },
   "file_extension": ".py",
   "mimetype": "text/x-python",
   "name": "python",
   "nbconvert_exporter": "python",
   "pygments_lexer": "ipython2",
   "version": "2.7.11"
  }
 },
 "nbformat": 4,
 "nbformat_minor": 1
}
