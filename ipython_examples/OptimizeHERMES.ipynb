{
 "cells": [
  {
   "cell_type": "markdown",
   "metadata": {},
   "source": [
    "# Optimizing HERMES\n",
    "HERMES is a hybrid integrator that is capable of accurately resolving close encounters and collisions. It is a very powerful tool for a large number of problems, but does require some optimization by the user in order to find the optimal balance of speed and accuracy.  \n",
    "\n",
    "The two main parameters that need to be optimized are the hybrid switch radius ($HSR$) and the time step ($dt$). $HSR$ defines the close encounter region inside of which the IAS15 algorithm takes over, and $dt$ controls how far a particle can travel between successive close encounter checks. If these values are incorrectly chosen the integrator will certainly still run, but either your energy error will be too large or the integration will take much longer than it needs to. As a rough rule of thumb you should aim for: \n",
    "\\begin{equation}\n",
    "dt \\sim \\frac{HSR*r_{hill,cmb}}{dv_{max}} \n",
    "\\end{equation}\n",
    "where $dv_{max}$ is the max relative velocity between your planet and planetesimal over the course of a simulation and $r_{hill,cmb}$ is the combined hill radius of your planet and planetesimal (can be approximated as just the planet's hill radius if participating bodies in the close encounter are small).  \n",
    "\n",
    "\n",
    "Each specific problem will have its own optimal combination of $dt$ and $HSR$. Here we provide a general recipe for optimizing HERMES using the example of a planet embedded in a disk of planetesimals."
   ]
  },
  {
   "cell_type": "code",
   "execution_count": 157,
   "metadata": {
    "collapsed": true
   },
   "outputs": [],
   "source": [
    "import rebound\n",
    "import numpy as np"
   ]
  },
  {
   "cell_type": "markdown",
   "metadata": {},
   "source": [
    "### Functions\n",
    "For this tutorial we'll need to make use of quite a few different functions, which we will build up from scratch. The first set of functions we'll need are different distributions for drawing orbital parameters."
   ]
  },
  {
   "cell_type": "code",
   "execution_count": 158,
   "metadata": {
    "collapsed": true
   },
   "outputs": [],
   "source": [
    "def rand_powerlaw(slope, min_v, max_v):\n",
    "    y = np.random.uniform()\n",
    "    pow_max = pow(max_v, slope+1.)\n",
    "    pow_min = pow(min_v, slope+1.)\n",
    "    return pow((pow_max-pow_min)*y + pow_min, 1./(slope+1.))\n",
    "\n",
    "def rand_uniform(minimum, maximum):\n",
    "    return np.random.uniform()*(maximum-minimum)+minimum\n",
    "\n",
    "def rand_rayleigh(sigma):\n",
    "    return sigma*np.sqrt(-2*np.log(np.random.uniform()))"
   ]
  },
  {
   "cell_type": "markdown",
   "metadata": {},
   "source": [
    "Next we need a function that can check whether $dt$ and $HSR$ are sufficient to efficiently capture and resolve close encounters, i.e. using the equation above. The function created below, \"check_for_bad_dt\", accomplishes this goal, but it turns out rebound already does this, returning a \"timestep_too_large\" flag which we will make use of. "
   ]
  },
  {
   "cell_type": "code",
   "execution_count": 178,
   "metadata": {
    "collapsed": false
   },
   "outputs": [],
   "source": [
    "def check_for_bad_dt(sim):\n",
    "    bad_dt = 0\n",
    "    \n",
    "    par = sim.particles\n",
    "    p = sim.particles[sim.N_active]                            #planet\n",
    "    rhill_p2 = (p.x*p.x + p.y*p.y + p.z*p.z)*(p.m/3.)**(2./3.) #hill radius squared\n",
    "    vmax2 = 0                                                  #max relative velocity squared\n",
    "    for i in xrange(sim.N_active,sim.N):\n",
    "        dvx = par[i].vx - p.vx\n",
    "        dvy = par[i].vy - p.vy\n",
    "        dvz = par[i].vz - p.vz\n",
    "        v2 = dvx*dvx + dvy*dvy + dvz*dvz\n",
    "        if v2 > vmax2:\n",
    "            vmax2 = v2\n",
    "    HSR = sim.ri_hybarid.switch_radius\n",
    "    min_dt2 = HSR*HSR*rhill_p2 / vmax2\n",
    "    if(min_dt2 < 16*sim.dt*sim.dt):\n",
    "        bad_dt = 1                                          #16 factor for extra wiggle room\n",
    "    return bad_dt"
   ]
  },
  {
   "cell_type": "markdown",
   "metadata": {},
   "source": [
    "Next let's quickly create a test problem which simulates a single Earth-sized planet embedded in a disk of planetesimals, allowing for collisions, ejections and close encounters. This problem is very similar to the \"Primordial Earth\" example."
   ]
  },
  {
   "cell_type": "code",
   "execution_count": 187,
   "metadata": {
    "collapsed": true
   },
   "outputs": [],
   "source": [
    "import time as timing\n",
    "def sim_problem(params, tmax):\n",
    "    sim = rebound.Simulation()\n",
    "    \n",
    "    HSR, dt = params\n",
    "    \n",
    "    #integrator options\n",
    "    sim.integrator = \"hybarid\"\n",
    "    sim.ri_hybarid.switch_radius = HSR\n",
    "    sim.ri_hybarid.CE_radius = 20.\n",
    "    sim.dt = dt\n",
    "    sim.testparticle_type = 1   #if set to 0, they become test bodies.\n",
    "\n",
    "    #collision and boundary options\n",
    "    sim.collision = \"direct\"\n",
    "    sim.collision_resolve = \"merge\"\n",
    "    sim.boundary = \"open\"\n",
    "    boxsize = 3.\n",
    "    sim.configure_box(boxsize)\n",
    "    sim.collisions_track_dE = 1\n",
    "    \n",
    "    #massive bodies\n",
    "    sim.add(m=1.)\n",
    "    a_p = 0.5\n",
    "    sim.add(m=3e-6,r=5e-5,a=a_p,e=0.01)\n",
    "    sim.N_active = sim.N\n",
    "    \n",
    "    #Planetesimals\n",
    "    N_pl = 100\n",
    "    m_pl = 1e-9\n",
    "    r_pl = 1.1e-5\n",
    "    while sim.N < (N_pl + sim.N_active):\n",
    "        a = rand_powerlaw(0, a_p-0.03, a_p+0.03)\n",
    "        e = rand_rayleigh(0.01)\n",
    "        inc = rand_rayleigh(0.05)\n",
    "        Omega = rand_uniform(0,2*np.pi)\n",
    "        omega = rand_uniform(0,2*np.pi)\n",
    "        f = rand_uniform(0,2*np.pi)\n",
    "        sim.add(m=m_pl, r=r_pl, a=a, e=e, inc=inc, Omega=Omega, omega=omega, f=f)\n",
    "    \n",
    "    #Final initializations\n",
    "    sim.move_to_com()\n",
    "    E0 = sim.calculate_energy()\n",
    "    \n",
    "    #integrate, keeping track of elapsed time\n",
    "    start_t = timing.time()\n",
    "    sim.integrate(tmax)\n",
    "    time = timing.time() - start_t\n",
    "    \n",
    "    #Final processing\n",
    "    #bad_dt = check_for_bad_dt(sim)\n",
    "    bad_dt = sim.ri_hybarid.timestep_too_large_warning\n",
    "    dE = abs((sim.calculate_energy() - E0)/E0)\n",
    "    \n",
    "    return HSR, dt, dE, bad_dt, time"
   ]
  },
  {
   "cell_type": "markdown",
   "metadata": {},
   "source": [
    "Great! Now, let's create a grid search function to efficiently sample the parameter space of interest."
   ]
  },
  {
   "cell_type": "code",
   "execution_count": 188,
   "metadata": {
    "collapsed": true
   },
   "outputs": [],
   "source": [
    "np.random.RandomState(43)\n",
    "\n",
    "def Grid_Search(dt_array, HSR_array, sim_time):\n",
    "    minpowdt,maxpowdt,numdt = dt_array\n",
    "    minpowHSR,maxpowHSR,numHSR = HSR_array\n",
    "    dt = np.logspace(minpowdt,maxpowdt,numdt)\n",
    "    HSR = np.logspace(minpowHSR,maxpowHSR,numHSR)\n",
    "    params = zip(HSR,np.random.permutation(dt))  #randomize one of the variables for efficient grid search\n",
    "    return [sim_problem(p,sim_time) for p in params]"
   ]
  },
  {
   "cell_type": "markdown",
   "metadata": {},
   "source": [
    "Finally we need to specify the parameter space we want to explore. To avoid this taking a long time we'll use a short simulation time."
   ]
  },
  {
   "cell_type": "code",
   "execution_count": 189,
   "metadata": {
    "collapsed": false
   },
   "outputs": [],
   "source": [
    "n_trials = 50\n",
    "simulation_time = 25     #Use at least a few orbital periods\n",
    "dt = [-4,0,n_trials]   #min/max limits in logspace, i.e. 10**min - 10**max.\n",
    "HSR = [0,2,n_trials]      #min/max limits in logspace, i.e. 10**min - 10**max."
   ]
  },
  {
   "cell_type": "markdown",
   "metadata": {},
   "source": [
    "Calculate the results (this might take a while)."
   ]
  },
  {
   "cell_type": "code",
   "execution_count": 190,
   "metadata": {
    "collapsed": false
   },
   "outputs": [],
   "source": [
    "results = Grid_Search(dt,HSR,simulation_time)"
   ]
  },
  {
   "cell_type": "markdown",
   "metadata": {},
   "source": [
    "Great! Now let's plot the results."
   ]
  },
  {
   "cell_type": "code",
   "execution_count": 191,
   "metadata": {
    "collapsed": false
   },
   "outputs": [
    {
     "data": {
      "image/png": "[encoded data removed]",
      "text/plain": [
       "<matplotlib.figure.Figure at 0x116e36910>"
      ]
     },
     "metadata": {},
     "output_type": "display_data"
    }
   ],
   "source": [
    "import pandas as pd\n",
    "data = pd.DataFrame(results, columns=[\"HSR\",\"dt\",\"dE\",\"bad_dt\",\"elapsed_time\"])\n",
    "\n",
    "import matplotlib.pyplot as plt\n",
    "%matplotlib inline\n",
    "plt.scatter(data[\"HSR\"], data[\"dt\"], c=data[\"bad_dt\"], cmap=\"autumn_r\")\n",
    "cbar = plt.colorbar()\n",
    "size=13\n",
    "cbar.set_label(\"Missed Close Encounters during Simulation\",size=10)\n",
    "plt.xlabel('$HSR$',fontsize=size)\n",
    "plt.ylabel('$dt$',fontsize=size)\n",
    "plt.title('Single Planet, Np=100',fontsize=size)\n",
    "plt.ylim([10**(dt[0]-1),1])\n",
    "plt.xlim([0.5,10**HSR[1]])\n",
    "plt.yscale('log')\n",
    "plt.xscale('log')\n",
    "plt.savefig(\"Parameter_Search_goodbad.pdf\")"
   ]
  },
  {
   "cell_type": "markdown",
   "metadata": {},
   "source": [
    "The red points indicate regions of parameter space where close encounters will be missed, leading to a loss of accuracy and inaccurate results. The yellow points correspond to desirable regions of parameter space where the physics of the problem will be accurately captured. \n",
    "\n",
    "Although one can fairly easily tell by eye where the boundary is between good and bad points, let's quickly use a support vector machine (SVM) to statistically find this boundary. First we need to transform the data so that both parameters have similar ranges and are on the same scale."
   ]
  },
  {
   "cell_type": "code",
   "execution_count": 192,
   "metadata": {
    "collapsed": false
   },
   "outputs": [],
   "source": [
    "from sklearn.preprocessing import StandardScaler\n",
    "y=data[\"bad_dt\"]\n",
    "data[\"logdt\"] = np.log10(data[\"dt\"])  #convert log axis to linear\n",
    "Xcolumns = [\"HSR\",\"logdt\"]\n",
    "X = data[Xcolumns]\n",
    "scaler = StandardScaler().fit(X)\n",
    "X = scaler.transform(X)"
   ]
  },
  {
   "cell_type": "markdown",
   "metadata": {},
   "source": [
    "Now let's find the boundary."
   ]
  },
  {
   "cell_type": "code",
   "execution_count": 193,
   "metadata": {
    "collapsed": true
   },
   "outputs": [],
   "source": [
    "from sklearn.svm import SVC\n",
    "clf=SVC(kernel='linear', C=1)\n",
    "clf.fit(X,y);"
   ]
  },
  {
   "cell_type": "markdown",
   "metadata": {},
   "source": [
    "That was easy! Let's plot the data along with our SVM boundary and supporting vectors."
   ]
  },
  {
   "cell_type": "code",
   "execution_count": 199,
   "metadata": {
    "collapsed": false
   },
   "outputs": [
    {
     "data": {
      "text/plain": [
       "<matplotlib.text.Text at 0x117632490>"
      ]
     },
     "execution_count": 199,
     "metadata": {},
     "output_type": "execute_result"
    },
    {
     "data": {
      "image/png": "[encoded data removed]",
      "text/plain": [
       "<matplotlib.figure.Figure at 0x1174bc150>"
      ]
     },
     "metadata": {},
     "output_type": "display_data"
    }
   ],
   "source": [
    "#Get SVM coefficients\n",
    "w=clf.coef_[0]\n",
    "a=-w[0]/w[1]\n",
    "\n",
    "#sample the SVM boundary and transform back to original co-ords\n",
    "x,y = zip(*X)\n",
    "xx = np.linspace(min(x),max(x))\n",
    "yy=a*xx-(clf.intercept_[0])/w[1]\n",
    "xx,yy = zip(*scaler.inverse_transform(zip(xx,yy)))\n",
    "\n",
    "#get support vectors and transform back to original coords\n",
    "supx, supy = zip(*scaler.inverse_transform(zip(clf.support_vectors_[:,0],clf.support_vectors_[:,1])))\n",
    "\n",
    "#plot\n",
    "plt.plot(xx,yy,'k-',linewidth=2)\n",
    "plt.scatter(data[\"HSR\"], data[\"logdt\"], c=data[\"bad_dt\"], cmap=\"autumn_r\")\n",
    "plt.scatter(supx,supy,s=80,facecolors='none')\n",
    "plt.xlabel(\"$HSR$\",fontsize=size)\n",
    "plt.ylabel(\"log$_{10}$($dt$)\",fontsize=size)"
   ]
  },
  {
   "cell_type": "markdown",
   "metadata": {},
   "source": [
    "The power of the support vector machine comes from its ability to predict new data. For example, testing whether a new combination of [HSR,log(dt)] would yield a positive [0] or negative [1] result is easy!"
   ]
  },
  {
   "cell_type": "code",
   "execution_count": 212,
   "metadata": {
    "collapsed": false
   },
   "outputs": [
    {
     "name": "stdout",
     "output_type": "stream",
     "text": [
      "Using SVM, HSR=60, log(dt)=-0.95 yields: 1\n"
     ]
    },
    {
     "name": "stderr",
     "output_type": "stream",
     "text": [
      "/Users/silburt/anaconda2/envs/ml/lib/python2.7/site-packages/sklearn/preprocessing/data.py:646: DeprecationWarning: Passing 1d arrays as data is deprecated in 0.17 and will raise ValueError in 0.19. Reshape your data either using X.reshape(-1, 1) if your data has a single feature or X.reshape(1, -1) if it contains a single sample.\n",
      "  warnings.warn(DEPRECATION_MSG_1D, DeprecationWarning)\n",
      "/Users/silburt/anaconda2/envs/ml/lib/python2.7/site-packages/sklearn/utils/validation.py:386: DeprecationWarning: Passing 1d arrays as data is deprecated in 0.17 and willraise ValueError in 0.19. Reshape your data either using X.reshape(-1, 1) if your data has a single feature or X.reshape(1, -1) if it contains a single sample.\n",
      "  DeprecationWarning)\n"
     ]
    }
   ],
   "source": [
    "new = [60,-0.95] \n",
    "\n",
    "print \"Using SVM, HSR=\"+str(new[0])+\", log(dt)=\"+str(new[1])+\" yields:\",clf.predict(scaler.transform(new))[0]"
   ]
  },
  {
   "cell_type": "markdown",
   "metadata": {},
   "source": [
    "The optimal set of parameters will lie somewhere in the yellow region close to the support vector boundary. Let's figure out which of our good simulations ran the fastest with a good final energy error!"
   ]
  },
  {
   "cell_type": "code",
   "execution_count": 219,
   "metadata": {
    "collapsed": false
   },
   "outputs": [
    {
     "data": {
      "text/html": [
       "<div>\n",
       "<table border=\"1\" class=\"dataframe\">\n",
       "  <thead>\n",
       "    <tr style=\"text-align: right;\">\n",
       "      <th></th>\n",
       "      <th>HSR</th>\n",
       "      <th>dt</th>\n",
       "      <th>dE</th>\n",
       "      <th>bad_dt</th>\n",
       "      <th>elapsed_time</th>\n",
       "      <th>logdt</th>\n",
       "    </tr>\n",
       "  </thead>\n",
       "  <tbody>\n",
       "    <tr>\n",
       "      <th>3</th>\n",
       "      <td>1.325711</td>\n",
       "      <td>0.019307</td>\n",
       "      <td>1.082712e-10</td>\n",
       "      <td>0</td>\n",
       "      <td>0.075421</td>\n",
       "      <td>-1.714286</td>\n",
       "    </tr>\n",
       "    <tr>\n",
       "      <th>10</th>\n",
       "      <td>2.559548</td>\n",
       "      <td>0.013257</td>\n",
       "      <td>9.415792e-11</td>\n",
       "      <td>0</td>\n",
       "      <td>0.100204</td>\n",
       "      <td>-1.877551</td>\n",
       "    </tr>\n",
       "    <tr>\n",
       "      <th>36</th>\n",
       "      <td>29.470517</td>\n",
       "      <td>0.049417</td>\n",
       "      <td>9.691035e-10</td>\n",
       "      <td>0</td>\n",
       "      <td>0.128378</td>\n",
       "      <td>-1.306122</td>\n",
       "    </tr>\n",
       "    <tr>\n",
       "      <th>0</th>\n",
       "      <td>1.000000</td>\n",
       "      <td>0.009103</td>\n",
       "      <td>3.692317e-13</td>\n",
       "      <td>0</td>\n",
       "      <td>0.138616</td>\n",
       "      <td>-2.040816</td>\n",
       "    </tr>\n",
       "    <tr>\n",
       "      <th>46</th>\n",
       "      <td>75.431201</td>\n",
       "      <td>0.071969</td>\n",
       "      <td>1.835966e-10</td>\n",
       "      <td>0</td>\n",
       "      <td>0.171566</td>\n",
       "      <td>-1.142857</td>\n",
       "    </tr>\n",
       "  </tbody>\n",
       "</table>\n",
       "</div>"
      ],
      "text/plain": [
       "          HSR        dt            dE  bad_dt  elapsed_time     logdt\n",
       "3    1.325711  0.019307  1.082712e-10       0      0.075421 -1.714286\n",
       "10   2.559548  0.013257  9.415792e-11       0      0.100204 -1.877551\n",
       "36  29.470517  0.049417  9.691035e-10       0      0.128378 -1.306122\n",
       "0    1.000000  0.009103  3.692317e-13       0      0.138616 -2.040816\n",
       "46  75.431201  0.071969  1.835966e-10       0      0.171566 -1.142857"
      ]
     },
     "execution_count": 219,
     "metadata": {},
     "output_type": "execute_result"
    }
   ],
   "source": [
    "dgood = data[(data[\"bad_dt\"]==0) & (data[\"dE\"]<1e-9)]\n",
    "dgood.sort_values(by=\"elapsed_time\").head()"
   ]
  },
  {
   "cell_type": "markdown",
   "metadata": {},
   "source": [
    "We can see that for this particular problem, the fastest time is for $HSR$ = 1.32 and $dt$ = 0.019, with a good energy error of dE = 1e-10. Of course, this energy will grow over time, but it's great to start with as low of an energy error as possible! Let's make one final plot displaying information about the elapsed time!"
   ]
  },
  {
   "cell_type": "code",
   "execution_count": 220,
   "metadata": {
    "collapsed": false
   },
   "outputs": [
    {
     "data": {
      "image/png": "[encoded data removed]",
      "text/plain": [
       "<matplotlib.figure.Figure at 0x116a95690>"
      ]
     },
     "metadata": {},
     "output_type": "display_data"
    }
   ],
   "source": [
    "plt.scatter(dgood[\"elapsed_time\"],dgood[\"dt\"],c=dgood[\"HSR\"], cmap=\"rainbow\")\n",
    "cbar = plt.colorbar()\n",
    "cbar.set_label(\"$HSR$\",size=10)\n",
    "plt.yscale('log')\n",
    "plt.ylim([1e-6,1])\n",
    "plt.xscale('log')\n",
    "plt.ylabel(\"$dt$\",fontsize=size)\n",
    "plt.xlabel(\"elapsed time (seconds)\",fontsize=size)\n",
    "plt.title('Single Planet, Np=50',fontsize=size)"
   ]
  }
 ],
 "metadata": {
  "kernelspec": {
   "display_name": "Python 2",
   "language": "python",
   "name": "python2"
  },
  "language_info": {
   "codemirror_mode": {
    "name": "ipython",
    "version": 2
   },
   "file_extension": ".py",
   "mimetype": "text/x-python",
   "name": "python",
   "nbconvert_exporter": "python",
   "pygments_lexer": "ipython2",
   "version": "2.7.11"
  }
 },
 "nbformat": 4,
 "nbformat_minor": 0
}
