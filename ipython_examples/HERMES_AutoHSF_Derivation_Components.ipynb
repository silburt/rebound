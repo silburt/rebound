{
 "cells": [
  {
   "cell_type": "markdown",
   "metadata": {},
   "source": [
    "# HSF Auto-scaling routine - velocity components\n",
    "The ultimate goal is to find the maximum relative velocity between two intersecting orbits. However, since that leads to a non-analytic solution, instead we choose to find $$dv_{max} \\sim \\sqrt{(max(v_{r,1})+max(v_{r,2}))^2 + (max(v_{\\phi,1})-max(v_{\\phi,2}))^2}$$ within the overlapping region."
   ]
  },
  {
   "cell_type": "code",
   "execution_count": 1,
   "metadata": {
    "collapsed": false
   },
   "outputs": [],
   "source": [
    "from sympy import *\n",
    "init_printing()"
   ]
  },
  {
   "cell_type": "code",
   "execution_count": 38,
   "metadata": {
    "collapsed": false
   },
   "outputs": [],
   "source": [
    "r,e1,e2,cosf1,cosf2,a1,a2,m1,m2,G,M = symbols(\"r, e1, e2, f1, f2, a1, a2, m1, m2, G, M\")"
   ]
  },
  {
   "cell_type": "code",
   "execution_count": 39,
   "metadata": {
    "collapsed": false
   },
   "outputs": [],
   "source": [
    "mu = G*M\n",
    "n1 = sqrt(mu/(a1**3))\n",
    "n2 = sqrt(mu/(a2**3))\n",
    "v1 = sqrt(mu*(2/r - 1/a1))\n",
    "v2 = sqrt(mu*(2/r - 1/a2))\n",
    "cosf1 = (a1*(1-e1*e1)/r - 1)/e1\n",
    "cosf2 = (a2*(1-e2*e2)/r - 1)/e2\n",
    "sinf1 = -sqrt(1 - cosf1*cosf1)\n",
    "sinf2 = sqrt(1 - cosf2*cosf2)\n",
    "v1_phi = n1*a1/sqrt(1-e1*e1)*(1+e1*cosf1)\n",
    "v2_phi = n2*a2/sqrt(1-e2*e2)*(1+e2*cosf2)\n",
    "#v1_r = n1*a1/sqrt(1-e1*e1)*(e1*sinf1)       #can be +/-\n",
    "#v2_r = n2*a2/sqrt(1-e2*e2)*(e2*sinf2)       #can be +/-\n",
    "v1_r = sqrt(v1*v1 - v1_phi*v1_phi)           #can be +/-\n",
    "v2_r = sqrt(v2*v2 - v2_phi*v2_phi)           #can be +/-"
   ]
  },
  {
   "cell_type": "markdown",
   "metadata": {},
   "source": [
    "Since each term is solved individually, we really only need to analyze body 1, since 2 will be exactly the same."
   ]
  },
  {
   "cell_type": "code",
   "execution_count": 41,
   "metadata": {
    "collapsed": false
   },
   "outputs": [
    {
     "data": {
      "image/png": "[encoded data removed]",
      "text/latex": [
       "$$\\left [ \\right ]$$"
      ],
      "text/plain": [
       "[]"
      ]
     },
     "execution_count": 41,
     "metadata": {},
     "output_type": "execute_result"
    }
   ],
   "source": [
    "#v_phi\n",
    "dv_phi = solve(diff(v1_phi,r),r)\n",
    "dv_phi"
   ]
  },
  {
   "cell_type": "code",
   "execution_count": 42,
   "metadata": {
    "collapsed": false
   },
   "outputs": [
    {
     "data": {
      "image/png": "[encoded data removed]",
      "text/latex": [
       "$$\\left [ a_{1} \\left(- e_{1}^{2} + 1\\right)\\right ]$$"
      ],
      "text/plain": [
       "⎡   ⎛    2    ⎞⎤\n",
       "⎣a₁⋅⎝- e₁  + 1⎠⎦"
      ]
     },
     "execution_count": 42,
     "metadata": {},
     "output_type": "execute_result"
    }
   ],
   "source": [
    "#v_r\n",
    "dv_r = solve(diff(v1_r,r),r)\n",
    "dv_r"
   ]
  },
  {
   "cell_type": "markdown",
   "metadata": {},
   "source": [
    "# Plotting Stuff\n",
    "From plotting a few simple cases, it looks like just doing v1 - v2 (i.e. a 1-D velocity solution) has no max/min solution"
   ]
  },
  {
   "cell_type": "code",
   "execution_count": 2,
   "metadata": {
    "collapsed": true
   },
   "outputs": [],
   "source": [
    "import matplotlib.pyplot as plt\n",
    "import numpy as np\n",
    "%matplotlib inline"
   ]
  },
  {
   "cell_type": "code",
   "execution_count": 9,
   "metadata": {
    "collapsed": false
   },
   "outputs": [
    {
     "name": "stderr",
     "output_type": "stream",
     "text": [
      "/Users/silburt/anaconda2/envs/ml/lib/python2.7/site-packages/ipykernel/__main__.py:18: RuntimeWarning: invalid value encountered in sqrt\n"
     ]
    },
    {
     "name": "stdout",
     "output_type": "stream",
     "text": [
      "dv_max =0.100503779467 r_max = 0.75\n"
     ]
    },
    {
     "data": {
      "image/png": "[encoded data removed]",
      "text/plain": [
       "<matplotlib.figure.Figure at 0x1116fb1d0>"
      ]
     },
     "metadata": {},
     "output_type": "display_data"
    }
   ],
   "source": [
    "#Plot the relative velocity\n",
    "G = 1\n",
    "M = 1\n",
    "mu = G*M\n",
    "a1 = 1.\n",
    "a2 = 1.05\n",
    "e1 = 0.5\n",
    "e2 = 0.1\n",
    "min_ = 0.5\n",
    "max_ = 1.5\n",
    "r = np.linspace(min_,max_,500)\n",
    "\n",
    "n1 = np.sqrt(mu/(a1**3))\n",
    "n2 = np.sqrt(mu/(a2**3))\n",
    "cosf1 = (a1*(1-e1*e1)/r - 1)/e1\n",
    "cosf2 = (a2*(1-e2*e2)/r - 1)/e2\n",
    "sinf1 = np.sqrt(1 - cosf1*cosf1)        #these are +/-\n",
    "sinf2 = np.sqrt(1 - cosf2*cosf2)        #these are +/-\n",
    "v1_phi = n1*a1/np.sqrt(1-e1*e1)*(1+e1*cosf1)\n",
    "v2_phi = n2*a2/np.sqrt(1-e2*e2)*(1+e2*cosf2)\n",
    "v1_r = n1*a1/np.sqrt(1-e1*e1)*(e1*sinf1)\n",
    "v2_r = n2*a2/np.sqrt(1-e2*e2)*(e2*sinf2)\n",
    "#v1_r = np.sqrt(mu*(2/r - 1/a1) - v1_phi*v1_phi)\n",
    "#v2_r = np.sqrt(mu*(2/r - 1/a2) - v2_phi*v2_phi)\n",
    "\n",
    "r_sol = a1*(1-e1**2)\n",
    "\n",
    "plt.plot(r,v1_r, color='blue',label='v_r');\n",
    "plt.plot([r_sol, r_sol], [0,0.5], color='blue', linestyle='--', label='r_max')\n",
    "plt.plot(r,v1_phi, color='green',label='v_phi')\n",
    "plt.legend(loc=\"upper right\")\n",
    "plt.ylabel(\"velocity\")\n",
    "plt.xlabel(\"star-planet distance\")\n",
    "print \"dv_max =\"+str(max(dv_real)), \"r_max = \"+str(r_sol)"
   ]
  },
  {
   "cell_type": "code",
   "execution_count": 10,
   "metadata": {
    "collapsed": false
   },
   "outputs": [
    {
     "name": "stderr",
     "output_type": "stream",
     "text": [
      "/Users/silburt/anaconda2/envs/ml/lib/python2.7/site-packages/ipykernel/__main__.py:2: RuntimeWarning: invalid value encountered in sqrt\n",
      "  from ipykernel import kernelapp as app\n",
      "/Users/silburt/anaconda2/envs/ml/lib/python2.7/site-packages/ipykernel/__main__.py:3: RuntimeWarning: invalid value encountered in sqrt\n",
      "  app.launch_new_instance()\n",
      "/Users/silburt/anaconda2/envs/ml/lib/python2.7/site-packages/ipykernel/__main__.py:5: RuntimeWarning: divide by zero encountered in divide\n"
     ]
    },
    {
     "data": {
      "text/plain": [
       "[<matplotlib.lines.Line2D at 0x111c24110>]"
      ]
     },
     "execution_count": 10,
     "metadata": {},
     "output_type": "execute_result"
    },
    {
     "data": {
      "image/png": "[encoded data removed]",
      "text/plain": [
       "<matplotlib.figure.Figure at 0x111978490>"
      ]
     },
     "metadata": {},
     "output_type": "display_data"
    }
   ],
   "source": [
    "#Plot dv/dr, i.e. where dv/dr = 0 is the maximum value of dv.\n",
    "term1 = 2*G*M*(np.sqrt(-G*M*(-a1**2*(e1**2 - 1) - r*(2*a1 - r))/(a1*r**2))*(a2*(e2**2 - 1) + r) + np.sqrt(-G*M*(-a2**2*(e2**2 - 1) - r*(2*a2 - r))/(a2*r**2))*(a1*(e1**2 - 1) + r))*(np.sqrt(-G*M*(-a1**2*(e1**2 - 1) - r*(2*a1 - r))/(a1*r**2)) + np.sqrt(-G*M*(-a2**2*(e2**2 - 1) - r*(2*a2 - r))/(a2*r**2)))\n",
    "term2 = 2*np.sqrt(-G*M*(-a1**2*(e1**2 - 1) - r*(2*a1 - r))/(a1*r**2))*np.sqrt(-G*M*(-a2**2*(e2**2 - 1) - r*(2*a2 - r))/(a2*r**2))*(a1**2*np.sqrt(G*M/a1**3)*np.sqrt(-e1**2 + 1) - a2**2*np.sqrt(G*M/a2**3)*np.sqrt(-e2**2 + 1))**2\n",
    "ddv_true = term1 + term2\n",
    "ddv_true = -a1**2*np.sqrt(G*M/a1**3)*np.sqrt(-e1**2 + 1)*(a1*(-e1**2 + 1)/r - 1)/(e1*r**2*np.sqrt(1 - (a1*(-e1**2 + 1)/r - 1)**2/e1**2))\n",
    "\n",
    "plt.plot(r,ddv_true)\n",
    "plt.plot([min_,max_],[0,0],'k--')\n",
    "plt.plot([r_sol, r_sol],[-10,10],'r--')"
   ]
  },
  {
   "cell_type": "markdown",
   "metadata": {},
   "source": [
    "## Extra code\n",
    "This was when I was solving each component of velocity separately, but still finding the max of the combined bodies, i.e. $$dv_{max} \\approx \\sqrt{max(v_{r,1} - v_{r,2})^2 + max(v_{\\phi,1} - v_{\\phi,2})^2}$$\n",
    "\n",
    "Turns out $max(v_{\\phi,1} - v_{\\phi,2})$ was easy, but $max(v_{r,1} - v_{r,2})$ led to a quartic equation which is shown below."
   ]
  },
  {
   "cell_type": "code",
   "execution_count": 107,
   "metadata": {
    "collapsed": false
   },
   "outputs": [
    {
     "data": {
      "image/png": "[encoded data removed]",
      "text/latex": [
       "$$- a_{1}^{2} a_{2} e_{1}^{4} e_{2}^{2} + a_{1}^{2} a_{2} e_{1}^{4} + 2 a_{1}^{2} a_{2} e_{1}^{2} e_{2}^{2} - 2 a_{1}^{2} a_{2} e_{1}^{2} - a_{1}^{2} a_{2} e_{2}^{2} + a_{1}^{2} a_{2} + a_{1} a_{2}^{2} e_{1}^{2} e_{2}^{4} - 2 a_{1} a_{2}^{2} e_{1}^{2} e_{2}^{2} + a_{1} a_{2}^{2} e_{1}^{2} - a_{1} a_{2}^{2} e_{2}^{4} + 2 a_{1} a_{2}^{2} e_{2}^{2} - a_{1} a_{2}^{2} + r^{4} \\left(\\frac{1}{a_{2}} - \\frac{1}{a_{1}}\\right) + r^{3} \\left(\\frac{2 a_{1}}{a_{2}} e_{1}^{2} - \\frac{2 a_{1}}{a_{2}} - \\frac{2 a_{2}}{a_{1}} e_{2}^{2} + \\frac{2 a_{2}}{a_{1}}\\right) + r^{2} \\left(\\frac{a_{1}^{2} e_{1}^{4}}{a_{2}} - \\frac{2 a_{1}^{2}}{a_{2}} e_{1}^{2} + \\frac{a_{1}^{2}}{a_{2}} - 3 a_{1} e_{1}^{2} + 3 a_{1} + 3 a_{2} e_{2}^{2} - 3 a_{2} - \\frac{a_{2}^{2} e_{2}^{4}}{a_{1}} + \\frac{2 a_{2}^{2}}{a_{1}} e_{2}^{2} - \\frac{a_{2}^{2}}{a_{1}}\\right) + r \\left(- 2 a_{1}^{2} e_{1}^{4} + 4 a_{1}^{2} e_{1}^{2} - 2 a_{1}^{2} + 2 a_{2}^{2} e_{2}^{4} - 4 a_{2}^{2} e_{2}^{2} + 2 a_{2}^{2}\\right)$$"
      ],
      "text/plain": [
       "                                                                              \n",
       "    2      4   2     2      4       2      2   2       2      2     2      2  \n",
       "- a₁ ⋅a₂⋅e₁ ⋅e₂  + a₁ ⋅a₂⋅e₁  + 2⋅a₁ ⋅a₂⋅e₁ ⋅e₂  - 2⋅a₁ ⋅a₂⋅e₁  - a₁ ⋅a₂⋅e₂  +\n",
       "                                                                              \n",
       "\n",
       "                                                                              \n",
       "   2           2   2   4          2   2   2        2   2        2   4         \n",
       " a₁ ⋅a₂ + a₁⋅a₂ ⋅e₁ ⋅e₂  - 2⋅a₁⋅a₂ ⋅e₁ ⋅e₂  + a₁⋅a₂ ⋅e₁  - a₁⋅a₂ ⋅e₂  + 2⋅a₁⋅a\n",
       "                                                                              \n",
       "\n",
       "                                    ⎛       2                 2       ⎞      ⎛\n",
       " 2   2        2    4 ⎛1    1 ⎞    3 ⎜2⋅a₁⋅e₁    2⋅a₁   2⋅a₂⋅e₂    2⋅a₂⎟    2 ⎜\n",
       "₂ ⋅e₂  - a₁⋅a₂  + r ⋅⎜── - ──⎟ + r ⋅⎜──────── - ──── - ──────── + ────⎟ + r ⋅⎜\n",
       "                     ⎝a₂   a₁⎠      ⎝   a₂       a₂       a₁       a₁ ⎠      ⎝\n",
       "\n",
       "  2   4       2   2     2                                         2   4       \n",
       "a₁ ⋅e₁    2⋅a₁ ⋅e₁    a₁           2                 2          a₂ ⋅e₂    2⋅a₂\n",
       "─────── - ───────── + ─── - 3⋅a₁⋅e₁  + 3⋅a₁ + 3⋅a₂⋅e₂  - 3⋅a₂ - ─────── + ────\n",
       "   a₂         a₂       a₂                                          a₁         \n",
       "\n",
       "2   2     2⎞                                                                  \n",
       " ⋅e₂    a₂ ⎟     ⎛      2   4       2   2       2       2   4       2   2     \n",
       "───── - ───⎟ + r⋅⎝- 2⋅a₁ ⋅e₁  + 4⋅a₁ ⋅e₁  - 2⋅a₁  + 2⋅a₂ ⋅e₂  - 4⋅a₂ ⋅e₂  + 2⋅\n",
       "a₁       a₁⎠                                                                  \n",
       "\n",
       "    \n",
       "  2⎞\n",
       "a₂ ⎠\n",
       "    "
      ]
     },
     "execution_count": 107,
     "metadata": {},
     "output_type": "execute_result"
    }
   ],
   "source": [
    "choice = 1\n",
    "\n",
    "if choice == 1:    \n",
    "    ddv_r_1 = (sqrt(G*M*(-a1**2*(-e1**2 + 1) + r*(2*a1 - r))/(a1*r**2))*(a2*(e2**2 - 1) + r))**2 - (sqrt(G*M*(-a2**2*(-e2**2 + 1) + r*(2*a2 - r))/(a2*r**2))*(a1*(e1**2 - 1) + r))**2\n",
    "    ddv_r_1 = expand(ddv_r_1)\n",
    "    sol_r = collect(expand(ddv_r_1*r**2/(G*M)),r)\n",
    "elif choice == 2:\n",
    "    ddv_r_2 = (a1**2*e2*sqrt(G*M/a1**3)*sqrt((e2**2*r**2 - (a2*(e2**2 - 1) + r)**2)/(e2**2*r**2))*sqrt(-e1**2 + 1)*(a1*(e1**2 - 1) + r))**2 + (a2**2*e1*sqrt(G*M/a2**3)*sqrt((e1**2*r**2 - (a1*(e1**2 - 1) + r)**2)/(e1**2*r**2))*sqrt(-e2**2 + 1)*(a2*(e2**2 - 1) + r))**2\n",
    "    ddv_r_2 = expand(ddv_r_2)\n",
    "    sol_r = collect(expand(ddv_r_2*r**2/(G*M)),r)\n",
    "sol_r"
   ]
  },
  {
   "cell_type": "code",
   "execution_count": 32,
   "metadata": {
    "collapsed": false
   },
   "outputs": [],
   "source": [
    "A, B, C, D = symbols(\"A, B, C, D\")\n",
    "expr = r**4 + A*r**3 + B*r**2 + C*r + D\n",
    "soln = solve(expr,r)"
   ]
  }
 ],
 "metadata": {
  "kernelspec": {
   "display_name": "Python 2",
   "language": "python",
   "name": "python2"
  },
  "language_info": {
   "codemirror_mode": {
    "name": "ipython",
    "version": 2
   },
   "file_extension": ".py",
   "mimetype": "text/x-python",
   "name": "python",
   "nbconvert_exporter": "python",
   "pygments_lexer": "ipython2",
   "version": "2.7.11"
  }
 },
 "nbformat": 4,
 "nbformat_minor": 0
}
