{
 "cells": [
  {
   "cell_type": "code",
   "execution_count": 1,
   "metadata": {
    "collapsed": false
   },
   "outputs": [],
   "source": [
    "from sympy import *\n",
    "init_printing()"
   ]
  },
  {
   "cell_type": "code",
   "execution_count": 2,
   "metadata": {
    "collapsed": false
   },
   "outputs": [],
   "source": [
    "#subscript 0 = star, 1 = planetesimal, 2 = planet\n",
    "G,m0,O,f,g = symbols(\"G,m0,O,f,g\")\n",
    "Q0,Q1,Q2,P0,P1,P2 = symbols(\"Q0,Q1,Q2,P0,P1,P2\")\n",
    "x1,y1,x2,y2,px1,py1,px2,py2 = symbols(\"x1,y1,x2,y2,px1,py1,px2,py2\")"
   ]
  },
  {
   "cell_type": "code",
   "execution_count": 3,
   "metadata": {
    "collapsed": false
   },
   "outputs": [],
   "source": [
    "#heliocentric, central star is at the origin (0,0)\n",
    "m1 = O*O*f\n",
    "m2 = O*g\n",
    "mtot = (m0 + m1 + m2)\n",
    "\n",
    "Q1 = sqrt(x1*x1 + y1*y1)\n",
    "Q2 = sqrt(x2*x2 + y2*y2)\n",
    "Q0 = (m1*Q1 + m2*Q2)/mtot\n",
    "\n",
    "P0 = sqrt(px1*px1 + py1*py1) + sqrt(px2*px2 + py2*py2)\n",
    "P1 = sqrt(px1*px1 + py1*py1) - m1*P0/mtot\n",
    "P2 = sqrt(px2*px2 + py2*py2) - m2*P0/mtot"
   ]
  },
  {
   "cell_type": "code",
   "execution_count": 7,
   "metadata": {
    "collapsed": false
   },
   "outputs": [],
   "source": [
    "H_k = P1*P1/(2*m1) + P2*P2/(2*m2) - G*m1*m0/Q1 - G*m2*m0/Q2\n",
    "H_s = (P1 + P2)**2/(2*m0)\n",
    "H_i = -G*m1*m2/(Q2 - Q1)\n",
    "H_B = H_s + H_i"
   ]
  },
  {
   "cell_type": "code",
   "execution_count": 19,
   "metadata": {
    "collapsed": false
   },
   "outputs": [],
   "source": [
    "D0 = diff(H_k,x1)*diff(H_B,px1) - diff(H_k,px1)*diff(H_B,x1) #first terms are 0\n",
    "D1 = diff(H_k,y1)*diff(H_B,py1) - diff(H_k,py1)*diff(H_B,y1) \n",
    "D2 = diff(H_k,x2)*diff(H_B,px2) - diff(H_k,px2)*diff(H_B,x2) \n",
    "D3 = diff(H_k,y2)*diff(H_B,py2) - diff(H_k,py2)*diff(H_B,y2) \n",
    "D = D0+D1+D2+D3\n",
    "\n",
    "B = 0.5*H_k + H_B\n",
    "B0 = diff(D,x1)*diff(B,px1) - diff(D,px1)*diff(B,x1) #first terms are 0\n",
    "B1 = diff(D,y1)*diff(B,py1) - diff(D,py1)*diff(B,y1) \n",
    "B2 = diff(D,x2)*diff(B,px2) - diff(D,px2)*diff(B,x2) \n",
    "B3 = diff(D,y2)*diff(B,py2) - diff(D,py2)*diff(B,y2)\n",
    "\n",
    "result_raw = B0+B1+B2+B3"
   ]
  },
  {
   "cell_type": "code",
   "execution_count": 59,
   "metadata": {
    "collapsed": false
   },
   "outputs": [],
   "source": [
    "r0,r1,r2,v,vx1,vy1,vx2,vy2,H,a = symbols(\"r0,r1,r2,v,vx1,vy1,vx2,vy2,H,a\")\n",
    "result = result_raw.subs({sqrt(x1**2 + y1**2):r1,sqrt(x2**2 + y2**2):r2,sqrt(px1**2 + py1**2):m1*v,sqrt(px2**2 + py2**2):m2*v})\n",
    "result = result.subs({-r1 + r2:H,r1:a-H,r2:a})\n",
    "result = result.subs({O**2*f + O*g + m0:m0, O**2*f*v + O*g*v:O*g*v})"
   ]
  },
  {
   "cell_type": "code",
   "execution_count": 60,
   "metadata": {
    "collapsed": false
   },
   "outputs": [],
   "source": [
    "resulte = expand(result)"
   ]
  },
  {
   "cell_type": "code",
   "execution_count": 61,
   "metadata": {
    "collapsed": false
   },
   "outputs": [
    {
     "data": {
      "image/png": "[encoded data removed]",
      "text/latex": [
       "$$O^{3} \\left(- \\frac{1.0 G^{2} f g m_{0} vx_{1} vx_{2} x_{1} x_{2}}{- H^{3} a^{3} v^{2} + 3 H^{2} a^{4} v^{2} - 3 H a^{5} v^{2} + a^{6} v^{2}} - \\frac{1.0 G^{2} f g m_{0} vx_{1} vy_{2} x_{1} y_{2}}{- H^{3} a^{3} v^{2} + 3 H^{2} a^{4} v^{2} - 3 H a^{5} v^{2} + a^{6} v^{2}} - \\frac{1.0 G^{2} f g m_{0} vx_{2} vy_{1} x_{2} y_{1}}{- H^{3} a^{3} v^{2} + 3 H^{2} a^{4} v^{2} - 3 H a^{5} v^{2} + a^{6} v^{2}} - \\frac{1.0 G^{2} f g m_{0} vy_{1} vy_{2} y_{1} y_{2}}{- H^{3} a^{3} v^{2} + 3 H^{2} a^{4} v^{2} - 3 H a^{5} v^{2} + a^{6} v^{2}} - \\frac{0.5 G^{2} f g m_{0} x_{1}^{2}}{H^{6} - 6 H^{5} a + 15 H^{4} a^{2} - 20 H^{3} a^{3} + 15 H^{2} a^{4} - 6 H a^{5} + a^{6}} - \\frac{0.5 G^{2} f g m_{0} x_{1}^{2}}{H^{6} - 4 H^{5} a + 6 H^{4} a^{2} - 4 H^{3} a^{3} + H^{2} a^{4}} - \\frac{0.5 G^{2} f g m_{0} y_{1}^{2}}{H^{6} - 6 H^{5} a + 15 H^{4} a^{2} - 20 H^{3} a^{3} + 15 H^{2} a^{4} - 6 H a^{5} + a^{6}} - \\frac{0.5 G^{2} f g m_{0} y_{1}^{2}}{H^{6} - 4 H^{5} a + 6 H^{4} a^{2} - 4 H^{3} a^{3} + H^{2} a^{4}} + \\frac{1.0 G^{2}}{a^{6}} g^{3} x_{2}^{2} + \\frac{1.0 G^{2}}{a^{6}} g^{3} y_{2}^{2} + \\frac{0.5 f g m_{0}}{H^{2} a^{4}} G^{2} x_{2}^{2} + \\frac{0.5 f g m_{0}}{H^{2} a^{4}} G^{2} y_{2}^{2} - \\frac{2.0 G f g vx_{1} vx_{2} x_{1} x_{2}}{- H^{4} a + H^{3} a^{2}} - \\frac{2.0 G f g vx_{1} vy_{2} x_{1} y_{2}}{- H^{4} a + H^{3} a^{2}} - \\frac{2.0 G f g vx_{2} vy_{1} x_{2} y_{1}}{- H^{4} a + H^{3} a^{2}} - \\frac{2.0 G f g vy_{1} vy_{2} y_{1} y_{2}}{- H^{4} a + H^{3} a^{2}} - \\frac{1.0 G g^{3} vx_{2}^{2}}{a^{3} m_{0}} - \\frac{1.0 G g^{3} vy_{2}^{2}}{a^{3} m_{0}} + \\frac{3.0 G g^{3} vx_{2}^{2}}{a^{5} m_{0}} x_{2}^{2} + \\frac{6.0 G vx_{2} vy_{2}}{a^{5} m_{0}} g^{3} x_{2} y_{2} + \\frac{3.0 G g^{3} vy_{2}^{2}}{a^{5} m_{0}} y_{2}^{2} - \\frac{0.5 G f g}{H^{2} a} vx_{2}^{2} - \\frac{0.5 G f g}{H^{2} a} vy_{2}^{2} + \\frac{0.5 G f g}{H^{2} a^{3}} vx_{2}^{2} x_{2}^{2} + \\frac{1.0 G f g}{H^{2} a^{3}} vx_{2} vy_{2} x_{2} y_{2} + \\frac{0.5 G f g}{H^{2} a^{3}} vy_{2}^{2} y_{2}^{2} + \\frac{1.0 G f g}{H^{3} a^{2}} vx_{2}^{2} x_{2}^{2} + \\frac{2.0 G f g}{H^{3} a^{2}} vx_{2} vy_{2} x_{2} y_{2} + \\frac{1.0 G f g}{H^{3} a^{2}} vy_{2}^{2} y_{2}^{2}\\right) + O^{2} \\left(- \\frac{0.5 m_{0}}{a^{6}} G^{2} g^{2} x_{2}^{2} - \\frac{0.5 m_{0}}{a^{6}} G^{2} g^{2} y_{2}^{2} + \\frac{0.5 G}{a^{3}} g^{2} vx_{2}^{2} + \\frac{0.5 G}{a^{3}} g^{2} vy_{2}^{2} - \\frac{1.5 G}{a^{5}} g^{2} vx_{2}^{2} x_{2}^{2} - \\frac{3.0 G}{a^{5}} g^{2} vx_{2} vy_{2} x_{2} y_{2} - \\frac{1.5 G}{a^{5}} g^{2} vy_{2}^{2} y_{2}^{2}\\right)$$"
      ],
      "text/plain": [
       "   ⎛               2                                             2            \n",
       " 3 ⎜          1.0⋅G ⋅f⋅g⋅m₀⋅vx₁⋅vx₂⋅x₁⋅x₂                   1.0⋅G ⋅f⋅g⋅m₀⋅vx₁⋅\n",
       "O ⋅⎜- ─────────────────────────────────────────── - ──────────────────────────\n",
       "   ⎜     3  3  2      2  4  2        5  2    6  2      3  3  2      2  4  2   \n",
       "   ⎝  - H ⋅a ⋅v  + 3⋅H ⋅a ⋅v  - 3⋅H⋅a ⋅v  + a ⋅v    - H ⋅a ⋅v  + 3⋅H ⋅a ⋅v  - \n",
       "\n",
       "                                 2                                            \n",
       "vy₂⋅x₁⋅y₂                   1.0⋅G ⋅f⋅g⋅m₀⋅vx₂⋅vy₁⋅x₂⋅y₁                   1.0⋅\n",
       "───────────────── - ─────────────────────────────────────────── - ────────────\n",
       "     5  2    6  2      3  3  2      2  4  2        5  2    6  2      3  3  2  \n",
       "3⋅H⋅a ⋅v  + a ⋅v    - H ⋅a ⋅v  + 3⋅H ⋅a ⋅v  - 3⋅H⋅a ⋅v  + a ⋅v    - H ⋅a ⋅v  +\n",
       "\n",
       " 2                                                         2          2       \n",
       "G ⋅f⋅g⋅m₀⋅vy₁⋅vy₂⋅y₁⋅y₂                               0.5⋅G ⋅f⋅g⋅m₀⋅x₁        \n",
       "─────────────────────────────── - ────────────────────────────────────────────\n",
       "    2  4  2        5  2    6  2    6      5         4  2       3  3       2  4\n",
       " 3⋅H ⋅a ⋅v  - 3⋅H⋅a ⋅v  + a ⋅v    H  - 6⋅H ⋅a + 15⋅H ⋅a  - 20⋅H ⋅a  + 15⋅H ⋅a \n",
       "\n",
       "                                 2          2                                 \n",
       "                            0.5⋅G ⋅f⋅g⋅m₀⋅x₁                                  \n",
       "────────────── - ─────────────────────────────────────── - ───────────────────\n",
       "        5    6    6      5        4  2      3  3    2  4    6      5         4\n",
       " - 6⋅H⋅a  + a    H  - 4⋅H ⋅a + 6⋅H ⋅a  - 4⋅H ⋅a  + H ⋅a    H  - 6⋅H ⋅a + 15⋅H \n",
       "\n",
       "      2          2                                        2          2        \n",
       " 0.5⋅G ⋅f⋅g⋅m₀⋅y₁                                    0.5⋅G ⋅f⋅g⋅m₀⋅y₁         \n",
       "─────────────────────────────────────── - ────────────────────────────────────\n",
       "  2       3  3       2  4        5    6    6      5        4  2      3  3    2\n",
       "⋅a  - 20⋅H ⋅a  + 15⋅H ⋅a  - 6⋅H⋅a  + a    H  - 4⋅H ⋅a + 6⋅H ⋅a  - 4⋅H ⋅a  + H \n",
       "\n",
       "           2  3   2        2  3   2        2          2        2          2   \n",
       "      1.0⋅G ⋅g ⋅x₂    1.0⋅G ⋅g ⋅y₂    0.5⋅G ⋅f⋅g⋅m₀⋅x₂    0.5⋅G ⋅f⋅g⋅m₀⋅y₂    \n",
       "─── + ───────────── + ───────────── + ───────────────── + ───────────────── - \n",
       "  4          6               6               2  4                2  4         \n",
       "⋅a          a               a               H ⋅a                H ⋅a          \n",
       "\n",
       "                                                                              \n",
       "2.0⋅G⋅f⋅g⋅vx₁⋅vx₂⋅x₁⋅x₂   2.0⋅G⋅f⋅g⋅vx₁⋅vy₂⋅x₁⋅y₂   2.0⋅G⋅f⋅g⋅vx₂⋅vy₁⋅x₂⋅y₁   \n",
       "─────────────────────── - ─────────────────────── - ─────────────────────── - \n",
       "        4      3  2               4      3  2               4      3  2       \n",
       "     - H ⋅a + H ⋅a             - H ⋅a + H ⋅a             - H ⋅a + H ⋅a        \n",
       "\n",
       "                                 3    2          3    2          3    2   2   \n",
       "2.0⋅G⋅f⋅g⋅vy₁⋅vy₂⋅y₁⋅y₂   1.0⋅G⋅g ⋅vx₂    1.0⋅G⋅g ⋅vy₂    3.0⋅G⋅g ⋅vx₂ ⋅x₂    \n",
       "─────────────────────── - ───────────── - ───────────── + ───────────────── + \n",
       "        4      3  2            3               3                 5            \n",
       "     - H ⋅a + H ⋅a            a ⋅m₀           a ⋅m₀             a ⋅m₀         \n",
       "\n",
       "       3                        3    2   2                2                2  \n",
       "6.0⋅G⋅g ⋅vx₂⋅vy₂⋅x₂⋅y₂   3.0⋅G⋅g ⋅vy₂ ⋅y₂    0.5⋅G⋅f⋅g⋅vx₂    0.5⋅G⋅f⋅g⋅vy₂   \n",
       "────────────────────── + ───────────────── - ────────────── - ────────────── +\n",
       "         5                      5                  2                2         \n",
       "        a ⋅m₀                  a ⋅m₀              H ⋅a             H ⋅a       \n",
       "\n",
       "              2   2                                          2   2            \n",
       " 0.5⋅G⋅f⋅g⋅vx₂ ⋅x₂    1.0⋅G⋅f⋅g⋅vx₂⋅vy₂⋅x₂⋅y₂   0.5⋅G⋅f⋅g⋅vy₂ ⋅y₂    1.0⋅G⋅f⋅g\n",
       " ────────────────── + ─────────────────────── + ────────────────── + ─────────\n",
       "        2  3                    2  3                   2  3                 3 \n",
       "       H ⋅a                    H ⋅a                   H ⋅a                 H ⋅\n",
       "\n",
       "    2   2                                          2   2⎞      ⎛       2  2   \n",
       "⋅vx₂ ⋅x₂    2.0⋅G⋅f⋅g⋅vx₂⋅vy₂⋅x₂⋅y₂   1.0⋅G⋅f⋅g⋅vy₂ ⋅y₂ ⎟    2 ⎜  0.5⋅G ⋅g ⋅m₀\n",
       "───────── + ─────────────────────── + ──────────────────⎟ + O ⋅⎜- ────────────\n",
       " 2                    3  2                   3  2       ⎟      ⎜          6   \n",
       "a                    H ⋅a                   H ⋅a        ⎠      ⎝         a    \n",
       "\n",
       "   2        2  2      2          2    2          2    2          2    2   2   \n",
       "⋅x₂    0.5⋅G ⋅g ⋅m₀⋅y₂    0.5⋅G⋅g ⋅vx₂    0.5⋅G⋅g ⋅vy₂    1.5⋅G⋅g ⋅vx₂ ⋅x₂    \n",
       "──── - ──────────────── + ───────────── + ───────────── - ───────────────── - \n",
       "               6                 3               3                 5          \n",
       "              a                 a               a                 a           \n",
       "\n",
       "       2                        2    2   2⎞\n",
       "3.0⋅G⋅g ⋅vx₂⋅vy₂⋅x₂⋅y₂   1.5⋅G⋅g ⋅vy₂ ⋅y₂ ⎟\n",
       "────────────────────── - ─────────────────⎟\n",
       "           5                      5       ⎟\n",
       "          a                      a        ⎠"
      ]
     },
     "execution_count": 61,
     "metadata": {},
     "output_type": "execute_result"
    }
   ],
   "source": [
    "#assume order of magnitudes, i.e. x1 = y1 = r1\n",
    "resulte = resulte.subs({px1:m1*vx1, py1:m1*vy1, px2:m2*vx2, py2:m2*vy2})\n",
    "\n",
    "resulte = resulte.subs({O**13:0,O**11:0,O**10:0,O**9:0,O**8:0,O**7:0,O**6:0,O**5:0,O**4:0})\n",
    "resulte = collect(resulte,O)\n",
    "resulte"
   ]
  },
  {
   "cell_type": "code",
   "execution_count": 68,
   "metadata": {
    "collapsed": false
   },
   "outputs": [
    {
     "data": {
      "image/png": "[encoded data removed]",
      "text/latex": [
       "$$\\frac{1.0 G^{2} O^{2} g}{H^{3} a^{4} \\left(1.0 H^{6} - 6.0 H^{5} a + 15.0 H^{4} a^{2} - 20.0 H^{3} a^{3} + 15.0 H^{2} a^{4} - 6.0 H a^{5} + 1.0 a^{6}\\right)} \\left(12.0 H^{9} O g^{2} - 6.0 H^{9} g m_{0} - 72.0 H^{8} O a g^{2} + 36.0 H^{8} a g m_{0} + 2.0 H^{7} O a^{2} f m_{0} + 180.0 H^{7} O a^{2} g^{2} - 90.0 H^{7} a^{2} g m_{0} - 4.0 H^{6} O a^{3} f m_{0} - 240.0 H^{6} O a^{3} g^{2} + 120.0 H^{6} a^{3} g m_{0} + 2.0 H^{5} O a^{4} f m_{0} + 180.0 H^{5} O a^{4} g^{2} - 90.0 H^{5} a^{4} g m_{0} - 8.0 H^{4} O a^{5} f m_{0} - 72.0 H^{4} O a^{5} g^{2} + 36.0 H^{4} a^{5} g m_{0} + 24.0 H^{3} O a^{6} f m_{0} + 12.0 H^{3} O a^{6} g^{2} - 6.0 H^{3} a^{6} g m_{0} - 30.0 H^{2} O a^{7} f m_{0} + 17.0 H O a^{8} f m_{0} - 4.0 O a^{9} f m_{0}\\right)$$"
      ],
      "text/plain": [
       "     2  2   ⎛      9    2        9              8      2         8            \n",
       "1.0⋅G ⋅O ⋅g⋅⎝12.0⋅H ⋅O⋅g  - 6.0⋅H ⋅g⋅m₀ - 72.0⋅H ⋅O⋅a⋅g  + 36.0⋅H ⋅a⋅g⋅m₀ + 2.\n",
       "──────────────────────────────────────────────────────────────────────────────\n",
       "                                                                              \n",
       "                                                                              \n",
       "\n",
       "   7    2               7    2  2         7  2             6    3             \n",
       "0⋅H ⋅O⋅a ⋅f⋅m₀ + 180.0⋅H ⋅O⋅a ⋅g  - 90.0⋅H ⋅a ⋅g⋅m₀ - 4.0⋅H ⋅O⋅a ⋅f⋅m₀ - 240.0\n",
       "──────────────────────────────────────────────────────────────────────────────\n",
       "                                                                              \n",
       "                                                                              \n",
       "\n",
       "  6    3  2          6  3             5    4               5    4  2         5\n",
       "⋅H ⋅O⋅a ⋅g  + 120.0⋅H ⋅a ⋅g⋅m₀ + 2.0⋅H ⋅O⋅a ⋅f⋅m₀ + 180.0⋅H ⋅O⋅a ⋅g  - 90.0⋅H \n",
       "──────────────────────────────────────────────────────────────────────────────\n",
       "       3  4 ⎛     6        5           4  2         3  3         2  4         \n",
       "      H ⋅a ⋅⎝1.0⋅H  - 6.0⋅H ⋅a + 15.0⋅H ⋅a  - 20.0⋅H ⋅a  + 15.0⋅H ⋅a  - 6.0⋅H⋅\n",
       "\n",
       "  4             4    5              4    5  2         4  5              3    6\n",
       "⋅a ⋅g⋅m₀ - 8.0⋅H ⋅O⋅a ⋅f⋅m₀ - 72.0⋅H ⋅O⋅a ⋅g  + 36.0⋅H ⋅a ⋅g⋅m₀ + 24.0⋅H ⋅O⋅a \n",
       "──────────────────────────────────────────────────────────────────────────────\n",
       " 5        6⎞                                                                  \n",
       "a  + 1.0⋅a ⎠                                                                  \n",
       "\n",
       "              3    6  2        3  6              2    7                  8    \n",
       "⋅f⋅m₀ + 12.0⋅H ⋅O⋅a ⋅g  - 6.0⋅H ⋅a ⋅g⋅m₀ - 30.0⋅H ⋅O⋅a ⋅f⋅m₀ + 17.0⋅H⋅O⋅a ⋅f⋅m\n",
       "──────────────────────────────────────────────────────────────────────────────\n",
       "                                                                              \n",
       "                                                                              \n",
       "\n",
       "           9     ⎞\n",
       "₀ - 4.0⋅O⋅a ⋅f⋅m₀⎠\n",
       "──────────────────\n",
       "                  \n",
       "                  "
      ]
     },
     "execution_count": 68,
     "metadata": {},
     "output_type": "execute_result"
    }
   ],
   "source": [
    "results = resulte\n",
    "\n",
    "results = results.subs({x1:a-H, y1:a-H, x2:a, y2:a}) \n",
    "results = results.subs({vx1:v, vy1:v, vx2:v, vy2:v})\n",
    "results = simplify(results.subs({v**2:G*m0/a, -H+a:a}))\n",
    "\n",
    "results"
   ]
  },
  {
   "cell_type": "code",
   "execution_count": 69,
   "metadata": {
    "collapsed": false
   },
   "outputs": [
    {
     "data": {
      "image/png": "[encoded data removed]",
      "text/latex": [
       "$$\\frac{4.0 f g m_{0}}{H^{3} a} G^{2} O^{3}$$"
      ],
      "text/plain": [
       "     2  3       \n",
       "4.0⋅G ⋅O ⋅f⋅g⋅m₀\n",
       "────────────────\n",
       "       3        \n",
       "      H ⋅a      "
      ]
     },
     "execution_count": 69,
     "metadata": {},
     "output_type": "execute_result"
    }
   ],
   "source": [
    "#take leading terms (H << a)\n",
    "final = 1.0*G**2*O**2*g*4.0*O*a**9*f*m0/(H**3*a**10)\n",
    "final"
   ]
  }
 ],
 "metadata": {
  "kernelspec": {
   "display_name": "Python 2",
   "language": "python",
   "name": "python2"
  },
  "language_info": {
   "codemirror_mode": {
    "name": "ipython",
    "version": 2
   },
   "file_extension": ".py",
   "mimetype": "text/x-python",
   "name": "python",
   "nbconvert_exporter": "python",
   "pygments_lexer": "ipython2",
   "version": "2.7.11"
  }
 },
 "nbformat": 4,
 "nbformat_minor": 0
}
