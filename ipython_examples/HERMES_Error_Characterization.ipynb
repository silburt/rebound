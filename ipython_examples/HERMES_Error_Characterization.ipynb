{
 "cells": [
  {
   "cell_type": "markdown",
   "metadata": {},
   "source": [
    "# Error Characterization of HERMES\n",
    "Understanding the sources of error of an integrator is essential for many reasons. It makes debugging much faster, adding new modules much easier, and operation more efficient.  "
   ]
  },
  {
   "cell_type": "code",
   "execution_count": 1,
   "metadata": {
    "collapsed": true
   },
   "outputs": [],
   "source": [
    "import rebound\n",
    "import numpy as np\n",
    "import time as timing"
   ]
  },
  {
   "cell_type": "markdown",
   "metadata": {},
   "source": [
    "## Setup\n",
    "First let's set up the problem consisting of a central star, massive planet and passive planetesimal. The planetesimal begins inside the $HSF$ boundary of the planet so that the simulation begins in pure IAS15 mode. We initialize the planetesimal such that the planet-planetesimal distance grows with time. Soon after, the planetesimal leaves the $HSF$ boundary and the simulation finishes in pure WHFAST mode. \n",
    "\n",
    "In Silburt et al. (2016) we calculate theoretical predictions for the error introduced, and we input these predictions so we can directly compare to our numerical tests."
   ]
  },
  {
   "cell_type": "code",
   "execution_count": 15,
   "metadata": {
    "collapsed": false
   },
   "outputs": [],
   "source": [
    "def theory(params, x_array, choice, scale_factor):\n",
    "    x0, x1, M, m, m_pl = params\n",
    "    \n",
    "    if choice == \"dt\":\n",
    "        tau2 = x_array**2 / 12.\n",
    "        a = x1\n",
    "        rhHSF = x0*a*(m/(3*M))**(1./3.)\n",
    "    elif choice == \"HSF\":\n",
    "        tau2 = x0**2 / 12.\n",
    "        a = x1\n",
    "        rhHSF = x_array*a*(m/(3*M))**(1./3.)\n",
    "    elif choice == \"a\":\n",
    "        tau2 = x1**2 / 12.\n",
    "        a = x_array\n",
    "        rhHSF = x0*a*(m/(3*M))**(1./3.)\n",
    "    coeff = tau2*m*m_pl/(rhHSF**2)\n",
    "    term1 = 1/(a*rhHSF)\n",
    "    term2 = m/(rhHSF**2)\n",
    "    term3 = -rhHSF/(2*((a*a - rhHSF**2)**1.5))    #minor term, neg^x returns invalue value\n",
    "    theoretical = (term1 + term2 + term3)*coeff*scale_factor\n",
    "    axes[0].plot(x_array, theoretical, '+-',label='R3B theory')"
   ]
  },
  {
   "cell_type": "code",
   "execution_count": 13,
   "metadata": {
    "collapsed": false
   },
   "outputs": [],
   "source": [
    "def problem(HSF, dt, a_p, theta):\n",
    "    #initialize the simulation\n",
    "    sim = rebound.Simulation()\n",
    "    \n",
    "    #integrator options\n",
    "    sim.integrator = \"hermes\"\n",
    "    sim.ri_hermes.hill_switch_factor = HSF\n",
    "    sim.ri_hermes.radius_switch_factor = 20.\n",
    "    sim.dt = dt\n",
    "    sim.testparticle_type = 1\n",
    "    tmax = 7. * a_p**1.5\n",
    "    sim.usleep = -1\n",
    "\n",
    "    #collision and boundary options\n",
    "    sim.collision = \"direct\"\n",
    "    sim.collision_resolve = \"merge\"\n",
    "    sim.track_energy_offset = 1\n",
    "    \n",
    "    #massive bodies\n",
    "    M = 1.\n",
    "    m_p = 5e-5\n",
    "    sim.add(m=M)\n",
    "    sim.add(m=m_p,r=1.6e-4,a=a_p,e=0,inc=0.0001,f=0)\n",
    "    sim.N_active = sim.N\n",
    "    \n",
    "    #planetesimal - for extreme 'a' values, vx, vy may need to be fiddled with..\n",
    "    fac = 0.3\n",
    "    if a_p < 1:\n",
    "        fac = 0.7\n",
    "    rr = 1e-3\n",
    "    dr = rr*a_p*a_p*np.sin(theta - np.pi/2.)\n",
    "    f = rr*np.sin(theta)\n",
    "    vy = np.sin(theta)*(2*sim.G*m_p/rr)**0.5 / a_p**fac\n",
    "    vx = 1.2*np.cos(theta)*(2*sim.G*m_p/rr)**0.5 / a_p\n",
    "    m_pl = 1e-8\n",
    "    sim.add(m=m_pl,r=4e-5,a=sim.particles[sim.N_active-1].x+dr,f=f)\n",
    "    sim.particles[sim.N-1].vx -= vx\n",
    "    sim.particles[sim.N-1].vy += vy\n",
    "    \n",
    "    #final physics initialization stuff\n",
    "    sim.move_to_com()\n",
    "    E0 = sim.calculate_energy()\n",
    "    \n",
    "    start_t = timing.time()\n",
    "    sim.integrate(tmax)\n",
    "    time = timing.time() - start_t\n",
    "    E1 = sim.calculate_energy() - E0\n",
    "    dE = np.fabs(E1/E0)\n",
    "    \n",
    "    #recall time is in units of yr/2pi\n",
    "    return HSF, dt/(2*np.pi), a_p, dE, time, dE/np.fabs(E1), M, m_p, m_pl"
   ]
  },
  {
   "cell_type": "markdown",
   "metadata": {},
   "source": [
    "### Choose Parameter Space\n",
    "Now let's choose which variable we're investigating, either $dt$ or $HSF$, and set up the parameter space that we're going to search."
   ]
  },
  {
   "cell_type": "code",
   "execution_count": 7,
   "metadata": {
    "collapsed": false
   },
   "outputs": [],
   "source": [
    "choice = \"a\"     #can be \"HSF\", \"dt\", or \"a\"\n",
    "n_runs = 200       #number of searches in the parameter space\n",
    "\n",
    "#set up parameter space\n",
    "ones = np.ones(n_runs)\n",
    "if choice == \"HSF\":\n",
    "    dt = 1e-3*ones\n",
    "    HSF = np.logspace(-2,1.7,n_runs)\n",
    "    a = ones\n",
    "elif choice == \"dt\":\n",
    "    HSF = 6*ones\n",
    "    dt = np.logspace(-5,0,n_runs)\n",
    "    a = ones\n",
    "elif choice == \"a\":\n",
    "    HSF = 6*ones\n",
    "    dt = 1e-3*ones\n",
    "    a = np.logspace(-1,1,n_runs)\n",
    "params = zip(HSF,dt,a,np.random.random(n_runs)*np.pi)"
   ]
  },
  {
   "cell_type": "markdown",
   "metadata": {},
   "source": [
    "### Calculate\n",
    "Calculate the results. This might take a minute or two."
   ]
  },
  {
   "cell_type": "code",
   "execution_count": 8,
   "metadata": {
    "collapsed": false
   },
   "outputs": [],
   "source": [
    "import multiprocessing as mp\n",
    "import pandas as pd\n",
    "\n",
    "def execute(pars):\n",
    "    return problem(pars[0],pars[1],pars[2],pars[3])\n",
    "\n",
    "if __name__== '__main__':\n",
    "    results = []\n",
    "    pool = mp.Pool(processes=len(params))\n",
    "    results.append(pool.map(execute, params))\n",
    "    pool.close()\n",
    "    pool.join()\n",
    "    data = pd.DataFrame(results[0],columns=[\"HSF\",\"dt\",\"a\",\"dE\",\"time\",\"scale_factor\",\"M\",\"m_p\",\"m_pl\"])"
   ]
  },
  {
   "cell_type": "markdown",
   "metadata": {},
   "source": [
    "### Plot\n",
    "Great, now let's plot the results, showing the energy error and elapsed time as a function of our chosen variable."
   ]
  },
  {
   "cell_type": "code",
   "execution_count": 16,
   "metadata": {
    "collapsed": false
   },
   "outputs": [
    {
     "data": {
      "image/png": "[encoded data removed]",
      "text/plain": [
       "<matplotlib.figure.Figure at 0x10a022590>"
      ]
     },
     "metadata": {},
     "output_type": "display_data"
    }
   ],
   "source": [
    "import matplotlib.pyplot as plt\n",
    "%matplotlib inline\n",
    "\n",
    "if choice == \"HSF\":\n",
    "    x = data[\"HSF\"]\n",
    "    SS_params = data.loc[0,[\"dt\",\"a\",\"M\",\"m_p\",\"m_pl\"]].values\n",
    "elif choice == \"dt\":\n",
    "    x = data[\"dt\"]\n",
    "    SS_params = data.loc[0,[\"HSF\",\"a\",\"M\",\"m_p\",\"m_pl\"]].values\n",
    "elif choice == \"a\":\n",
    "    x = data[\"a\"]\n",
    "    SS_params = data.loc[0,[\"HSF\",\"dt\",\"M\",\"m_p\",\"m_pl\"]].values\n",
    "    \n",
    "fig, axes = plt.subplots(nrows=1, ncols=2, sharex=True, figsize=(12,5))\n",
    "plt.subplots_adjust(wspace=0.3)\n",
    "axes[0].plot(x,data[\"dE\"],'.',label=\"data\")\n",
    "axes[0].set_ylim([1e-16,10*max(data[\"dE\"])])\n",
    "axes[0].set_xlim([min(x)/10., max(x)*10])\n",
    "axes[0].set_xlabel(choice,fontsize=13)\n",
    "axes[0].set_ylabel('dE',fontsize=13)\n",
    "axes[0].set_yscale('log')\n",
    "axes[0].set_xscale('log')\n",
    "theory(SS_params,x,choice,data[\"scale_factor\"].mean())\n",
    "axes[0].legend(loc='upper right',prop={'size':10}, numpoints=1, markerscale=2)\n",
    "axes[1].plot(x,data[\"time\"],'.')\n",
    "axes[1].set_ylim([0.8*data[\"time\"].min(),1.2*data[\"time\"].max()])\n",
    "axes[1].set_xlabel(choice,fontsize=13)\n",
    "axes[1].set_ylabel('Elapsed time (seconds)',fontsize=13)\n",
    "axes[1].set_yscale('log')"
   ]
  },
  {
   "cell_type": "markdown",
   "metadata": {
    "collapsed": true
   },
   "source": [
    "## Extension to N-bodies in 3D\n",
    "We now extend these results back to 3D for N-bodies, showing that HERMES is unbiased and has a total simulation error proportional to:  \n",
    "$E_{scheme,tot}^{HERMES} = E_{floor}^{WH} * CE^{1/2}$\n",
    "\n",
    "First, we need to make a routine that can track the number of close encounters entering and leaving mini over time."
   ]
  },
  {
   "cell_type": "code",
   "execution_count": 7,
   "metadata": {
    "collapsed": false
   },
   "outputs": [],
   "source": [
    "def count_CE(mini, N_CE, tot_CE, in_mini):\n",
    "#check if particle just entered or already exists in mini\n",
    "    tempN_CE = N_CE\n",
    "    for i in range(mini.N_active,mini.N):\n",
    "        mini_id = mini.particles[i].hash\n",
    "        found_in_mini = 0\n",
    "        for j in range(0,tempN_CE):\n",
    "            if in_mini[j] == mini_id:\n",
    "                found_in_mini = 1\n",
    "        if found_in_mini == 0:             #particle must have just entered mini\n",
    "            in_mini[N_CE] = mini_id\n",
    "            N_CE += 1\n",
    "            tot_CE += 1\n",
    "            \n",
    "#check if particle left mini\n",
    "    tempN_CE = N_CE\n",
    "    for i in range(0,tempN_CE):\n",
    "        id = in_mini[i]\n",
    "        found_in_mini = 0\n",
    "        for j in range(mini.N_active, mini.N):\n",
    "            if mini.particles[j].hash == id:\n",
    "                found_in_mini = 1\n",
    "        if found_in_mini == 0:             #couldn't find in mini, must have left\n",
    "            N_CE -= 1\n",
    "            for k in range(i,tempN_CE-1):\n",
    "                in_mini[k] = in_mini[k+1]\n",
    "            in_mini[tempN_CE] = 0\n",
    "    \n",
    "    return N_CE, tot_CE, in_mini"
   ]
  },
  {
   "cell_type": "markdown",
   "metadata": {},
   "source": [
    "Next, let's make the problem we're going to integrate."
   ]
  },
  {
   "cell_type": "code",
   "execution_count": 24,
   "metadata": {
    "collapsed": true
   },
   "outputs": [],
   "source": [
    "def rand_powerlaw(min_v, max_v, slope):\n",
    "    y = np.random.uniform()\n",
    "    if slope == -1:\n",
    "        return np.exp(y*np.log(max_v/min_v) + np.log(min_v))\n",
    "    else:\n",
    "        pow_max = pow(max_v, slope+1.)\n",
    "        pow_min = pow(min_v, slope+1.)\n",
    "        return pow((pow_max-pow_min)*y + pow_min, 1./(slope+1.))\n",
    "\n",
    "def rand_uniform(minimum, maximum):\n",
    "    return np.random.uniform()*(maximum-minimum)+minimum\n",
    "\n",
    "def rand_rayleigh(sigma):\n",
    "    return sigma*np.sqrt(-2*np.log(np.random.uniform()))\n",
    "\n",
    "def problem2(tmax, HSF, dt, a_planet, m_planet, m_pl, seed): \n",
    "    sim = rebound.Simulation()\n",
    "    \n",
    "    #integrator options\n",
    "    sim.integrator = \"hermes\"\n",
    "    sim.ri_hermes.hill_switch_factor = HSF\n",
    "    sim.ri_hermes.radius_switch_factor = 20.\n",
    "    sim.dt = dt\n",
    "    sim.testparticle_type = 1\n",
    "    sim.usleep = -1\n",
    "    \n",
    "    #collision and boundary options\n",
    "    sim.collision = \"direct\"\n",
    "    sim.collision_resolve = \"hardsphere\"\n",
    "    sim.boundary = \"open\"\n",
    "    boxsize = 5\n",
    "    sim.configure_box(boxsize)\n",
    "    sim.track_energy_offset = 1\n",
    "    \n",
    "    #add massive bodies\n",
    "    sim.add(m=1.,r=0.005)\n",
    "    sim.add(m=m_planet,r=2e-4,a=a_planet,e=0,inc=0.0001, id=sim.N)\n",
    "    \n",
    "    sim.N_active = sim.N\n",
    "    \n",
    "    #planetesimal disk\n",
    "    N_pl = 200\n",
    "    disk_min_a = a_planet - 0.02\n",
    "    disk_max_a = a_planet + 0.02\n",
    "    while sim.N < (N_pl + sim.N_active):\n",
    "        a = rand_powerlaw(disk_min_a, disk_max_a, 0.5)\n",
    "        inc = rand_rayleigh(0.00001)\n",
    "        #e = rand_rayleigh(0.01)\n",
    "        Omega = rand_uniform(0,2*np.pi)\n",
    "        omega = rand_uniform(0,2*np.pi)\n",
    "        f = rand_uniform(0,2*np.pi)\n",
    "        sim.add(m=m_pl, r=4e-5, a=a, e=0, inc=inc, Omega=Omega, omega=omega, f=f, id=sim.N)\n",
    "    \n",
    "    #final physics initialization stuff\n",
    "    sim.move_to_com()\n",
    "    E0 = sim.calculate_energy()\n",
    "    \n",
    "    #CE initialization stuff\n",
    "    N_CE = 0\n",
    "    tot_CE = 0\n",
    "    in_mini = np.zeros(sim.N)\n",
    "    \n",
    "    while sim.t < tmax:\n",
    "        sim.integrate(sim.t + sim.dt)\n",
    "        N_CE, tot_CE, in_mini = count_CE(sim.ri_hermes.mini.contents, N_CE, tot_CE, in_mini)\n",
    "    \n",
    "    Ef = sim.calculate_energy()\n",
    "    dE = abs((Ef - E0)/E0)\n",
    "    return dE, tot_CE, dE/abs(Ef - E0)"
   ]
  },
  {
   "cell_type": "markdown",
   "metadata": {},
   "source": [
    "Great! Now let's set up our parameter space to search and run it."
   ]
  },
  {
   "cell_type": "code",
   "execution_count": 26,
   "metadata": {
    "collapsed": false
   },
   "outputs": [],
   "source": [
    "#setup parameters\n",
    "n_runs = 40\n",
    "time = np.logspace(1,2,n_runs)\n",
    "seed = np.random.randint(0,1000,n_runs)\n",
    "\n",
    "#physical parameters\n",
    "o = np.ones(n_runs)\n",
    "HSF = 6\n",
    "dt = 0.015\n",
    "a_planet = 1\n",
    "m_planet = 5e-5\n",
    "m_pl = 2.5e-7\n",
    "\n",
    "params = zip(time,HSF*o,dt*o,a_planet*o,m_planet*o,m_pl*o,seed)"
   ]
  },
  {
   "cell_type": "code",
   "execution_count": 19,
   "metadata": {
    "collapsed": false
   },
   "outputs": [],
   "source": [
    "def execute(pars):\n",
    "    return problem2(pars[0],pars[1],pars[2],pars[3],pars[4],pars[5],pars[6])\n",
    "\n",
    "if __name__== '__main__':\n",
    "    results = []\n",
    "    pool = mp.Pool(processes=len(params))\n",
    "    results.append(pool.map(execute, params))\n",
    "    pool.close()\n",
    "    pool.join()"
   ]
  },
  {
   "cell_type": "markdown",
   "metadata": {},
   "source": [
    "Finally, let's plot our results."
   ]
  },
  {
   "cell_type": "code",
   "execution_count": 27,
   "metadata": {
    "collapsed": false
   },
   "outputs": [
    {
     "data": {
      "text/plain": [
       "<matplotlib.text.Text at 0x112853110>"
      ]
     },
     "execution_count": 27,
     "metadata": {},
     "output_type": "execute_result"
    },
    {
     "data": {
      "image/png": "[encoded data removed]",
      "text/plain": [
       "<matplotlib.figure.Figure at 0x112846990>"
      ]
     },
     "metadata": {},
     "output_type": "display_data"
    }
   ],
   "source": [
    "dE, CE, scaling_factor = zip(*results[0])\n",
    "\n",
    "plt.plot(CE, dE, '.')\n",
    "\n",
    "#theory\n",
    "dt /= 2*np.pi\n",
    "rhHSF = HSF*a_planet*(m_planet/3.)**(1./3.)\n",
    "M3 = m_planet*m_pl\n",
    "tau2 = dt*dt / 12.\n",
    "term1 = M3/(a_planet*rhHSF**3)\n",
    "term2 = m_planet*m_planet*m_pl/(rhHSF**4)\n",
    "term3 = -M3/(2*rhHSF*((a_planet**2 - rhHSF**2)**1.5))\n",
    "termp = 3*M3/((a_planet*rhHSF**3))\n",
    "theory = (term1 + term2 + term3)*tau2*np.mean(scaling_factor)\n",
    "plt.plot(CE, theory*np.sqrt(CE),'+-',label='$E^{WH}_{floor} * \\sqrt{CE}$')\n",
    "plt.plot(CE, theory*np.array(CE).astype('float'),'<-',markeredgecolor='none',label='$E^{WH}_{floor} * CE$')\n",
    "\n",
    "#final plotting details\n",
    "plt.yscale('log')\n",
    "plt.xscale('log')\n",
    "plt.ylabel('Fractional Energy Error', fontsize = 13)\n",
    "plt.xlabel('Number of Close Encounters', fontsize = 13)\n"
   ]
  },
  {
   "cell_type": "code",
   "execution_count": null,
   "metadata": {
    "collapsed": true
   },
   "outputs": [],
   "source": []
  }
 ],
 "metadata": {
  "kernelspec": {
   "display_name": "Python 2",
   "language": "python",
   "name": "python2"
  },
  "language_info": {
   "codemirror_mode": {
    "name": "ipython",
    "version": 2
   },
   "file_extension": ".py",
   "mimetype": "text/x-python",
   "name": "python",
   "nbconvert_exporter": "python",
   "pygments_lexer": "ipython2",
   "version": "2.7.11"
  }
 },
 "nbformat": 4,
 "nbformat_minor": 0
}
