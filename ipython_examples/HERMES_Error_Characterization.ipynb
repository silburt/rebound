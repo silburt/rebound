{
 "cells": [
  {
   "cell_type": "markdown",
   "metadata": {},
   "source": [
    "# Error Characterization of HERMES\n",
    "Understanding the sources of error of an integrator is essential for many reasons. It makes debugging much faster, adding new modules much easier, and operation more efficient.  "
   ]
  },
  {
   "cell_type": "code",
   "execution_count": 1,
   "metadata": {
    "collapsed": true
   },
   "outputs": [],
   "source": [
    "import rebound\n",
    "import numpy as np\n",
    "import time as timing"
   ]
  },
  {
   "cell_type": "markdown",
   "metadata": {},
   "source": [
    "## Setup\n",
    "First let's set up the problem consisting of a central star, massive planet and passive planetesimal. The planetesimal begins inside the $HSF$ boundary of the planet so that the simulation begins in pure IAS15 mode. We initialize the planetesimal such that the planet-planetesimal distance grows with time. Soon after, the planetesimal leaves the $HSF$ boundary and the simulation finishes in pure WHFAST mode. \n",
    "\n",
    "In Silburt et al. (2016) we calculate theoretical predictions for the error introduced, and we input these predictions so we can directly compare to our numerical tests."
   ]
  },
  {
   "cell_type": "code",
   "execution_count": 2,
   "metadata": {
    "collapsed": false
   },
   "outputs": [],
   "source": [
    "def theory(sys_params, x, choice, scale_factor):\n",
    "    HSF, dt, a, M, m_p, m_pl = sys_params\n",
    "    \n",
    "    if choice == \"dt\":\n",
    "        dt = x\n",
    "    elif choice == \"HSF\":\n",
    "        HSF = x\n",
    "    elif choice == \"a\":\n",
    "        a = x\n",
    "    elif choice == \"m_p\":\n",
    "        m_p = x\n",
    "    elif choice == \"m_pl\":\n",
    "        m_pl = x\n",
    "        \n",
    "    rhHSF = HSF*a*(m_p/(3*M))**(1./3.)\n",
    "    coeff = (dt**2 / 12.)*m_p*m_pl/(rhHSF**2)\n",
    "    term1 = 1/(a*rhHSF)\n",
    "    term2 = m_p/(rhHSF**2)\n",
    "    term3 = -rhHSF/(2*((a*a - rhHSF**2)**1.5))\n",
    "    theoretical = (term1 + term2 + term3)*coeff*scale_factor\n",
    "    axes[0].plot(x, theoretical, '+-',label='R3B theory')"
   ]
  },
  {
   "cell_type": "code",
   "execution_count": 14,
   "metadata": {
    "collapsed": false
   },
   "outputs": [],
   "source": [
    "def problem(HSF, dt, a_p, m_p, m_pl, theta):\n",
    "    #initialize the simulation\n",
    "    sim = rebound.Simulation()\n",
    "    \n",
    "    #integrator options\n",
    "    sim.integrator = \"hermes\"\n",
    "    sim.ri_hermes.hill_switch_factor = HSF\n",
    "    sim.ri_hermes.radius_switch_factor = 20.\n",
    "    sim.dt = dt\n",
    "    sim.testparticle_type = 1\n",
    "    tmax = 7. * a_p**1.5\n",
    "    sim.usleep = -1\n",
    "\n",
    "    #collision and boundary options\n",
    "    sim.collision = \"direct\"\n",
    "    sim.collision_resolve = \"merge\"\n",
    "    sim.track_energy_offset = 1\n",
    "    sim.collision_resolve_keep_sorted = 1\n",
    "    \n",
    "    #massive bodies\n",
    "    M = 1.\n",
    "    sim.add(m=M)\n",
    "    sim.add(m=m_p,r=1.6e-4,a=a_p,e=0,inc=0.0001,f=0)\n",
    "    sim.N_active = sim.N\n",
    "    \n",
    "    #planetesimal\n",
    "    rr = 1e-3\n",
    "    dr = rr*a_p*a_p*np.sin(theta - np.pi/2.)\n",
    "    sim.add(m=m_pl,r=4e-5,a=sim.particles[sim.N_active-1].x+dr,f=rr*np.sin(theta))\n",
    "    \n",
    "    #planetesimal trajectory modification\n",
    "    escape_velocity = (2*sim.G*m_p/rr)**0.5\n",
    "    fac = 0.3    #numerical factor to make this work for all ranges of 'a'\n",
    "    if a_p < 1:\n",
    "        fac = 0.7\n",
    "    vx = np.cos(theta)*escape_velocity / a_p\n",
    "    vy = np.sin(theta)*escape_velocity / a_p**fac\n",
    "    sim.particles[sim.N-1].vx -= vx + 0.2*vx*np.cos(theta) #slight boost to increase planet-planetesimal distance\n",
    "    sim.particles[sim.N-1].vy += vy + 0.2*vy*np.sin(theta)\n",
    "    \n",
    "    #final physics initialization stuff\n",
    "    sim.move_to_com()\n",
    "    E0 = sim.calculate_energy()\n",
    "    dE = []\n",
    "    times = np.linspace(0,tmax,150)\n",
    "    \n",
    "    start_t = timing.time()\n",
    "    for t in times:\n",
    "        sim.integrate(tmax)\n",
    "        dE.append(np.fabs((sim.calculate_energy() - E0)/E0))\n",
    "    time = timing.time() - start_t\n",
    "    dE_max = max(dE)\n",
    "    \n",
    "    #recall time is in units of yr/2pi\n",
    "    return HSF, dt/(2*np.pi), a_p, dE_max, time, np.fabs(dE_max/E0)/dE_max, M, m_p, m_pl"
   ]
  },
  {
   "cell_type": "markdown",
   "metadata": {},
   "source": [
    "### Choose Parameter Space\n",
    "Now let's choose which variable we're investigating, either $dt$ or $HSF$, and set up the parameter space that we're going to search."
   ]
  },
  {
   "cell_type": "code",
   "execution_count": 18,
   "metadata": {
    "collapsed": false
   },
   "outputs": [],
   "source": [
    "choice = \"HSF\"     #can be \"HSF\", \"dt\", \"a\", \"m_p\", or \"m_pl\"\n",
    "n_runs = 150       #number of searches in the parameter space\n",
    "\n",
    "#set up parameter space\n",
    "ones = np.ones(n_runs)\n",
    "dt = 1e-3*ones\n",
    "HSF = 6.*ones\n",
    "a = ones\n",
    "m_p = 5e-5*ones\n",
    "m_pl = 1e-8*ones\n",
    "theta = np.random.uniform(low=0.15,high=0.85,size=n_runs)*np.pi\n",
    "\n",
    "if choice == \"HSF\":\n",
    "    HSF = np.logspace(-2,1.7,n_runs)\n",
    "elif choice == \"dt\":\n",
    "    dt = np.logspace(-5,0,n_runs)\n",
    "elif choice == \"a\":\n",
    "    a = np.logspace(-1,1,n_runs)\n",
    "elif choice == \"m_p\":\n",
    "    m_p = np.logspace(-3,-6,n_runs)\n",
    "elif choice == \"m_pl\":\n",
    "    m_pl = np.logspace(-10,-5,n_runs)\n",
    "    \n",
    "params = zip(HSF,dt,a,m_p,m_pl,theta)"
   ]
  },
  {
   "cell_type": "markdown",
   "metadata": {},
   "source": [
    "### Calculate\n",
    "Calculate the results. This might take a minute or two."
   ]
  },
  {
   "cell_type": "code",
   "execution_count": 19,
   "metadata": {
    "collapsed": false
   },
   "outputs": [],
   "source": [
    "import multiprocessing as mp\n",
    "import pandas as pd\n",
    "\n",
    "def execute(pars):\n",
    "    return problem(pars[0],pars[1],pars[2],pars[3],pars[4],pars[5])\n",
    "\n",
    "if __name__== '__main__':\n",
    "    results = []\n",
    "    pool = mp.Pool(processes=len(params))\n",
    "    results.append(pool.map(execute, params))\n",
    "    pool.close()\n",
    "    pool.join()\n",
    "    data = pd.DataFrame(results[0],columns=[\"HSF\",\"dt\",\"a\",\"dE\",\"time\",\"scale_factor\",\"M\",\"m_p\",\"m_pl\"])"
   ]
  },
  {
   "cell_type": "markdown",
   "metadata": {},
   "source": [
    "### Plot\n",
    "Great, now let's plot the results, showing the energy error and elapsed time as a function of our chosen variable."
   ]
  },
  {
   "cell_type": "code",
   "execution_count": 20,
   "metadata": {
    "collapsed": false
   },
   "outputs": [
    {
     "data": {
      "image/png": "[encoded data removed]",
      "text/plain": [
       "<matplotlib.figure.Figure at 0x10b6349d0>"
      ]
     },
     "metadata": {},
     "output_type": "display_data"
    }
   ],
   "source": [
    "import matplotlib.pyplot as plt\n",
    "%matplotlib inline\n",
    "\n",
    "if choice == \"HSF\":\n",
    "    x = data[\"HSF\"]\n",
    "elif choice == \"dt\":\n",
    "    x = data[\"dt\"]\n",
    "elif choice == \"a\":\n",
    "    x = data[\"a\"]\n",
    "elif choice == \"m_p\":\n",
    "    x = data[\"m_p\"]\n",
    "elif choice == \"m_pl\":\n",
    "    x = data[\"m_pl\"]\n",
    "sys_params = data.loc[0,[\"HSF\",\"dt\",\"a\",\"M\",\"m_p\",\"m_pl\"]].values\n",
    "    \n",
    "fig, axes = plt.subplots(nrows=1, ncols=2, sharex=True, figsize=(12,5))\n",
    "plt.subplots_adjust(wspace=0.3)\n",
    "axes[0].plot(x,data[\"dE\"],'.',label=\"data\")\n",
    "axes[0].set_ylim([1e-16,10*max(data[\"dE\"])])\n",
    "axes[0].set_xlim([min(x)/10., max(x)*10])\n",
    "axes[0].set_xlabel(choice,fontsize=13)\n",
    "axes[0].set_ylabel('dE',fontsize=13)\n",
    "axes[0].set_yscale('log')\n",
    "axes[0].set_xscale('log')\n",
    "theory(sys_params,x,choice,data[\"scale_factor\"].mean())\n",
    "axes[0].legend(loc='upper right',prop={'size':10}, numpoints=1, markerscale=2)\n",
    "axes[1].plot(x,data[\"time\"],'.')\n",
    "axes[1].set_ylim([0.8*data[\"time\"].min(),1.2*data[\"time\"].max()])\n",
    "axes[1].set_xlabel(choice,fontsize=13)\n",
    "axes[1].set_ylabel('Elapsed time (seconds)',fontsize=13)\n",
    "axes[1].set_yscale('log')\n",
    "plt.savefig('HERMES_Error_'+choice+'.png')"
   ]
  },
  {
   "cell_type": "code",
   "execution_count": null,
   "metadata": {
    "collapsed": true
   },
   "outputs": [],
   "source": []
  }
 ],
 "metadata": {
  "kernelspec": {
   "display_name": "Python 2",
   "language": "python",
   "name": "python2"
  },
  "language_info": {
   "codemirror_mode": {
    "name": "ipython",
    "version": 2
   },
   "file_extension": ".py",
   "mimetype": "text/x-python",
   "name": "python",
   "nbconvert_exporter": "python",
   "pygments_lexer": "ipython2",
   "version": "2.7.11"
  }
 },
 "nbformat": 4,
 "nbformat_minor": 0
}
