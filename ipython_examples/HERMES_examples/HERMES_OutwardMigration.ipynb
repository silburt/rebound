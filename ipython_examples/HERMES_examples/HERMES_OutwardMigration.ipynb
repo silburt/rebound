{
 "cells": [
  {
   "cell_type": "markdown",
   "metadata": {},
   "source": [
    "# Outward Migration in a Planetesimal Disk\n",
    "Here we simulate the outward migration of a planet embedded in a planetesimal disk. Like Neptune in the Nice Model, *consistent* outward migration in a planetesimal disk requires a massive inner planet to eject/capture planetesimals shepherded inwards by the migrating outer planet. Otherwise, the planetesimals shepherded inwards can re-interact with the migrating planet and negate (or even reverse!) any outward progress previously made. "
   ]
  },
  {
   "cell_type": "code",
   "execution_count": 39,
   "metadata": {
    "collapsed": true
   },
   "outputs": [],
   "source": [
    "import rebound\n",
    "import numpy as np\n",
    "import time as timing\n",
    "import os"
   ]
  },
  {
   "cell_type": "markdown",
   "metadata": {},
   "source": [
    "## Setup\n",
    "First we need to setup the problem with all the various functions we'll need."
   ]
  },
  {
   "cell_type": "code",
   "execution_count": 118,
   "metadata": {
    "collapsed": true
   },
   "outputs": [],
   "source": [
    "#various powerlaws we'll need\n",
    "def rand_powerlaw(slope, min_v, max_v):\n",
    "    y = np.random.uniform()\n",
    "    pow_max = pow(max_v, slope+1.)\n",
    "    pow_min = pow(min_v, slope+1.)\n",
    "    return pow((pow_max-pow_min)*y + pow_min, 1./(slope+1.))\n",
    "\n",
    "def rand_uniform(minimum, maximum):\n",
    "    return np.random.uniform()*(maximum-minimum)+minimum\n",
    "\n",
    "def rand_rayleigh(sigma):\n",
    "    return sigma*np.sqrt(-2*np.log(np.random.uniform()))"
   ]
  },
  {
   "cell_type": "code",
   "execution_count": null,
   "metadata": {
    "collapsed": true
   },
   "outputs": [],
   "source": [
    "def get_eidist(sim,name):\n",
    "    "
   ]
  },
  {
   "cell_type": "code",
   "execution_count": 119,
   "metadata": {
    "collapsed": true
   },
   "outputs": [],
   "source": [
    "#calculating the semi-major axis\n",
    "def get_a(sim,planet_index):\n",
    "    particles = sim.particles\n",
    "    com = sim.calculate_com()\n",
    "    p = particles[planet_index]\n",
    "    mu = sim.G*(com.m+p.m)\n",
    "    dvx = p.vx - com.vx\n",
    "    dvy = p.vy - com.vy\n",
    "    dvz = p.vz - com.vz\n",
    "    v2 = dvx*dvx + dvy*dvy + dvz*dvz\n",
    "    dx = p.x - com.x\n",
    "    dy = p.y - com.y\n",
    "    dz = p.z - com.z\n",
    "    r = np.sqrt(dx*dx + dy*dy + dz*dz)\n",
    "    return -mu/(v2 - 2.*mu/r)"
   ]
  },
  {
   "cell_type": "code",
   "execution_count": 120,
   "metadata": {
    "collapsed": false
   },
   "outputs": [],
   "source": [
    "#The outputs for the integrator\n",
    "def get_outputs(sim,E0,start_t):\n",
    "    dE = abs((sim.calculate_energy() - E0)/E0)\n",
    "    current_t = timing.time()-start_t\n",
    "    a = get_a(sim,sim.N_active-1)\n",
    "    N_mini = 0\n",
    "    #if(sim.integrator == \"hybarid\"):\n",
    "    #    N_mini = sim.ri_hybarid.mini.N\n",
    "    return sim.t, dE, a, sim.N, N_mini, current_t, sim.ri_hybarid.timestep_too_large_warning"
   ]
  },
  {
   "cell_type": "code",
   "execution_count": 123,
   "metadata": {
    "collapsed": false
   },
   "outputs": [],
   "source": [
    "#The Kirsh problem itself\n",
    "def problem(HSR, dt, seed, run):\n",
    "    \n",
    "    #initialization stuff\n",
    "    filename = \"output/Kirsh_HSR\"+str(HSR)+\"_dt\"+str(dt)+\"_\"+str(run)+\".txt\"\n",
    "    try:\n",
    "        os.remove(filename)\n",
    "    except OSError:\n",
    "        pass\n",
    "    np.random.seed(seed=seed)\n",
    "    write_t = dt      #writing to file: ini\n",
    "    write_log = 1.01  #writing to file: log output\n",
    "    write_lin = 100   #writing to file: linear output every write_lin years\n",
    "\n",
    "    #initialize the simulation\n",
    "    sim = rebound.Simulation()\n",
    "    \n",
    "    #integrator options\n",
    "    sim.integrator = \"hybarid\"\n",
    "    sim.ri_hybarid.switch_radius = HSR\n",
    "    sim.ri_hybarid.CE_radius = 20.\n",
    "    sim.dt = dt\n",
    "    sim.testparticle_type = 1\n",
    "    #tmax = 1e5*6.283\n",
    "    tmax = 1000*6.283\n",
    "\n",
    "    #collision and boundary options\n",
    "    sim.collision = \"direct\"\n",
    "    sim.collision_resolve = \"merge\"\n",
    "    sim.boundary = \"open\"\n",
    "    boxsize = 80.\n",
    "    sim.configure_box(boxsize)\n",
    "    sim.collisions_track_dE = 1\n",
    "    \n",
    "    #massive bodies\n",
    "    m_earth = 0.000003003\n",
    "    a_planet = 25\n",
    "    m_planet = m_earth*2.3\n",
    "    r_planet = 0.0000788215 #radius of particle using 2g/cm^3 (AU)\n",
    "    sim.add(m=1.)\n",
    "    sim.add(m=m_planet,r=r_planet,a=a_planet,e=0,inc=0.0001)\n",
    "    \n",
    "    sim.N_active = sim.N\n",
    "    \n",
    "    #planetesimal disk\n",
    "    m_pl = m_planet/600.\n",
    "    #N_pl = 230*m_earth/m_pl\n",
    "    N_pl = 50\n",
    "    r_pl = 0.00000934532\n",
    "    disk_min_a = a_planet - 10.5\n",
    "    disk_max_a = a_planet + 10.5\n",
    "    #while sim.N < (N_pl + sim.N_active):\n",
    "    for i in xrange(0,10):\n",
    "        a = rand_powerlaw(1, disk_min_a, disk_max_a)\n",
    "        e = rand_rayleigh(0.01)\n",
    "        inc = rand_rayleigh(0.05)\n",
    "        Omega = rand_uniform(0,2*np.pi)\n",
    "        omega = rand_uniform(0,2*np.pi)\n",
    "        f = rand_uniform(0,2*np.pi)\n",
    "        sim.add(m=m_pl, r=r_pl, a=a, e=e, inc=inc, Omega=Omega, omega=omega, f=f)\n",
    "    \n",
    "    #final physics initialization stuff\n",
    "    sim.move_to_com()\n",
    "    E0 = sim.calculate_energy()\n",
    "    \n",
    "    start_t = timing.time()\n",
    "    while sim.t < tmax:\n",
    "        sim.integrate(write_t)\n",
    "        with open(filename, \"a\") as writefile:\n",
    "            writefile.write(','.join(map(str, get_outputs(sim,E0,start_t))) +\"\\n\")\n",
    "        write_t = min(write_t*write_log,write_t*write_lin)\n",
    "        \n",
    "    print(\"Run %d complete in %.2f s with dE=%e.\"% (run,timing.time()-start_t,abs((sim.calculate_energy() - E0)/E0)))"
   ]
  },
  {
   "cell_type": "markdown",
   "metadata": {},
   "source": [
    "## Run the problem\n",
    "Now let's run the problem, making use of the multiprocessing module. Beware, executing the code below will take a long time!"
   ]
  },
  {
   "cell_type": "code",
   "execution_count": 125,
   "metadata": {
    "collapsed": false
   },
   "outputs": [
    {
     "name": "stdout",
     "output_type": "stream",
     "text": [
      "Run 5 complete in 0.87 s with dE=5.231852e-12.\n",
      "Run 2 complete in 0.87 s with dE=2.789033e-12.\n",
      "Run 4 complete in 0.91 s with dE=3.053391e-11.\n",
      "Run 1 complete in 0.86 s with dE=2.273977e-11.\n",
      "Run 0 complete in 0.93 s with dE=1.372397e-11.\n",
      "Run 3 complete in 1.06 s with dE=8.430368e-12.\n"
     ]
    }
   ],
   "source": [
    "#Run the problem\n",
    "import multiprocessing as mp\n",
    "dt = 12.76\n",
    "HSR = 3\n",
    "n_runs = 6\n",
    "params = []\n",
    "for i in range(n_runs):\n",
    "    params.append((HSR,dt,int(np.random.random()*1000),i))\n",
    "\n",
    "def execute(pars):\n",
    "    problem(pars[0],pars[1],pars[2],pars[3])\n",
    "\n",
    "if __name__== '__main__':\n",
    "    pool = mp.Pool(processes=len(params))\n",
    "    pool.map(execute, params)\n",
    "    pool.close()\n",
    "    pool.join()"
   ]
  },
  {
   "cell_type": "markdown",
   "metadata": {},
   "source": [
    "## Plot the results\n",
    "It's time to plot our results, which were saved in .txt files. "
   ]
  },
  {
   "cell_type": "code",
   "execution_count": 108,
   "metadata": {
    "collapsed": true
   },
   "outputs": [],
   "source": [
    "def get_file_len(fname):\n",
    "    with open(fname) as f:\n",
    "        for i, l in enumerate(f):\n",
    "            pass\n",
    "    return i + 1"
   ]
  },
  {
   "cell_type": "code",
   "execution_count": 127,
   "metadata": {
    "collapsed": false
   },
   "outputs": [
    {
     "data": {
      "image/png": "[encoded data removed]",
      "text/plain": [
       "<matplotlib.figure.Figure at 0x10a0d8090>"
      ]
     },
     "metadata": {},
     "output_type": "display_data"
    }
   ],
   "source": [
    "import matplotlib.pyplot as plt\n",
    "import glob\n",
    "%matplotlib inline\n",
    "filenames = \"output/Kirsh_HSR\"+str(HSR)+\"_dt\"+str(dt)\n",
    "files = glob.glob(filenames+\"_*.txt\")\n",
    "fn = len(files)\n",
    "\n",
    "#find array with shortest length\n",
    "flen = 1e10\n",
    "for f in files:\n",
    "    flen = min(flen,get_file_len(f))\n",
    "\n",
    "#read in data \n",
    "data = []\n",
    "for f in files:\n",
    "    try:\n",
    "        ff = open(f, 'r')\n",
    "        lines = ff.readlines()\n",
    "        data.append(lines)\n",
    "    except:\n",
    "        print \"couldnt read in data file \"+f\n",
    "\n",
    "#make arrays we'll need\n",
    "E = np.zeros(shape=(fn,flen))\n",
    "Eavg = np.zeros(flen)\n",
    "a = np.zeros(shape=(fn,flen))\n",
    "aavg = np.zeros(flen)\n",
    "Navg = np.zeros(flen)\n",
    "time = np.zeros(flen)\n",
    "\n",
    "#extract data\n",
    "for i in xrange(0,flen):\n",
    "    E_avg = np.zeros(fn)\n",
    "    a_avg = np.zeros(fn)\n",
    "    N_avg = np.zeros(fn)\n",
    "    for j in xrange(0,fn):\n",
    "        split = data[j][i].split(\",\")\n",
    "        E_avg[j] = float(split[1])\n",
    "        a_avg[j] = float(split[2])\n",
    "        N_avg[j] = float(split[3])\n",
    "        E[j][i] = E_avg[j]\n",
    "        a[j][i] = a_avg[j]\n",
    "    Eavg[i] = np.mean(E_avg)\n",
    "    aavg[i] = np.mean(a_avg)\n",
    "    Navg[i] = np.mean(N_avg)\n",
    "    time[i] = float(split[0])/6.283185\n",
    "\n",
    "#setup plot\n",
    "fig, axes = plt.subplots(nrows=3, ncols=1, figsize=(10,10))\n",
    "alpha = 0.5\n",
    "mint = min(time)\n",
    "maxt = max(time)\n",
    "axes[0].set_yscale('log')\n",
    "axes[0].set_xscale('log')\n",
    "axes[0].set_ylabel('dE')\n",
    "axes[0].set_xlim([mint,maxt])\n",
    "axes[1].set_xscale('log')\n",
    "axes[1].set_ylabel('Number of bodies')\n",
    "axes[1].set_xlim([mint,maxt])\n",
    "axes[2].set_ylabel('Semi-major axis')\n",
    "axes[2].set_xlabel('time (years)')\n",
    "\n",
    "#plot\n",
    "for i in xrange(0,fn):\n",
    "    axes[0].plot(time,E[i], '.', alpha=alpha, color='lightgreen')\n",
    "    axes[2].plot(time,a[i], '.', alpha=alpha, color='lightblue')\n",
    "axes[0].plot(time, Eavg, '.', markeredgecolor='none', color='green', label='avg.')\n",
    "axes[1].plot(time, Navg, '.', markeredgecolor='none', color='black', label='avg.')\n",
    "axes[2].plot(time, aavg, '.', markeredgecolor='none', color='blue', label='avg.')\n",
    "plt.savefig(filenames+\"_avg.pdf\") #save plot"
   ]
  },
  {
   "cell_type": "code",
   "execution_count": null,
   "metadata": {
    "collapsed": true
   },
   "outputs": [],
   "source": []
  }
 ],
 "metadata": {
  "kernelspec": {
   "display_name": "Python 2",
   "language": "python",
   "name": "python2"
  },
  "language_info": {
   "codemirror_mode": {
    "name": "ipython",
    "version": 2
   },
   "file_extension": ".py",
   "mimetype": "text/x-python",
   "name": "python",
   "nbconvert_exporter": "python",
   "pygments_lexer": "ipython2",
   "version": "2.7.11"
  }
 },
 "nbformat": 4,
 "nbformat_minor": 0
}
