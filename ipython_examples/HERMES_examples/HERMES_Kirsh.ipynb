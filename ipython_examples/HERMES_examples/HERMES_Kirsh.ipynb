{
 "cells": [
  {
   "cell_type": "code",
   "execution_count": 1,
   "metadata": {
    "collapsed": true
   },
   "outputs": [],
   "source": [
    "import rebound\n",
    "import numpy as np\n",
    "import multiprocessing as mp\n",
    "import time as timing"
   ]
  },
  {
   "cell_type": "code",
   "execution_count": 2,
   "metadata": {
    "collapsed": true
   },
   "outputs": [],
   "source": [
    "def r_power(slope, min_v, max_v): #powerlaw\n",
    "    y = np.random.uniform()\n",
    "    pow_max = pow(max_v, slope+1.)\n",
    "    pow_min = pow(min_v, slope+1.)\n",
    "    return pow((pow_max-pow_min)*y + pow_min, 1./(slope+1.))\n",
    "\n",
    "def r_uni(minimum, maximum): #uniform\n",
    "    return np.random.uniform()*(maximum-minimum)+minimum\n",
    "\n",
    "def r_ray(sigma): #rayleigh\n",
    "    return sigma*np.sqrt(-2*np.log(np.random.uniform()))"
   ]
  },
  {
   "cell_type": "code",
   "execution_count": 3,
   "metadata": {
    "collapsed": true
   },
   "outputs": [],
   "source": [
    "def get_a(sim,planet_index):\n",
    "    particles = sim.particles\n",
    "    com = sim.get_com\n",
    "    p = particles[planet_index]\n",
    "    mu = sim.G*(com.m+p.m)\n",
    "    dvx = p.vx - com.vx\n",
    "    dvy = p.vy - com.vy\n",
    "    dvz = p.vz - com.vz\n",
    "    v2 = dvx*dvx + dvy*dvy + dvz*dvz\n",
    "    dx = p.x - com.x\n",
    "    dy = p.y - com.y\n",
    "    dz = p.z - com.z\n",
    "    r = np.sqrt(dx*dx + dy*dy + dz*dz)\n",
    "    return -mu/(v2 - 2.*mu/r)"
   ]
  },
  {
   "cell_type": "code",
   "execution_count": 4,
   "metadata": {
    "collapsed": false
   },
   "outputs": [],
   "source": [
    "def get_outputs(sim,E0,start_t):\n",
    "    dE = fabs((sim.energy() - E0)/E0)\n",
    "    current_t = timing.time()-start_t\n",
    "    a = get_a(sim,sim.N_active-1)\n",
    "    N_mini = 0\n",
    "    if(sim.integrator == \"hybarid\"):\n",
    "        N_mini = sim.ri_hybarid.mini.N\n",
    "    return sim.t, dE, a, sim.N, N_mini, current_t"
   ]
  },
  {
   "cell_type": "code",
   "execution_count": 6,
   "metadata": {
    "collapsed": false
   },
   "outputs": [],
   "source": [
    "def problem(HSR, dt):\n",
    "    name = \"output/Kirsh_HSR\"+str(HSR)+\"_dt\"+str(dt)+\".txt\"\n",
    "    \n",
    "    sim = rebound.Simulation()\n",
    "\n",
    "    #integrator options\n",
    "    sim.integrator = \"hybarid\"\n",
    "    sim.ri_hybarid.switch_radius = HSR\n",
    "    sim.ri_hybarid.CE_radius = 20.\n",
    "    sim.dt = dt\n",
    "    sim.testparticle_type = 1\n",
    "    #tmax = 1e5*6.283\n",
    "    tmax = 10\n",
    "\n",
    "    #collision and boundary options\n",
    "    sim.collision = \"direct\"\n",
    "    sim.collision_resolve = \"merge\"\n",
    "    sim.boundary = \"open\"\n",
    "    boxsize = 3.\n",
    "    sim.configure_box(boxsize)\n",
    "    sim.collisions_track_dE = 1\n",
    "    \n",
    "    #massive bodies - scale earth later\n",
    "    m_earth = 0.000003003\n",
    "    a_planet = 25\n",
    "    m_planet = m_earth*2.3\n",
    "    r_planet = 0.0000788215 #radius of particle using 2g/cm^3 (AU)\n",
    "    sim.add(m=1.)\n",
    "    sim.add(m=m_planet,r=r_planet,a=a_planet,e=0,inc=0.0001)\n",
    "    \n",
    "    sim.N_active = sim.N\n",
    "    \n",
    "    #planetesimal disk\n",
    "    m_pl = m_planet/600.\n",
    "    #N_pl = 230*m_earth/m_pl\n",
    "    N_pl = 10\n",
    "    r_pl = 0.00000934532\n",
    "    disk_min_a = a_planet - 10.5\n",
    "    disk_max_a = a_planet + 10.5\n",
    "    while sim.N < (N_pl + sim.N_active):\n",
    "        a = r_power(1, disk_min_a, disk_max_a)\n",
    "        e = r_ray(0.01)\n",
    "        inc = r_ray(0.005)\n",
    "        sim.add(m=m_pl, r=r_pl, a=a, e=e, inc=inc, Omega=r_uni(0,2*np.pi), omega=r_uni(0,2*np.pi), f=r_uni(0,2*np.pi))\n",
    "    \n",
    "    #final physics ini\n",
    "    sim.move_to_com()\n",
    "    E0 = sim.calculate_energy()\n",
    "    \n",
    "    #writing ini\n",
    "    write_t = sim.dt\n",
    "    write_log = 1.01  #log output\n",
    "    write_lin = 100   #linear output\n",
    "    \n",
    "    start_t = timing.time()\n",
    "    while sim.t < tmax:\n",
    "        sim.integrate(write_t)\n",
    "        with open(name, \"a\") as writefile:\n",
    "            writefile.write(','.join(map(str, get_outputs(sim,E0,start_t))) )\n",
    "        write_t = min(write_t*write_log,write_t*write_lin)"
   ]
  },
  {
   "cell_type": "code",
   "execution_count": 9,
   "metadata": {
    "collapsed": true
   },
   "outputs": [],
   "source": [
    "dt = 12.76\n",
    "HSR = 3\n"
   ]
  },
  {
   "cell_type": "code",
   "execution_count": 11,
   "metadata": {
    "collapsed": false
   },
   "outputs": [
    {
     "data": {
      "text/plain": [
       "array([ 1. ,  3.5,  6. ])"
      ]
     },
     "execution_count": 11,
     "metadata": {},
     "output_type": "execute_result"
    }
   ],
   "source": []
  },
  {
   "cell_type": "code",
   "execution_count": null,
   "metadata": {
    "collapsed": true
   },
   "outputs": [],
   "source": []
  }
 ],
 "metadata": {
  "kernelspec": {
   "display_name": "Python 2",
   "language": "python",
   "name": "python2"
  },
  "language_info": {
   "codemirror_mode": {
    "name": "ipython",
    "version": 2
   },
   "file_extension": ".py",
   "mimetype": "text/x-python",
   "name": "python",
   "nbconvert_exporter": "python",
   "pygments_lexer": "ipython2",
   "version": "2.7.11"
  }
 },
 "nbformat": 4,
 "nbformat_minor": 0
}
