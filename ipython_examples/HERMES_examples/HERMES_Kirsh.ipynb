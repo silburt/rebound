{
 "cells": [
  {
   "cell_type": "markdown",
   "metadata": {},
   "source": [
    "# Kirsh (2009), Fig. 3\n",
    "In this example we reproduce the results of Kirsh et al. (2009) Fig. 3, using a 2.3$M_{\\oplus}$ planet embedded in a planetesimal disk undergoing migration."
   ]
  },
  {
   "cell_type": "code",
   "execution_count": 1,
   "metadata": {
    "collapsed": true
   },
   "outputs": [],
   "source": [
    "import rebound\n",
    "import numpy as np\n",
    "import time as timing\n",
    "import os"
   ]
  },
  {
   "cell_type": "markdown",
   "metadata": {},
   "source": [
    "## Setup\n",
    "First we need to setup the problem with all the various functions we'll need."
   ]
  },
  {
   "cell_type": "code",
   "execution_count": 2,
   "metadata": {
    "collapsed": true
   },
   "outputs": [],
   "source": [
    "#various powerlaws we'll need\n",
    "def rand_powerlaw(min_v, max_v, slope):\n",
    "    y = np.random.uniform()\n",
    "    if slope == -1:\n",
    "        return np.exp(y*np.log(max_v/min_v) + np.log(min_v))\n",
    "    else:\n",
    "        pow_max = pow(max_v, slope+1.)\n",
    "        pow_min = pow(min_v, slope+1.)\n",
    "        return pow((pow_max-pow_min)*y + pow_min, 1./(slope+1.))\n",
    "\n",
    "def rand_uniform(minimum, maximum):\n",
    "    return np.random.uniform()*(maximum-minimum)+minimum\n",
    "\n",
    "def rand_rayleigh(sigma):\n",
    "    return sigma*np.sqrt(-2*np.log(np.random.uniform()))"
   ]
  },
  {
   "cell_type": "code",
   "execution_count": 3,
   "metadata": {
    "collapsed": true
   },
   "outputs": [],
   "source": [
    "#calculating the semi-major axis\n",
    "def get_a(sim,planet_index):\n",
    "    com = sim.calculate_com()\n",
    "    p = sim.particles[planet_index]\n",
    "    mu = sim.G*(com.m+p.m)\n",
    "    dvx = p.vx - com.vx\n",
    "    dvy = p.vy - com.vy\n",
    "    dvz = p.vz - com.vz\n",
    "    v2 = dvx*dvx + dvy*dvy + dvz*dvz\n",
    "    dx = p.x - com.x\n",
    "    dy = p.y - com.y\n",
    "    dz = p.z - com.z\n",
    "    r = np.sqrt(dx*dx + dy*dy + dz*dz)\n",
    "    return -mu/(v2 - 2.*mu/r)"
   ]
  },
  {
   "cell_type": "code",
   "execution_count": 4,
   "metadata": {
    "collapsed": false
   },
   "outputs": [],
   "source": [
    "#The outputs for the integrator\n",
    "def get_outputs(sim,E0,start_t,filename,write_t,write_log,write_lin):\n",
    "    with open(filename, \"a\") as writefile:\n",
    "        dE = abs((sim.calculate_energy() - E0)/E0)\n",
    "        current_t = timing.time()-start_t\n",
    "        a = get_a(sim,sim.N_active-1)\n",
    "        N_mini = 0\n",
    "        #if(sim.integrator == \"hybarid\"):\n",
    "        #    N_mini = sim.ri_hybarid.mini.N\n",
    "        too_large = sim.ri_hybarid.timestep_too_large_warning\n",
    "        writefile.write(','.join(map(str,(sim.t,dE,a,sim.N,N_mini,current_t,too_large))) +\"\\n\")\n",
    "    write_t = min(write_t*write_log,write_t*write_lin)\n",
    "    if write_t < sim.t + sim.dt:\n",
    "        write_t = sim.t + sim.dt\n",
    "    return write_t"
   ]
  },
  {
   "cell_type": "code",
   "execution_count": 5,
   "metadata": {
    "collapsed": true
   },
   "outputs": [],
   "source": [
    "def get_filename(HSR,dt,run):\n",
    "    return \"output/Kirsh_HSR%d_dt%.4f_May23rearth_%d.txt\"%(HSR,dt,run)"
   ]
  },
  {
   "cell_type": "code",
   "execution_count": 16,
   "metadata": {
    "collapsed": false
   },
   "outputs": [],
   "source": [
    "#The Kirsh problem\n",
    "def problem(HSR, dt, seed, run):\n",
    "    \n",
    "    #output initialization stuff\n",
    "    filename = get_filename(HSR,dt,run)\n",
    "    try:\n",
    "        os.remove(filename)\n",
    "    except OSError:\n",
    "        pass\n",
    "    np.random.seed(seed=seed)\n",
    "    write_t = dt      #writing to file: ini\n",
    "    write_log = 1.01  #writing to file: log output\n",
    "    write_lin = 100   #writing to file: linear output every write_lin years\n",
    "\n",
    "    #initialize the simulation\n",
    "    sim = rebound.Simulation()\n",
    "    \n",
    "    #integrator options\n",
    "    sim.integrator = \"hybarid\"\n",
    "    sim.ri_hybarid.switch_radius = HSR\n",
    "    sim.ri_hybarid.CE_radius = 15.\n",
    "    sim.dt = dt\n",
    "    sim.testparticle_type = 1\n",
    "    sim.usleep = -1\n",
    "    tmax = 7e4*6.283\n",
    "    \n",
    "    #collision and boundary options\n",
    "    sim.collision = \"direct\"\n",
    "    sim.collision_resolve = \"merge\"\n",
    "    sim.boundary = \"open\"\n",
    "    boxsize = 100.\n",
    "    sim.configure_box(boxsize)\n",
    "    sim.collisions_track_dE = 1\n",
    "    \n",
    "    #add sun\n",
    "    sim.add(m=1.,r=0.005)\n",
    "    \n",
    "    #Super Earth\n",
    "    m_earth = 0.000003003\n",
    "    m_planet = m_earth*2.3\n",
    "    a_planet = 25\n",
    "    r_planet = 0.0000788215 #radius of particle using 2g/cm^3 (AU)\n",
    "    #r_planet = 4.68e-4 #Jupiter inflated mass\n",
    "    sim.add(m=m_planet,r=r_planet,a=a_planet,e=0,inc=0.001)\n",
    "    \n",
    "    sim.N_active = sim.N\n",
    "    sim.move_to_com()\n",
    "    \n",
    "    #planetesimal disk\n",
    "    print \"Populating planetesimal disk for run %d\"%run\n",
    "    m_pl = m_planet/600.\n",
    "    N_pl = 230*m_earth/m_pl\n",
    "    r_pl = 0.00000934532\n",
    "    disk_min_a = a_planet - 10.5\n",
    "    disk_max_a = a_planet + 10.5\n",
    "    while sim.N < (N_pl + sim.N_active):\n",
    "        a = rand_powerlaw(disk_min_a, disk_max_a, -1)\n",
    "        e = rand_rayleigh(0.01)\n",
    "        inc = rand_rayleigh(0.005)\n",
    "        Omega = rand_uniform(0,2*np.pi)\n",
    "        omega = rand_uniform(0,2*np.pi)\n",
    "        f = rand_uniform(0,2*np.pi)\n",
    "        sim.add(m=m_pl, r=r_pl, a=a, e=e, inc=inc, Omega=Omega, omega=omega, f=f) #This is very(!) slow\n",
    "    \n",
    "    #final physics initialization stuff\n",
    "    E0 = sim.calculate_energy()\n",
    "    \n",
    "    print \"Begin simulation for run %d\"%run\n",
    "    start_t = timing.time()\n",
    "    while sim.t < tmax:\n",
    "        sim.integrate(write_t)\n",
    "        write_t = get_outputs(sim,E0,start_t,filename,write_t,write_log,write_lin)\n",
    "        \n",
    "    print(\"Run %d complete in %.2f s with dE=%e.\"% (run,timing.time()-start_t,abs((sim.calculate_energy() - E0)/E0)))"
   ]
  },
  {
   "cell_type": "markdown",
   "metadata": {},
   "source": [
    "## Run the problem\n",
    "Now let's run the problem, making use of the multiprocessing module."
   ]
  },
  {
   "cell_type": "code",
   "execution_count": 6,
   "metadata": {
    "collapsed": false
   },
   "outputs": [],
   "source": [
    "#Setup parameters\n",
    "#dt = 12.76\n",
    "dt = 5\n",
    "HSR = 5\n",
    "n_runs = 6\n",
    "params = zip(np.ones(n_runs)*HSR,np.ones(n_runs)*dt,np.random.randint(0,1000,n_runs),range(n_runs))"
   ]
  },
  {
   "cell_type": "markdown",
   "metadata": {},
   "source": [
    "**Warning!** Executing the code below will take a long time!"
   ]
  },
  {
   "cell_type": "code",
   "execution_count": 10,
   "metadata": {
    "collapsed": false
   },
   "outputs": [],
   "source": [
    "#Run the problem\n",
    "import multiprocessing as mp\n",
    "def execute(pars):\n",
    "    problem(pars[0],pars[1],pars[2],pars[3])\n",
    "\n",
    "if __name__== '__main__':\n",
    "    pool = mp.Pool(processes=n_runs)\n",
    "    pool.map(execute, params)\n",
    "    pool.close()\n",
    "    pool.join()"
   ]
  },
  {
   "cell_type": "markdown",
   "metadata": {},
   "source": [
    "## Plot the results\n",
    "It's time to plot our results, which were saved in .txt files. "
   ]
  },
  {
   "cell_type": "code",
   "execution_count": 7,
   "metadata": {
    "collapsed": true
   },
   "outputs": [],
   "source": [
    "def get_file_len(fname):\n",
    "    with open(fname) as f:\n",
    "        for i, l in enumerate(f):\n",
    "            pass\n",
    "    return i + 1"
   ]
  },
  {
   "cell_type": "code",
   "execution_count": 9,
   "metadata": {
    "collapsed": false
   },
   "outputs": [
    {
     "name": "stdout",
     "output_type": "stream",
     "text": [
      "['output/Kirsh_HSR5_dt5.0000_May23rearth_0.txt', 'output/Kirsh_HSR5_dt5.0000_May23rearth_3.txt', 'output/Kirsh_HSR5_dt5.0000_May23rearth_4.txt', 'output/Kirsh_HSR5_dt5.0000_May23rearth_5.txt']\n"
     ]
    },
    {
     "data": {
      "image/png": "[encoded data removed]",
      "text/plain": [
       "<matplotlib.figure.Figure at 0x111c94bd0>"
      ]
     },
     "metadata": {},
     "output_type": "display_data"
    }
   ],
   "source": [
    "import matplotlib.pyplot as plt\n",
    "import pandas as pd\n",
    "import glob\n",
    "%matplotlib inline\n",
    "filenames = get_filename(HSR,dt,0)\n",
    "files = glob.glob(filenames.split(\"0.txt\")[0]+\"*.txt\")\n",
    "fn = len(files)\n",
    "\n",
    "print files\n",
    "\n",
    "#find array with shortest length (for plotting mid-run purposes)\n",
    "flen = 1e10\n",
    "for f in files:\n",
    "    flen = min(flen,get_file_len(f))\n",
    "\n",
    "#get data and averages\n",
    "d = {}\n",
    "fields=[\"time\",\"dE\",\"a\",\"N\",\"N_mini\",\"ET\",\"dt_too_large\"]\n",
    "for i,f in enumerate(files):\n",
    "    d[i] = pd.DataFrame(np.transpose(np.genfromtxt(f, delimiter=\",\",unpack=True,dtype=float))[0:flen,:],columns=fields)\n",
    "data = pd.Panel(d)\n",
    "time = data[0].loc[:,\"time\"]/6.283\n",
    "Eavg = data.minor_xs(\"dE\").mean(axis=1)\n",
    "Navg = data.minor_xs(\"N\").mean(axis=1)\n",
    "aavg = data.minor_xs(\"a\").mean(axis=1)\n",
    "\n",
    "#setup plot\n",
    "fig, axes = plt.subplots(nrows=3, ncols=1, figsize=(8,8))\n",
    "alpha = 0.5\n",
    "fontsize=13\n",
    "maxt = max(time)\n",
    "axes[0].set_yscale('log')\n",
    "axes[0].set_xscale('log')\n",
    "axes[0].set_ylabel('dE',fontsize=fontsize)\n",
    "axes[0].set_xlim([1,maxt])\n",
    "axes[1].set_xscale('log')\n",
    "axes[1].set_ylabel('Number of bodies',fontsize=fontsize)\n",
    "axes[1].set_xlim([1,maxt])\n",
    "axes[2].set_ylabel('Semi-major axis',fontsize=fontsize)\n",
    "axes[2].set_xlabel('time (years)',fontsize=fontsize)\n",
    "axes[0].set_title(\"Run Averages\",fontsize=fontsize)\n",
    "\n",
    "#plot\n",
    "for i in xrange(0,fn):\n",
    "    axes[0].plot(time,data[i].loc[:,\"dE\"], '.', alpha=alpha, color='lightgreen')\n",
    "    axes[2].plot(time,data[i].loc[:,\"a\"], '.', alpha=alpha, color='lightblue')\n",
    "axes[0].plot(time, Eavg, '.', markeredgecolor='none', color='green', label='avg.')\n",
    "axes[1].plot(time, Navg, '.', markeredgecolor='none', color='black', label='avg.')\n",
    "axes[2].plot(time, aavg, '.', markeredgecolor='none', color='blue', label='avg.')\n",
    "plt.savefig(filenames.split(\"0.txt\")[0]+\"avg.pdf\") #save plot"
   ]
  },
  {
   "cell_type": "code",
   "execution_count": null,
   "metadata": {
    "collapsed": true
   },
   "outputs": [],
   "source": []
  }
 ],
 "metadata": {
  "kernelspec": {
   "display_name": "Python 2",
   "language": "python",
   "name": "python2"
  },
  "language_info": {
   "codemirror_mode": {
    "name": "ipython",
    "version": 2
   },
   "file_extension": ".py",
   "mimetype": "text/x-python",
   "name": "python",
   "nbconvert_exporter": "python",
   "pygments_lexer": "ipython2",
   "version": "2.7.11"
  }
 },
 "nbformat": 4,
 "nbformat_minor": 0
}
