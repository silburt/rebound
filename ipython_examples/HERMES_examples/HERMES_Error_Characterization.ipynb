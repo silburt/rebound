{
 "cells": [
  {
   "cell_type": "markdown",
   "metadata": {},
   "source": [
    "# Error Characterization of HERMES\n",
    "Understanding the sources of error of an integrator is essential for many reasons. It makes debugging much faster, adding new modules much easier, and operation more efficient.  "
   ]
  },
  {
   "cell_type": "code",
   "execution_count": 1,
   "metadata": {
    "collapsed": true
   },
   "outputs": [],
   "source": [
    "import rebound\n",
    "import numpy as np\n",
    "import time as timing"
   ]
  },
  {
   "cell_type": "markdown",
   "metadata": {},
   "source": [
    "## Setup\n",
    "First let's set up the problem consisting of a central star, massive planet and passive planetesimal. The planetesimal begins inside the $HSR$ boundary of the planet so that the simulation begins in pure IAS15 mode. We initialize the planetesimal such that the planet-planetesimal distance grows with time. Soon after, the planetesimal leaves the $HSR$ boundary and the simulation finishes in pure WHFAST mode. \n",
    "\n",
    "In Silburt et al. (2016) we calculate theoretical predictions for the error introduced, and we input these predictions so we can directly compare to our numerical tests."
   ]
  },
  {
   "cell_type": "code",
   "execution_count": 2,
   "metadata": {
    "collapsed": false
   },
   "outputs": [],
   "source": [
    "def theory(params, x_array, choice, scale_factor):\n",
    "    x0, x1, M, m, m_pl = params\n",
    "    \n",
    "    if choice == \"dt\":\n",
    "        tau2 = x_array**2 / 12.\n",
    "        a = x1\n",
    "        rhHSR = x0*a*(m/(3*M))**(1./3.)\n",
    "    elif choice == \"HSR\":\n",
    "        tau2 = x0**2 / 12.\n",
    "        a = x1\n",
    "        rhHSR = x_array*a*(m/(3*M))**(1./3.)\n",
    "    elif choice == \"a\":\n",
    "        tau2 = x1**2 / 12.\n",
    "        a = x_array\n",
    "        rhHSR = x0*a*(m/(3*M))**(1./3.)\n",
    "    M3 = M*m*m_pl\n",
    "    term1 = M3/(a*rhHSR**3)\n",
    "    term2 = m*m*m_pl/(rhHSR**4)\n",
    "    term3 = -M3/(2*rhHSR*((a*a - rhHSR**2)**1.5))    #minor term, neg^x returns invalue value\n",
    "    theoretical = (term1 + term2 + term3)*tau2*scale_factor\n",
    "    axes[0].plot(x_array, theoretical, '+-',label='R3B theory')"
   ]
  },
  {
   "cell_type": "code",
   "execution_count": 23,
   "metadata": {
    "collapsed": false
   },
   "outputs": [],
   "source": [
    "def problem(HSR, dt, a_p, theta):\n",
    "    #initialize the simulation\n",
    "    sim = rebound.Simulation()\n",
    "    \n",
    "    #integrator options\n",
    "    sim.integrator = \"hybarid\"\n",
    "    sim.ri_hybarid.switch_radius = HSR\n",
    "    sim.ri_hybarid.CE_radius = 20.\n",
    "    sim.dt = dt\n",
    "    sim.testparticle_type = 1\n",
    "    tmax = 7. * a_p**1.5\n",
    "    sim.usleep = -1\n",
    "\n",
    "    #collision and boundary options\n",
    "    sim.collision = \"direct\"\n",
    "    sim.collision_resolve = \"merge\"\n",
    "    sim.collisions_track_dE = 1\n",
    "    \n",
    "    #massive bodies\n",
    "    M = 1.\n",
    "    m_p = 5e-5\n",
    "    sim.add(m=M)\n",
    "    sim.add(m=m_p,r=1.6e-4,a=a_p,e=0,inc=0.0001,f=0)\n",
    "    sim.N_active = sim.N\n",
    "    \n",
    "    #planetesimal - for extreme 'a' values, vx, vy may need to be fiddled with..\n",
    "    fac = 0.3\n",
    "    if a_p < 1:\n",
    "        fac = 0.7\n",
    "    rr = 1e-3\n",
    "    dr = rr*a_p*a_p*np.sin(theta - np.pi/2.)\n",
    "    f = rr*np.sin(theta)\n",
    "    vy = np.sin(theta)*(2*sim.G*m_p/rr)**0.5 / a_p**fac\n",
    "    vx = 1.2*np.cos(theta)*(2*sim.G*m_p/rr)**0.5 / a_p\n",
    "    m_pl = 1e-8\n",
    "    sim.add(m=m_pl,r=4e-5,a=sim.particles[sim.N_active-1].x+dr,f=f)\n",
    "    sim.particles[sim.N-1].vx -= vx\n",
    "    sim.particles[sim.N-1].vy += vy\n",
    "    \n",
    "    #final physics initialization stuff\n",
    "    sim.move_to_com()\n",
    "    E0 = sim.calculate_energy()\n",
    "    \n",
    "    start_t = timing.time()\n",
    "    sim.integrate(tmax)\n",
    "    time = timing.time() - start_t\n",
    "    E1 = sim.calculate_energy() - E0\n",
    "    dE = np.fabs(E1/E0)\n",
    "    \n",
    "    #recall time is in units of yr/2pi\n",
    "    return HSR, dt/(2*np.pi), a_p, dE, time, dE/np.fabs(E1), M, m_p, m_pl"
   ]
  },
  {
   "cell_type": "markdown",
   "metadata": {},
   "source": [
    "### Choose Parameter Space\n",
    "Now let's choose which variable we're investigating, either $dt$ or $HSR$, and set up the parameter space that we're going to search."
   ]
  },
  {
   "cell_type": "code",
   "execution_count": 24,
   "metadata": {
    "collapsed": false
   },
   "outputs": [],
   "source": [
    "choice = \"HSR\"     #can be \"HSR\", \"dt\", or \"a\"\n",
    "n_runs = 200       #number of searches in the parameter space\n",
    "\n",
    "#set up parameter space\n",
    "ones = np.ones(n_runs)\n",
    "if choice == \"HSR\":\n",
    "    dt = 1e-3*ones\n",
    "    HSR = np.logspace(-2,1.7,n_runs)\n",
    "    a = ones\n",
    "elif choice == \"dt\":\n",
    "    HSR = 6*ones\n",
    "    dt = np.logspace(-5,0,n_runs)\n",
    "    a = ones\n",
    "elif choice == \"a\":\n",
    "    HSR = 6*ones\n",
    "    dt = 1e-3*ones\n",
    "    a = np.logspace(-1,1,n_runs)\n",
    "params = zip(HSR,dt,a,np.random.random(n_runs)*np.pi)"
   ]
  },
  {
   "cell_type": "markdown",
   "metadata": {},
   "source": [
    "### Calculate\n",
    "Calculate the results. This might take a minute or two."
   ]
  },
  {
   "cell_type": "code",
   "execution_count": 25,
   "metadata": {
    "collapsed": false
   },
   "outputs": [],
   "source": [
    "import multiprocessing as mp\n",
    "import pandas as pd\n",
    "\n",
    "def execute(pars):\n",
    "    return problem(pars[0],pars[1],pars[2],pars[3])\n",
    "\n",
    "if __name__== '__main__':\n",
    "    results = []\n",
    "    pool = mp.Pool(processes=len(params))\n",
    "    results.append(pool.map(execute, params))\n",
    "    pool.close()\n",
    "    pool.join()\n",
    "    data = pd.DataFrame(results[0],columns=[\"HSR\",\"dt\",\"a\",\"dE\",\"time\",\"scale_factor\",\"M\",\"m_p\",\"m_pl\"])"
   ]
  },
  {
   "cell_type": "markdown",
   "metadata": {},
   "source": [
    "### Plot\n",
    "Great, now let's plot the results, showing the energy error and elapsed time as a function of our chosen variable."
   ]
  },
  {
   "cell_type": "code",
   "execution_count": 26,
   "metadata": {
    "collapsed": false
   },
   "outputs": [
    {
     "data": {
      "image/png": "[encoded data removed]",
      "text/plain": [
       "<matplotlib.figure.Figure at 0x111cfeed0>"
      ]
     },
     "metadata": {},
     "output_type": "display_data"
    }
   ],
   "source": [
    "import matplotlib.pyplot as plt\n",
    "%matplotlib inline\n",
    "\n",
    "if choice == \"HSR\":\n",
    "    x = data[\"HSR\"]\n",
    "    SS_params = data.loc[0,[\"dt\",\"a\",\"M\",\"m_p\",\"m_pl\"]].values\n",
    "elif choice == \"dt\":\n",
    "    x = data[\"dt\"]\n",
    "    SS_params = data.loc[0,[\"HSR\",\"a\",\"M\",\"m_p\",\"m_pl\"]].values\n",
    "elif choice == \"a\":\n",
    "    x = data[\"a\"]\n",
    "    SS_params = data.loc[0,[\"HSR\",\"dt\",\"M\",\"m_p\",\"m_pl\"]].values\n",
    "    \n",
    "fig, axes = plt.subplots(nrows=1, ncols=2, sharex=True, figsize=(12,5))\n",
    "plt.subplots_adjust(wspace=0.3)\n",
    "axes[0].plot(x,data[\"dE\"],'.',label=\"data\")\n",
    "axes[0].set_ylim([1e-16,10*max(data[\"dE\"])])\n",
    "axes[0].set_xlim([min(x)/10., max(x)*10])\n",
    "axes[0].set_xlabel(choice,fontsize=13)\n",
    "axes[0].set_ylabel('dE',fontsize=13)\n",
    "axes[0].set_yscale('log')\n",
    "axes[0].set_xscale('log')\n",
    "theory(SS_params,x,choice,data[\"scale_factor\"].mean())\n",
    "axes[0].legend(loc='upper right',prop={'size':10}, numpoints=1, markerscale=2)\n",
    "axes[1].plot(x,data[\"time\"],'.')\n",
    "axes[1].set_ylim([0.8*data[\"time\"].min(),1.2*data[\"time\"].max()])\n",
    "axes[1].set_xlabel(choice,fontsize=13)\n",
    "axes[1].set_ylabel('Elapsed time (seconds)',fontsize=13)\n",
    "axes[1].set_yscale('log')"
   ]
  },
  {
   "cell_type": "code",
   "execution_count": null,
   "metadata": {
    "collapsed": true
   },
   "outputs": [],
   "source": []
  }
 ],
 "metadata": {
  "kernelspec": {
   "display_name": "Python 2",
   "language": "python",
   "name": "python2"
  },
  "language_info": {
   "codemirror_mode": {
    "name": "ipython",
    "version": 2
   },
   "file_extension": ".py",
   "mimetype": "text/x-python",
   "name": "python",
   "nbconvert_exporter": "python",
   "pygments_lexer": "ipython2",
   "version": "2.7.11"
  }
 },
 "nbformat": 4,
 "nbformat_minor": 0
}
