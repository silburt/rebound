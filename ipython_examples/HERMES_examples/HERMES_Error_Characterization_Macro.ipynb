{
 "cells": [
  {
   "cell_type": "markdown",
   "metadata": {},
   "source": [
    "# Error Characterization of HERMES\n",
    "Understanding the sources of error of an integrator is essential for many reasons. It makes debugging much faster, adding new modules much easier, and operation more efficient.  "
   ]
  },
  {
   "cell_type": "code",
   "execution_count": 1,
   "metadata": {
    "collapsed": true
   },
   "outputs": [],
   "source": [
    "import rebound\n",
    "import numpy as np\n",
    "import time as timing"
   ]
  },
  {
   "cell_type": "markdown",
   "metadata": {},
   "source": [
    "## Setup\n",
    "First we need to setup the problem."
   ]
  },
  {
   "cell_type": "code",
   "execution_count": 2,
   "metadata": {
    "collapsed": false
   },
   "outputs": [],
   "source": [
    "def theory(params, x_array, choice, scale_factor):\n",
    "    xx, M, a, m, m_pl = params\n",
    "    \n",
    "    if choice == \"dt\":\n",
    "        tau2 = x_array**2 / 12.\n",
    "        rhHSR = xx*a*(m/(3*M))**(1./3.)\n",
    "    elif choice == \"HSR\":\n",
    "        tau2 = xx**2 / 12.\n",
    "        rhHSR = x_array*a*(m/(3*M))**(1./3.)\n",
    "    M3 = M*m*m_pl\n",
    "    term1 = M3/(a*rhHSR**3)\n",
    "    term2 = m*m*m_pl/(rhHSR**4)\n",
    "    term3 = -M3/(2*rhHSR*((a*a - rhHSR**2)**1.5))    #minor term, neg^x returns invalue value\n",
    "    theoretical = (term1 + term2 + term3)*tau2*scale_factor\n",
    "    axes[0].plot(x_array, theoretical, '+-',label='R3B theory')"
   ]
  },
  {
   "cell_type": "code",
   "execution_count": 3,
   "metadata": {
    "collapsed": false
   },
   "outputs": [],
   "source": [
    "def problem(HSR, dt, theta):\n",
    "    #initialize the simulation\n",
    "    sim = rebound.Simulation()\n",
    "    \n",
    "    #integrator options\n",
    "    sim.integrator = \"hybarid\"\n",
    "    sim.ri_hybarid.switch_radius = HSR\n",
    "    sim.ri_hybarid.CE_radius = 20.\n",
    "    sim.dt = dt\n",
    "    sim.testparticle_type = 1\n",
    "    tmax = 7.\n",
    "    sim.usleep = -1\n",
    "\n",
    "    #collision and boundary options\n",
    "    sim.collision = \"direct\"\n",
    "    sim.collision_resolve = \"merge\"\n",
    "    sim.collisions_track_dE = 1\n",
    "    \n",
    "    #massive bodies\n",
    "    M = 1.\n",
    "    m_p = 5e-5\n",
    "    a_p = 1.\n",
    "    sim.add(m=M)\n",
    "    sim.add(m=m_p,r=1.6e-4,a=a_p,e=0,inc=0.0001,f=0)\n",
    "    sim.N_active = sim.N\n",
    "    \n",
    "    #planetesimal\n",
    "    m_pl = 1e-8\n",
    "    rr = 1e-3\n",
    "    dr = rr*np.sin(theta - np.pi/2.)\n",
    "    f = rr*np.sin(theta)\n",
    "    vy = np.sin(theta)*(2*sim.G*m_p/rr)**0.5\n",
    "    #vx = 1.05*np.cos(theta)*(2*sim.G*m_p/rr)**0.5\n",
    "    vx = 1.2*np.cos(theta)*(2*sim.G*m_p/rr)**0.5\n",
    "    sim.add(m=m_pl,r=4e-5,a=sim.particles[sim.N_active-1].x+dr,f=f)\n",
    "    sim.particles[sim.N-1].vx -= vx\n",
    "    sim.particles[sim.N-1].vy += vy\n",
    "    \n",
    "    #final physics initialization stuff\n",
    "    sim.move_to_com()\n",
    "    E0 = sim.calculate_energy()\n",
    "    \n",
    "    start_t = timing.time()\n",
    "    sim.integrate(tmax)\n",
    "    time = timing.time() - start_t\n",
    "    E1 = sim.calculate_energy() - E0\n",
    "    dE = np.fabs(E1/E0)\n",
    "    \n",
    "    #recall time is in units of yr/2pi\n",
    "    return HSR, dt/(2*np.pi), dE, time, dE/np.fabs(E1), M, a_p, m_p, m_pl"
   ]
  },
  {
   "cell_type": "code",
   "execution_count": 4,
   "metadata": {
    "collapsed": false
   },
   "outputs": [],
   "source": [
    "#Find error growth as a function of HSR\n",
    "import multiprocessing as mp\n",
    "import pandas as pd\n",
    "choice = \"dt\"     #can be \"HSR\" or \"dt\"\n",
    "n_runs = 200\n",
    "\n",
    "#which test\n",
    "if choice == \"HSR\":\n",
    "    dt = 1e-3*np.ones(n_runs)\n",
    "    HSR = np.logspace(-2,2,n_runs)\n",
    "elif choice == \"dt\":\n",
    "    HSR = 4*np.ones(n_runs)\n",
    "    dt = np.logspace(-5,0,n_runs)\n",
    "\n",
    "#fill arrays    \n",
    "params = []\n",
    "for i in range(n_runs):\n",
    "    params.append((HSR[i],dt[i],np.random.random()*np.pi))\n",
    "\n",
    "#multiprocessing\n",
    "def execute(pars):\n",
    "    return problem(pars[0],pars[1],pars[2])\n",
    "\n",
    "if __name__== '__main__':\n",
    "    results = []\n",
    "    pool = mp.Pool(processes=len(params))\n",
    "    results.append(pool.map(execute, params))\n",
    "    pool.close()\n",
    "    pool.join()\n",
    "    data = pd.DataFrame(results[0],columns=[\"HSR\",\"dt\",\"dE\",\"time\",\"scale_factor\",\"M\",\"a_p\",\"m_p\",\"m_pl\"])"
   ]
  },
  {
   "cell_type": "code",
   "execution_count": 6,
   "metadata": {
    "collapsed": false
   },
   "outputs": [
    {
     "data": {
      "image/png": "[encoded data removed]",
      "text/plain": [
       "<matplotlib.figure.Figure at 0x10b606ad0>"
      ]
     },
     "metadata": {},
     "output_type": "display_data"
    }
   ],
   "source": [
    "import matplotlib.pyplot as plt\n",
    "%matplotlib inline\n",
    "\n",
    "if choice == \"HSR\":\n",
    "    x = data[\"HSR\"]\n",
    "    SS_params = data.loc[0,[\"dt\",\"M\",\"a_p\",\"m_p\",\"m_pl\"]].values\n",
    "elif choice == \"dt\":\n",
    "    x = data[\"dt\"]\n",
    "    SS_params = data.loc[0,[\"HSR\",\"M\",\"a_p\",\"m_p\",\"m_pl\"]].values\n",
    "\n",
    "fig, axes = plt.subplots(nrows=1, ncols=2, sharex=True, figsize=(12,5))\n",
    "plt.subplots_adjust(wspace=0.3)\n",
    "axes[0].plot(x,data[\"dE\"],'.',label=\"data\")\n",
    "axes[0].set_ylim([1e-16,10*max(data[\"dE\"])])\n",
    "axes[0].set_xlim([min(x)/10., max(x)*10])\n",
    "axes[0].set_xlabel(choice,fontsize=13)\n",
    "axes[0].set_ylabel('dE',fontsize=13)\n",
    "axes[0].set_yscale('log')\n",
    "axes[0].set_xscale('log')\n",
    "theory(SS_params,x,choice,data[\"scale_factor\"].mean())\n",
    "axes[0].legend(loc='upper right',prop={'size':10}, numpoints=1, markerscale=2)\n",
    "axes[1].plot(x,data[\"time\"],'.')\n",
    "axes[1].set_ylim([0.8*data[\"time\"].min(),1.2*data[\"time\"].max()])\n",
    "axes[1].set_xlabel(choice,fontsize=13)\n",
    "axes[1].set_ylabel('Elapsed time (seconds)',fontsize=13)\n",
    "axes[1].set_yscale('log')\n",
    "axes[1].set_xscale('log')"
   ]
  },
  {
   "cell_type": "code",
   "execution_count": null,
   "metadata": {
    "collapsed": true
   },
   "outputs": [],
   "source": []
  }
 ],
 "metadata": {
  "kernelspec": {
   "display_name": "Python 2",
   "language": "python",
   "name": "python2"
  },
  "language_info": {
   "codemirror_mode": {
    "name": "ipython",
    "version": 2
   },
   "file_extension": ".py",
   "mimetype": "text/x-python",
   "name": "python",
   "nbconvert_exporter": "python",
   "pygments_lexer": "ipython2",
   "version": "2.7.11"
  }
 },
 "nbformat": 4,
 "nbformat_minor": 0
}
