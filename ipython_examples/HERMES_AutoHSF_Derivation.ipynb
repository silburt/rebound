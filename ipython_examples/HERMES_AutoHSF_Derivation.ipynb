{
 "cells": [
  {
   "cell_type": "markdown",
   "metadata": {},
   "source": [
    "# Derivation for the HSF Auto-scaling routine\n",
    "The ultimate goal is to find the maximum relative velocity between two intersecting orbits"
   ]
  },
  {
   "cell_type": "code",
   "execution_count": 70,
   "metadata": {
    "collapsed": false
   },
   "outputs": [],
   "source": [
    "from sympy import *\n",
    "init_printing()"
   ]
  },
  {
   "cell_type": "code",
   "execution_count": 71,
   "metadata": {
    "collapsed": false
   },
   "outputs": [],
   "source": [
    "r,e1,e2,cosf1,cosf2,a1,a2,m1,m2,G,M = symbols(\"r, e1, e2, f1, f2, a1, a2, m1, m2, G, M\")"
   ]
  },
  {
   "cell_type": "code",
   "execution_count": 72,
   "metadata": {
    "collapsed": false
   },
   "outputs": [],
   "source": [
    "mu = G*M\n",
    "n1 = sqrt(mu/(a1**3))\n",
    "n2 = sqrt(mu/(a2**3))\n",
    "v1 = sqrt(mu*(2/r - 1/a1))\n",
    "v2 = sqrt(mu*(2/r - 1/a2))\n",
    "cosf1 = (a1*(1-e1*e1)/r - 1)/e1\n",
    "cosf2 = (a2*(1-e2*e2)/r - 1)/e2\n",
    "sinf1 = -sqrt(1 - cosf1*cosf1)\n",
    "sinf2 = sqrt(1 - cosf2*cosf2)\n",
    "#v1_r = n1*a1/sqrt(1-e1*e1)*(e1*sinf1)       #can be +/-\n",
    "#v2_r = n2*a2/sqrt(1-e2*e2)*(e2*sinf2)       #can be +/-\n",
    "v1_phi = n1*a1/sqrt(1-e1*e1)*(1+e1*cosf1)\n",
    "v2_phi = n2*a2/sqrt(1-e2*e2)*(1+e2*cosf2)\n",
    "\n",
    "#v1_phi = n1*a1/sqrt(1-e1*e1)*(1+e1)\n",
    "#v2_phi = n2*a2/sqrt(1-e2*e2)*(1+e2)\n",
    "v1_r = -sqrt(v1*v1 - v1_phi*v1_phi)           #can be +/-\n",
    "v2_r = sqrt(v2*v2 - v2_phi*v2_phi)           #can be +/-"
   ]
  },
  {
   "cell_type": "code",
   "execution_count": 74,
   "metadata": {
    "collapsed": false
   },
   "outputs": [
    {
     "data": {
      "image/png": "[encoded data removed]",
      "text/latex": [
       "$$\\frac{1}{r^{2}} \\left(r^{2} \\left(\\sqrt{\\frac{G M}{a_{1} r^{2}} \\left(- a_{1}^{2} \\left(- e_{1}^{2} + 1\\right) + r \\left(2 a_{1} - r\\right)\\right)} + \\sqrt{\\frac{G M}{a_{2} r^{2}} \\left(- a_{2}^{2} \\left(- e_{2}^{2} + 1\\right) + r \\left(2 a_{2} - r\\right)\\right)}\\right)^{2} + \\left(a_{1}^{2} \\sqrt{\\frac{G M}{a_{1}^{3}}} \\sqrt{- e_{1}^{2} + 1} - a_{2}^{2} \\sqrt{\\frac{G M}{a_{2}^{3}}} \\sqrt{- e_{2}^{2} + 1}\\right)^{2}\\right)$$"
      ],
      "text/plain": [
       "                                                                              \n",
       "   ⎛      ________________________________________         ___________________\n",
       "   ⎜     ╱     ⎛    2 ⎛    2    ⎞               ⎞         ╱     ⎛    2 ⎛    2 \n",
       " 2 ⎜    ╱  G⋅M⋅⎝- a₁ ⋅⎝- e₁  + 1⎠ + r⋅(2⋅a₁ - r)⎠        ╱  G⋅M⋅⎝- a₂ ⋅⎝- e₂  \n",
       "r ⋅⎜   ╱   ──────────────────────────────────────  +    ╱   ──────────────────\n",
       "   ⎜  ╱                        2                       ╱                      \n",
       "   ⎝╲╱                     a₁⋅r                      ╲╱                     a₂\n",
       "──────────────────────────────────────────────────────────────────────────────\n",
       "                                                                              \n",
       "                                                                              \n",
       "\n",
       "                      2                                                       \n",
       "_____________________⎞                                                        \n",
       "   ⎞               ⎞ ⎟    ⎛         _____    ___________            _____    _\n",
       "+ 1⎠ + r⋅(2⋅a₂ - r)⎠ ⎟    ⎜  2     ╱ G⋅M    ╱     2          2     ╱ G⋅M    ╱ \n",
       "──────────────────── ⎟  + ⎜a₁ ⋅   ╱  ─── ⋅╲╱  - e₁  + 1  - a₂ ⋅   ╱  ─── ⋅╲╱  \n",
       "  2                  ⎟    ⎜      ╱     3                         ╱     3      \n",
       "⋅r                   ⎠    ⎝    ╲╱    a₁                        ╲╱    a₂       \n",
       "──────────────────────────────────────────────────────────────────────────────\n",
       "      2                                                                       \n",
       "     r                                                                        \n",
       "\n",
       "            \n",
       "           2\n",
       "__________⎞ \n",
       "    2     ⎟ \n",
       "- e₂  + 1 ⎟ \n",
       "          ⎟ \n",
       "          ⎠ \n",
       "────────────\n",
       "            \n",
       "            "
      ]
     },
     "execution_count": 74,
     "metadata": {},
     "output_type": "execute_result"
    }
   ],
   "source": [
    "dv = (v1_phi - v2_phi)**2 + (v1_r - v2_r)**2\n",
    "dv = simplify(dv)\n",
    "dv"
   ]
  },
  {
   "cell_type": "code",
   "execution_count": 51,
   "metadata": {
    "collapsed": false
   },
   "outputs": [
    {
     "data": {
      "image/png": "[encoded data removed]",
      "text/latex": [
       "$$r^{2} \\left(\\sqrt{\\frac{G M}{a_{1} r^{2}} \\left(- a_{1}^{2} \\left(- e_{1}^{2} + 1\\right) + r \\left(2 a_{1} - r\\right)\\right)} + \\sqrt{\\frac{G M}{a_{2} r^{2}} \\left(- a_{2}^{2} \\left(- e_{2}^{2} + 1\\right) + r \\left(2 a_{2} - r\\right)\\right)}\\right) \\left(\\frac{2 a_{1} r^{2} \\sqrt{\\frac{G M}{a_{1} r^{2}} \\left(- a_{1}^{2} \\left(- e_{1}^{2} + 1\\right) + r \\left(2 a_{1} - r\\right)\\right)}}{G M \\left(- a_{1}^{2} \\left(- e_{1}^{2} + 1\\right) + r \\left(2 a_{1} - r\\right)\\right)} \\left(\\frac{G M}{2 a_{1} r^{2}} \\left(2 a_{1} - 2 r\\right) - \\frac{G M}{a_{1} r^{3}} \\left(- a_{1}^{2} \\left(- e_{1}^{2} + 1\\right) + r \\left(2 a_{1} - r\\right)\\right)\\right) + \\frac{2 a_{2} r^{2} \\sqrt{\\frac{G M}{a_{2} r^{2}} \\left(- a_{2}^{2} \\left(- e_{2}^{2} + 1\\right) + r \\left(2 a_{2} - r\\right)\\right)}}{G M \\left(- a_{2}^{2} \\left(- e_{2}^{2} + 1\\right) + r \\left(2 a_{2} - r\\right)\\right)} \\left(\\frac{G M}{2 a_{2} r^{2}} \\left(2 a_{2} - 2 r\\right) - \\frac{G M}{a_{2} r^{3}} \\left(- a_{2}^{2} \\left(- e_{2}^{2} + 1\\right) + r \\left(2 a_{2} - r\\right)\\right)\\right)\\right) + 2 r \\left(\\sqrt{\\frac{G M}{a_{1} r^{2}} \\left(- a_{1}^{2} \\left(- e_{1}^{2} + 1\\right) + r \\left(2 a_{1} - r\\right)\\right)} + \\sqrt{\\frac{G M}{a_{2} r^{2}} \\left(- a_{2}^{2} \\left(- e_{2}^{2} + 1\\right) + r \\left(2 a_{2} - r\\right)\\right)}\\right)^{2}$$"
      ],
      "text/plain": [
       "                                                                              \n",
       "                                                                              \n",
       "                                                                              \n",
       "   ⎛      ________________________________________         ___________________\n",
       "   ⎜     ╱     ⎛    2 ⎛    2    ⎞               ⎞         ╱     ⎛    2 ⎛    2 \n",
       " 2 ⎜    ╱  G⋅M⋅⎝- a₁ ⋅⎝- e₁  + 1⎠ + r⋅(2⋅a₁ - r)⎠        ╱  G⋅M⋅⎝- a₂ ⋅⎝- e₂  \n",
       "r ⋅⎜   ╱   ──────────────────────────────────────  +    ╱   ──────────────────\n",
       "   ⎜  ╱                        2                       ╱                      \n",
       "   ⎝╲╱                     a₁⋅r                      ╲╱                     a₂\n",
       "\n",
       "                       ⎛              ________________________________________\n",
       "                       ⎜             ╱     ⎛    2 ⎛    2    ⎞               ⎞ \n",
       "                       ⎜      2     ╱  G⋅M⋅⎝- a₁ ⋅⎝- e₁  + 1⎠ + r⋅(2⋅a₁ - r)⎠ \n",
       "_____________________⎞ ⎜2⋅a₁⋅r ⋅   ╱   ────────────────────────────────────── \n",
       "   ⎞               ⎞ ⎟ ⎜          ╱                        2                  \n",
       "+ 1⎠ + r⋅(2⋅a₂ - r)⎠ ⎟ ⎜        ╲╱                     a₁⋅r                   \n",
       "──────────────────── ⎟⋅⎜──────────────────────────────────────────────────────\n",
       "  2                  ⎟ ⎜                                          ⎛    2 ⎛    \n",
       "⋅r                   ⎠ ⎝                                      G⋅M⋅⎝- a₁ ⋅⎝- e₁\n",
       "\n",
       "                                                                             _\n",
       " ⎛                       ⎛    2 ⎛    2    ⎞               ⎞⎞                ╱ \n",
       " ⎜G⋅M⋅(2⋅a₁ - 2⋅r)   G⋅M⋅⎝- a₁ ⋅⎝- e₁  + 1⎠ + r⋅(2⋅a₁ - r)⎠⎟         2     ╱  \n",
       "⋅⎜──────────────── - ──────────────────────────────────────⎟   2⋅a₂⋅r ⋅   ╱   \n",
       " ⎜          2                            3                 ⎟             ╱    \n",
       " ⎝    2⋅a₁⋅r                         a₁⋅r                  ⎠           ╲╱     \n",
       "──────────────────────────────────────────────────────────── + ───────────────\n",
       "2    ⎞               ⎞                                                        \n",
       "  + 1⎠ + r⋅(2⋅a₁ - r)⎠                                                        \n",
       "\n",
       "_______________________________________                                       \n",
       "    ⎛    2 ⎛    2    ⎞               ⎞  ⎛                       ⎛    2 ⎛    2 \n",
       "G⋅M⋅⎝- a₂ ⋅⎝- e₂  + 1⎠ + r⋅(2⋅a₂ - r)⎠  ⎜G⋅M⋅(2⋅a₂ - 2⋅r)   G⋅M⋅⎝- a₂ ⋅⎝- e₂  \n",
       "────────────────────────────────────── ⋅⎜──────────────── - ──────────────────\n",
       "                    2                   ⎜          2                          \n",
       "                a₂⋅r                    ⎝    2⋅a₂⋅r                         a₂\n",
       "──────────────────────────────────────────────────────────────────────────────\n",
       "                           ⎛    2 ⎛    2    ⎞               ⎞                 \n",
       "                       G⋅M⋅⎝- a₂ ⋅⎝- e₂  + 1⎠ + r⋅(2⋅a₂ - r)⎠                 \n",
       "\n",
       "                     ⎞                                                        \n",
       "   ⎞               ⎞⎞⎟                                                        \n",
       "+ 1⎠ + r⋅(2⋅a₂ - r)⎠⎟⎟                                                        \n",
       "────────────────────⎟⎟       ⎛      ________________________________________  \n",
       "  3                 ⎟⎟       ⎜     ╱     ⎛    2 ⎛    2    ⎞               ⎞   \n",
       "⋅r                  ⎠⎟       ⎜    ╱  G⋅M⋅⎝- a₁ ⋅⎝- e₁  + 1⎠ + r⋅(2⋅a₁ - r)⎠   \n",
       "─────────────────────⎟ + 2⋅r⋅⎜   ╱   ──────────────────────────────────────  +\n",
       "                     ⎟       ⎜  ╱                        2                    \n",
       "                     ⎠       ⎝╲╱                     a₁⋅r                     \n",
       "\n",
       "                                                 \n",
       "                                                 \n",
       "                                                2\n",
       "       ________________________________________⎞ \n",
       "      ╱     ⎛    2 ⎛    2    ⎞               ⎞ ⎟ \n",
       "     ╱  G⋅M⋅⎝- a₂ ⋅⎝- e₂  + 1⎠ + r⋅(2⋅a₂ - r)⎠ ⎟ \n",
       "    ╱   ────────────────────────────────────── ⎟ \n",
       "   ╱                        2                  ⎟ \n",
       " ╲╱                     a₂⋅r                   ⎠ "
      ]
     },
     "execution_count": 51,
     "metadata": {},
     "output_type": "execute_result"
    }
   ],
   "source": [
    "ddv = diff(dv,r)\n",
    "ddv"
   ]
  },
  {
   "cell_type": "code",
   "execution_count": 52,
   "metadata": {
    "collapsed": false
   },
   "outputs": [
    {
     "data": {
      "image/png": "[encoded data removed]",
      "text/latex": [
       "$$\\frac{2 r}{\\left(a_{1}^{2} \\left(e_{1}^{2} - 1\\right) + r \\left(2 a_{1} - r\\right)\\right) \\left(a_{2}^{2} \\left(e_{2}^{2} - 1\\right) + r \\left(2 a_{2} - r\\right)\\right)} \\left(\\sqrt{\\frac{G M}{a_{1} r^{2}} \\left(a_{1}^{2} \\left(e_{1}^{2} - 1\\right) + r \\left(2 a_{1} - r\\right)\\right)} + \\sqrt{\\frac{G M}{a_{2} r^{2}} \\left(a_{2}^{2} \\left(e_{2}^{2} - 1\\right) + r \\left(2 a_{2} - r\\right)\\right)}\\right) \\left(\\sqrt{\\frac{G M}{a_{1} r^{2}} \\left(a_{1}^{2} \\left(e_{1}^{2} - 1\\right) + r \\left(2 a_{1} - r\\right)\\right)} \\left(a_{2}^{2} \\left(e_{2}^{2} - 1\\right) + r \\left(2 a_{2} - r\\right)\\right) \\left(- a_{1}^{2} \\left(e_{1}^{2} - 1\\right) + r \\left(a_{1} - r\\right) - r \\left(2 a_{1} - r\\right)\\right) + \\sqrt{\\frac{G M}{a_{2} r^{2}} \\left(a_{2}^{2} \\left(e_{2}^{2} - 1\\right) + r \\left(2 a_{2} - r\\right)\\right)} \\left(a_{1}^{2} \\left(e_{1}^{2} - 1\\right) + r \\left(2 a_{1} - r\\right)\\right) \\left(- a_{2}^{2} \\left(e_{2}^{2} - 1\\right) + r \\left(a_{2} - r\\right) - r \\left(2 a_{2} - r\\right)\\right) + \\left(a_{1}^{2} \\left(e_{1}^{2} - 1\\right) + r \\left(2 a_{1} - r\\right)\\right) \\left(a_{2}^{2} \\left(e_{2}^{2} - 1\\right) + r \\left(2 a_{2} - r\\right)\\right) \\left(\\sqrt{\\frac{G M}{a_{1} r^{2}} \\left(a_{1}^{2} \\left(e_{1}^{2} - 1\\right) + r \\left(2 a_{1} - r\\right)\\right)} + \\sqrt{\\frac{G M}{a_{2} r^{2}} \\left(a_{2}^{2} \\left(e_{2}^{2} - 1\\right) + r \\left(2 a_{2} - r\\right)\\right)}\\right)\\right)$$"
      ],
      "text/plain": [
       "    ⎛      ____________________________________         ______________________\n",
       "    ⎜     ╱     ⎛  2 ⎛  2    ⎞               ⎞         ╱     ⎛  2 ⎛  2    ⎞   \n",
       "    ⎜    ╱  G⋅M⋅⎝a₁ ⋅⎝e₁  - 1⎠ + r⋅(2⋅a₁ - r)⎠        ╱  G⋅M⋅⎝a₂ ⋅⎝e₂  - 1⎠ + \n",
       "2⋅r⋅⎜   ╱   ──────────────────────────────────  +    ╱   ─────────────────────\n",
       "    ⎜  ╱                      2                     ╱                      2  \n",
       "    ⎝╲╱                   a₁⋅r                    ╲╱                   a₂⋅r   \n",
       "──────────────────────────────────────────────────────────────────────────────\n",
       "                                                                              \n",
       "                                                                              \n",
       "\n",
       "______________⎞ ⎛      ____________________________________                   \n",
       "            ⎞ ⎟ ⎜     ╱     ⎛  2 ⎛  2    ⎞               ⎞                    \n",
       "r⋅(2⋅a₂ - r)⎠ ⎟ ⎜    ╱  G⋅M⋅⎝a₁ ⋅⎝e₁  - 1⎠ + r⋅(2⋅a₁ - r)⎠  ⎛  2 ⎛  2    ⎞    \n",
       "───────────── ⎟⋅⎜   ╱   ────────────────────────────────── ⋅⎝a₂ ⋅⎝e₂  - 1⎠ + r\n",
       "              ⎟ ⎜  ╱                      2                                   \n",
       "              ⎠ ⎝╲╱                   a₁⋅r                                    \n",
       "──────────────────────────────────────────────────────────────────────────────\n",
       "                                                                              \n",
       "                                                                              \n",
       "\n",
       "                                                                   ___________\n",
       "                                                                  ╱     ⎛  2 ⎛\n",
       "           ⎞ ⎛    2 ⎛  2    ⎞                            ⎞       ╱  G⋅M⋅⎝a₂ ⋅⎝\n",
       "⋅(2⋅a₂ - r)⎠⋅⎝- a₁ ⋅⎝e₁  - 1⎠ + r⋅(a₁ - r) - r⋅(2⋅a₁ - r)⎠ +    ╱   ──────────\n",
       "                                                               ╱              \n",
       "                                                             ╲╱               \n",
       "──────────────────────────────────────────────────────────────────────────────\n",
       "                                                           ⎛  2 ⎛  2    ⎞     \n",
       "                                                           ⎝a₁ ⋅⎝e₁  - 1⎠ + r⋅\n",
       "\n",
       "_________________________                                                     \n",
       "  2    ⎞               ⎞                                                      \n",
       "e₂  - 1⎠ + r⋅(2⋅a₂ - r)⎠  ⎛  2 ⎛  2    ⎞               ⎞ ⎛    2 ⎛  2    ⎞     \n",
       "──────────────────────── ⋅⎝a₁ ⋅⎝e₁  - 1⎠ + r⋅(2⋅a₁ - r)⎠⋅⎝- a₂ ⋅⎝e₂  - 1⎠ + r⋅\n",
       "        2                                                                     \n",
       "    a₂⋅r                                                                      \n",
       "──────────────────────────────────────────────────────────────────────────────\n",
       "          ⎞ ⎛  2 ⎛  2    ⎞               ⎞                                    \n",
       "(2⋅a₁ - r)⎠⋅⎝a₂ ⋅⎝e₂  - 1⎠ + r⋅(2⋅a₂ - r)⎠                                    \n",
       "\n",
       "                                                                              \n",
       "                                                                              \n",
       "                       ⎞   ⎛  2 ⎛  2    ⎞               ⎞ ⎛  2 ⎛  2    ⎞      \n",
       "(a₂ - r) - r⋅(2⋅a₂ - r)⎠ + ⎝a₁ ⋅⎝e₁  - 1⎠ + r⋅(2⋅a₁ - r)⎠⋅⎝a₂ ⋅⎝e₂  - 1⎠ + r⋅(\n",
       "                                                                              \n",
       "                                                                              \n",
       "──────────────────────────────────────────────────────────────────────────────\n",
       "                                                                              \n",
       "                                                                              \n",
       "\n",
       "           ⎛      ____________________________________         _______________\n",
       "           ⎜     ╱     ⎛  2 ⎛  2    ⎞               ⎞         ╱     ⎛  2 ⎛  2 \n",
       "         ⎞ ⎜    ╱  G⋅M⋅⎝a₁ ⋅⎝e₁  - 1⎠ + r⋅(2⋅a₁ - r)⎠        ╱  G⋅M⋅⎝a₂ ⋅⎝e₂  \n",
       "2⋅a₂ - r)⎠⋅⎜   ╱   ──────────────────────────────────  +    ╱   ──────────────\n",
       "           ⎜  ╱                      2                     ╱                  \n",
       "           ⎝╲╱                   a₁⋅r                    ╲╱                   \n",
       "──────────────────────────────────────────────────────────────────────────────\n",
       "                                                                              \n",
       "                                                                              \n",
       "\n",
       "_____________________⎞⎞\n",
       "   ⎞               ⎞ ⎟⎟\n",
       "- 1⎠ + r⋅(2⋅a₂ - r)⎠ ⎟⎟\n",
       "──────────────────── ⎟⎟\n",
       "    2                ⎟⎟\n",
       "a₂⋅r                 ⎠⎠\n",
       "───────────────────────\n",
       "                       \n",
       "                       "
      ]
     },
     "execution_count": 52,
     "metadata": {},
     "output_type": "execute_result"
    }
   ],
   "source": [
    "ddv = simplify(ddv)\n",
    "ddv"
   ]
  },
  {
   "cell_type": "code",
   "execution_count": 44,
   "metadata": {
    "collapsed": false
   },
   "outputs": [],
   "source": [
    "#str(ddv)"
   ]
  },
  {
   "cell_type": "code",
   "execution_count": 54,
   "metadata": {
    "collapsed": false
   },
   "outputs": [
    {
     "data": {
      "image/png": "[encoded data removed]",
      "text/latex": [
       "$$\\left [ \\sqrt{a_{1} a_{2} \\left(- e_{2}^{2} + 1\\right)}, \\quad - \\sqrt{- a_{1} a_{2} \\left(e_{2}^{2} - 1\\right)}\\right ]$$"
      ],
      "text/plain": [
       "⎡   ___________________      __________________⎤\n",
       "⎢  ╱       ⎛    2    ⎞      ╱        ⎛  2    ⎞ ⎥\n",
       "⎣╲╱  a₁⋅a₂⋅⎝- e₂  + 1⎠ , -╲╱  -a₁⋅a₂⋅⎝e₂  - 1⎠ ⎦"
      ]
     },
     "execution_count": 54,
     "metadata": {},
     "output_type": "execute_result"
    }
   ],
   "source": [
    "ddv_term1 = (a2/a1 - 1)*r**2 + (a2**2*(e2**2 - 1) - a2*a1*(e2**2 - 1))\n",
    "r_sol_1 = solve(ddv_term1,r)\n",
    "r_sol_1"
   ]
  },
  {
   "cell_type": "code",
   "execution_count": 19,
   "metadata": {
    "collapsed": false
   },
   "outputs": [
    {
     "data": {
      "image/png": "[encoded data removed]",
      "text/latex": [
       "$$\\sqrt{\\frac{G M}{a_{1} r^{2}} \\left(a_{1}^{2} \\left(e_{1}^{2} - 1\\right) + r \\left(2 a_{1} - r\\right)\\right)} \\left(a_{2}^{2} \\left(e_{2}^{2} - 1\\right) + r \\left(2 a_{2} - r\\right)\\right) \\left(- a_{1}^{2} \\left(e_{1}^{2} - 1\\right) + r \\left(a_{1} - r\\right) - r \\left(2 a_{1} - r\\right)\\right) + \\sqrt{\\frac{G M}{a_{2} r^{2}} \\left(a_{2}^{2} \\left(e_{2}^{2} - 1\\right) + r \\left(2 a_{2} - r\\right)\\right)} \\left(a_{1}^{2} \\left(e_{1}^{2} - 1\\right) + r \\left(2 a_{1} - r\\right)\\right) \\left(- a_{2}^{2} \\left(e_{2}^{2} - 1\\right) + r \\left(a_{2} - r\\right) - r \\left(2 a_{2} - r\\right)\\right) + \\left(a_{1}^{2} \\left(e_{1}^{2} - 1\\right) + r \\left(2 a_{1} - r\\right)\\right) \\left(a_{2}^{2} \\left(e_{2}^{2} - 1\\right) + r \\left(2 a_{2} - r\\right)\\right) \\left(\\sqrt{\\frac{G M}{a_{1} r^{2}} \\left(a_{1}^{2} \\left(e_{1}^{2} - 1\\right) + r \\left(2 a_{1} - r\\right)\\right)} + \\sqrt{\\frac{G M}{a_{2} r^{2}} \\left(a_{2}^{2} \\left(e_{2}^{2} - 1\\right) + r \\left(2 a_{2} - r\\right)\\right)}\\right)$$"
      ],
      "text/plain": [
       "      ____________________________________                                    \n",
       "     ╱     ⎛  2 ⎛  2    ⎞               ⎞                                     \n",
       "    ╱  G⋅M⋅⎝a₁ ⋅⎝e₁  - 1⎠ + r⋅(2⋅a₁ - r)⎠  ⎛  2 ⎛  2    ⎞               ⎞ ⎛   \n",
       "   ╱   ────────────────────────────────── ⋅⎝a₂ ⋅⎝e₂  - 1⎠ + r⋅(2⋅a₂ - r)⎠⋅⎝- a\n",
       "  ╱                      2                                                    \n",
       "╲╱                   a₁⋅r                                                     \n",
       "\n",
       "                                                  ____________________________\n",
       "                                                 ╱     ⎛  2 ⎛  2    ⎞         \n",
       " 2 ⎛  2    ⎞                            ⎞       ╱  G⋅M⋅⎝a₂ ⋅⎝e₂  - 1⎠ + r⋅(2⋅a\n",
       "₁ ⋅⎝e₁  - 1⎠ + r⋅(a₁ - r) - r⋅(2⋅a₁ - r)⎠ +    ╱   ───────────────────────────\n",
       "                                              ╱                      2        \n",
       "                                            ╲╱                   a₂⋅r         \n",
       "\n",
       "________                                                                      \n",
       "      ⎞                                                                       \n",
       "₂ - r)⎠  ⎛  2 ⎛  2    ⎞               ⎞ ⎛    2 ⎛  2    ⎞                      \n",
       "─────── ⋅⎝a₁ ⋅⎝e₁  - 1⎠ + r⋅(2⋅a₁ - r)⎠⋅⎝- a₂ ⋅⎝e₂  - 1⎠ + r⋅(a₂ - r) - r⋅(2⋅a\n",
       "                                                                              \n",
       "                                                                              \n",
       "\n",
       "                                                                        ⎛     \n",
       "                                                                        ⎜     \n",
       "      ⎞   ⎛  2 ⎛  2    ⎞               ⎞ ⎛  2 ⎛  2    ⎞               ⎞ ⎜    ╱\n",
       "₂ - r)⎠ + ⎝a₁ ⋅⎝e₁  - 1⎠ + r⋅(2⋅a₁ - r)⎠⋅⎝a₂ ⋅⎝e₂  - 1⎠ + r⋅(2⋅a₂ - r)⎠⋅⎜   ╱ \n",
       "                                                                        ⎜  ╱  \n",
       "                                                                        ⎝╲╱   \n",
       "\n",
       " ____________________________________         ________________________________\n",
       "╱     ⎛  2 ⎛  2    ⎞               ⎞         ╱     ⎛  2 ⎛  2    ⎞             \n",
       "  G⋅M⋅⎝a₁ ⋅⎝e₁  - 1⎠ + r⋅(2⋅a₁ - r)⎠        ╱  G⋅M⋅⎝a₂ ⋅⎝e₂  - 1⎠ + r⋅(2⋅a₂ - \n",
       "  ──────────────────────────────────  +    ╱   ───────────────────────────────\n",
       "                    2                     ╱                      2            \n",
       "                a₁⋅r                    ╲╱                   a₂⋅r             \n",
       "\n",
       "____⎞\n",
       "  ⎞ ⎟\n",
       "r)⎠ ⎟\n",
       "─── ⎟\n",
       "    ⎟\n",
       "    ⎠"
      ]
     },
     "execution_count": 19,
     "metadata": {},
     "output_type": "execute_result"
    }
   ],
   "source": [
    "#can't find a solution to this\n",
    "ddv_term2 = (sqrt(G*M*(a1**2*(e1**2 - 1) + r*(2*a1 - r))/(a1*r**2))*(a2**2*(e2**2 - 1) + r*(2*a2 - r))*(-a1**2*(e1**2 - 1) + r*(a1 - r) - r*(2*a1 - r)) + sqrt(G*M*(a2**2*(e2**2 - 1) + r*(2*a2 - r))/(a2*r**2))*(a1**2*(e1**2 - 1) + r*(2*a1 - r))*(-a2**2*(e2**2 - 1) + r*(a2 - r) - r*(2*a2 - r)) + (a1**2*(e1**2 - 1) + r*(2*a1 - r))*(a2**2*(e2**2 - 1) + r*(2*a2 - r))*(sqrt(G*M*(a1**2*(e1**2 - 1) + r*(2*a1 - r))/(a1*r**2)) + sqrt(G*M*(a2**2*(e2**2 - 1) + r*(2*a2 - r))/(a2*r**2))))\n",
    "ddv_term2"
   ]
  },
  {
   "cell_type": "code",
   "execution_count": 8,
   "metadata": {
    "collapsed": false
   },
   "outputs": [],
   "source": [
    "#True solution, term 1 and 2\n",
    "t1 = 2*G*M*(sqrt(-G*M*(-a1**2*(e1**2 - 1) - r*(2*a1 - r))/(a1*r**2))*(a2*(e2**2 - 1) + r) + sqrt(-G*M*(-a2**2*(e2**2 - 1) - r*(2*a2 - r))/(a2*r**2))*(a1*(e1**2 - 1) + r))*(sqrt(-G*M*(-a1**2*(e1**2 - 1) - r*(2*a1 - r))/(a1*r**2)) + sqrt(-G*M*(-a2**2*(e2**2 - 1) - r*(2*a2 - r))/(a2*r**2)))\n",
    "t2 = 2*sqrt(-G*M*(-a1**2*(e1**2 - 1) - r*(2*a1 - r))/(a1*r**2))*sqrt(-G*M*(-a2**2*(e2**2 - 1) - r*(2*a2 - r))/(a2*r**2))*(a1**2*sqrt(G*M/a1**3)*sqrt(-e1**2 + 1) - a2**2*sqrt(G*M/a2**3)*sqrt(-e2**2 + 1))**2\n",
    "\n",
    "#e1 == e2 << 1 - doesn't work!\n",
    "t3 = G*M*(sqrt(-G*M*(a1**2 - r*(2*a1 - r))/(a1*r**2))*(a2 - r) + sqrt(-G*M*(a2**2 - r*(2*a2 - r))/(a2*r**2))*(a1 - r))*(sqrt(-G*M*(a1**2 - r*(2*a1 - r))/(a1*r**2)) + sqrt(-G*M*(a2**2 - r*(2*a2 - r))/(a2*r**2)))\n",
    "t4 = sqrt(-G*M*(a1**2 - r*(2*a1 - r))/(a1*r**2))*sqrt(-G*M*(a2**2 - r*(2*a2 - r))/(a2*r**2))*(a1**2*sqrt(G*M/a1**3) - a2**2*sqrt(G*M/a2**3))**2"
   ]
  },
  {
   "cell_type": "markdown",
   "metadata": {},
   "source": [
    "# Plotting Stuff\n",
    "From plotting a few simple cases, it looks like just doing v1 - v2 (i.e. a 1-D velocity solution) has no max/min solution"
   ]
  },
  {
   "cell_type": "code",
   "execution_count": 56,
   "metadata": {
    "collapsed": true
   },
   "outputs": [],
   "source": [
    "import matplotlib.pyplot as plt\n",
    "import numpy as np\n",
    "%matplotlib inline"
   ]
  },
  {
   "cell_type": "code",
   "execution_count": 57,
   "metadata": {
    "collapsed": false
   },
   "outputs": [
    {
     "data": {
      "text/plain": [
       "[<matplotlib.lines.Line2D at 0x10d222e10>]"
      ]
     },
     "execution_count": 57,
     "metadata": {},
     "output_type": "execute_result"
    },
    {
     "data": {
      "image/png": "[encoded data removed]",
      "text/plain": [
       "<matplotlib.figure.Figure at 0x111a5ec90>"
      ]
     },
     "metadata": {},
     "output_type": "display_data"
    }
   ],
   "source": [
    "#1-d case - no min/max solution, the further out the greater relative velocity\n",
    "a1 = 1\n",
    "a2 = 1.05\n",
    "r = np.linspace(0.5,1.9,100)\n",
    "dv = np.sqrt(2/r - 1/a2) - np.sqrt(2/r - 1/a1)\n",
    "plt.plot(r,dv)"
   ]
  },
  {
   "cell_type": "code",
   "execution_count": 67,
   "metadata": {
    "collapsed": false
   },
   "outputs": [
    {
     "name": "stderr",
     "output_type": "stream",
     "text": [
      "/Users/silburt/anaconda2/envs/ml/lib/python2.7/site-packages/ipykernel/__main__.py:17: RuntimeWarning: invalid value encountered in sqrt\n",
      "/Users/silburt/anaconda2/envs/ml/lib/python2.7/site-packages/ipykernel/__main__.py:18: RuntimeWarning: invalid value encountered in sqrt\n",
      "/Users/silburt/anaconda2/envs/ml/lib/python2.7/site-packages/ipykernel/__main__.py:23: RuntimeWarning: invalid value encountered in sqrt\n",
      "/Users/silburt/anaconda2/envs/ml/lib/python2.7/site-packages/ipykernel/__main__.py:24: RuntimeWarning: invalid value encountered in sqrt\n"
     ]
    },
    {
     "name": "stdout",
     "output_type": "stream",
     "text": [
      "dv_max =1.1397906303 , r_sol=0.887411967465\n"
     ]
    },
    {
     "data": {
      "image/png": "[encoded data removed]",
      "text/plain": [
       "<matplotlib.figure.Figure at 0x112639e90>"
      ]
     },
     "metadata": {},
     "output_type": "display_data"
    }
   ],
   "source": [
    "#2-d case - maximum exists\n",
    "G = 1\n",
    "M = 1\n",
    "mu = G*M\n",
    "a1 = 1.\n",
    "a2 = 1.05\n",
    "e1 = 0.5\n",
    "e2 = 0.5\n",
    "min_ = 0.1\n",
    "max_ = 2\n",
    "r = np.linspace(min_,max_,500)\n",
    "\n",
    "n1 = np.sqrt(mu/(a1**3))\n",
    "n2 = np.sqrt(mu/(a2**3))\n",
    "cosf1 = (a1*(1-e1*e1)/r - 1)/e1\n",
    "cosf2 = (a2*(1-e2*e2)/r - 1)/e2\n",
    "sinf1 = -np.sqrt(1 - cosf1*cosf1)         #these are +/-\n",
    "sinf2 = np.sqrt(1 - cosf2*cosf2)        #these are +/-\n",
    "v1_phi = n1*a1/np.sqrt(1-e1*e1)*(1+e1*cosf1)\n",
    "v2_phi = n2*a2/np.sqrt(1-e2*e2)*(1+e2*cosf2)\n",
    "#v1_r = n1*a1/np.sqrt(1-e1*e1)*(e1*sinf1)\n",
    "#v2_r = n2*a2/np.sqrt(1-e2*e2)*(e2*sinf2)\n",
    "v1_r = -np.sqrt(mu*(2/r - 1/a1) - v1_phi*v1_phi)\n",
    "v2_r = np.sqrt(mu*(2/r - 1/a2) - v2_phi*v2_phi)\n",
    "\n",
    "dv = r*r*(np.sqrt((v1_phi - v2_phi)**2 + (v1_r - v2_r)**2))\n",
    "dv_real = dv[np.isnan(dv) == False]\n",
    "r_sol = np.sqrt(-a1*a2*(e2-1)*(e2+1))  #one solution to d(r**2*dv)/dr = 0, muck\n",
    "#r_sol2 = 2*a1*a2/(a1 + a2) - np.sqrt(a1*a2*(a1**2*e1**2 - a1**2 + a1*a2*e1**2 + a1*a2*e2**2 + 2*a1*a2 + a2**2*e2**2 - a2**2))/(a1 + a2)\n",
    "#r_sol3 = 2*a1*a2/(a1 + a2) + np.sqrt(a1*a2*(a1**2*e1**2 - a1**2 + a1*a2*e1**2 + a1*a2*e2**2 + 2*a1*a2 + a2**2*e2**2 - a2**2))/(a1 + a2)\n",
    "r_sol4 = np.sqrt((a2**2*(e2**2 - 1) - a2*a1*(e1**2 - 1))/(1 - a2/a1))\n",
    "\n",
    "plt.plot(r,dv);\n",
    "plt.plot([r_sol4,r_sol4],[min(dv_real),max(dv_real)], 'k--')\n",
    "print \"dv_max =\"+str(max(dv_real)), \", r_sol=\"+str(r_sol4)"
   ]
  },
  {
   "cell_type": "code",
   "execution_count": 68,
   "metadata": {
    "collapsed": false
   },
   "outputs": [
    {
     "name": "stderr",
     "output_type": "stream",
     "text": [
      "/Users/silburt/anaconda2/envs/ml/lib/python2.7/site-packages/ipykernel/__main__.py:2: RuntimeWarning: invalid value encountered in sqrt\n",
      "  from ipykernel import kernelapp as app\n",
      "/Users/silburt/anaconda2/envs/ml/lib/python2.7/site-packages/ipykernel/__main__.py:3: RuntimeWarning: invalid value encountered in sqrt\n",
      "  app.launch_new_instance()\n"
     ]
    },
    {
     "data": {
      "text/plain": [
       "[<matplotlib.lines.Line2D at 0x10d20cc10>]"
      ]
     },
     "execution_count": 68,
     "metadata": {},
     "output_type": "execute_result"
    },
    {
     "data": {
      "image/png": "[encoded data removed]",
      "text/plain": [
       "<matplotlib.figure.Figure at 0x112874150>"
      ]
     },
     "metadata": {},
     "output_type": "display_data"
    }
   ],
   "source": [
    "#find where ddv = 0\n",
    "term1 = 2*G*M*(np.sqrt(-G*M*(-a1**2*(e1**2 - 1) - r*(2*a1 - r))/(a1*r**2))*(a2*(e2**2 - 1) + r) + np.sqrt(-G*M*(-a2**2*(e2**2 - 1) - r*(2*a2 - r))/(a2*r**2))*(a1*(e1**2 - 1) + r))*(np.sqrt(-G*M*(-a1**2*(e1**2 - 1) - r*(2*a1 - r))/(a1*r**2)) + np.sqrt(-G*M*(-a2**2*(e2**2 - 1) - r*(2*a2 - r))/(a2*r**2)))\n",
    "term2 = 2*np.sqrt(-G*M*(-a1**2*(e1**2 - 1) - r*(2*a1 - r))/(a1*r**2))*np.sqrt(-G*M*(-a2**2*(e2**2 - 1) - r*(2*a2 - r))/(a2*r**2))*(a1**2*np.sqrt(G*M/a1**3)*np.sqrt(-e1**2 + 1) - a2**2*np.sqrt(G*M/a2**3)*np.sqrt(-e2**2 + 1))**2\n",
    "ddv_true = term1 + term2\n",
    "\n",
    "plt.plot(r,ddv_true)\n",
    "plt.plot([min_,max_],[0,0],'k--')\n",
    "plt.plot([r_sol4, r_sol4], [-0.2,0.2], 'r--')"
   ]
  },
  {
   "cell_type": "code",
   "execution_count": null,
   "metadata": {
    "collapsed": true
   },
   "outputs": [],
   "source": []
  }
 ],
 "metadata": {
  "kernelspec": {
   "display_name": "Python 2",
   "language": "python",
   "name": "python2"
  },
  "language_info": {
   "codemirror_mode": {
    "name": "ipython",
    "version": 2
   },
   "file_extension": ".py",
   "mimetype": "text/x-python",
   "name": "python",
   "nbconvert_exporter": "python",
   "pygments_lexer": "ipython2",
   "version": "2.7.11"
  }
 },
 "nbformat": 4,
 "nbformat_minor": 0
}
