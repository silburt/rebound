{
 "cells": [
  {
   "cell_type": "markdown",
   "metadata": {},
   "source": [
    "# Derivation for the HSF Auto-scaling routine\n",
    "The ultimate goal is to find the maximum relative velocity between two intersecting orbits"
   ]
  },
  {
   "cell_type": "code",
   "execution_count": 40,
   "metadata": {
    "collapsed": false
   },
   "outputs": [],
   "source": [
    "from sympy import *\n",
    "import numpy as np"
   ]
  },
  {
   "cell_type": "code",
   "execution_count": 41,
   "metadata": {
    "collapsed": false
   },
   "outputs": [],
   "source": [
    "r,e1,e2,cosf1,cosf2,a1,a2,m1,m2,G,M = symbols(\"r, e1, e2, f1, f2, a1, a2, m1, m2, G, M\")"
   ]
  },
  {
   "cell_type": "code",
   "execution_count": 46,
   "metadata": {
    "collapsed": false
   },
   "outputs": [],
   "source": [
    "mu = G*M\n",
    "n1 = sqrt(mu/(a1**3))\n",
    "n2 = sqrt(mu/(a2**3))\n",
    "v1 = sqrt(mu*(2/r - 1/a1))\n",
    "v2 = sqrt(mu*(2/r - 1/a2))\n",
    "cosf1 = (a1*(1-e1*e1)/r - 1)/e1\n",
    "cosf2 = (a2*(1-e2*e2)/r - 1)/e2\n",
    "#sinf1 = sqrt(1 - cosf1*cosf1)\n",
    "#sinf2 = sqrt(1 - cosf1*cosf1)\n",
    "#v1_r = n1*a1/sqrt(1-e1*e1)*(e1*sinf1)       #can be +/-\n",
    "#v2_r = n2*a2/sqrt(1-e2*e2)*(e2*sinf2)       #can be +/-\n",
    "\n",
    "v1_phi = n1*a1/sqrt(1-e1*e1)*(1+e1*cosf1)\n",
    "v1_r = -sqrt(v1*v1 - v1_phi*v1_phi)           #can be +/-\n",
    "v2_phi = n2*a2/sqrt(1-e2*e2)*(1+e2*cosf2)\n",
    "v2_r = sqrt(v2*v2 - v2_phi*v2_phi)           #can be +/-"
   ]
  },
  {
   "cell_type": "code",
   "execution_count": 47,
   "metadata": {
    "collapsed": false
   },
   "outputs": [
    {
     "data": {
      "text/plain": [
       "((a1**2*sqrt(G*M/a1**3)*sqrt(-e1**2 + 1)/r - a2**2*sqrt(G*M/a2**3)*sqrt(-e2**2 + 1)/r)**2 + (-sqrt(-G*M*a1*(-e1**2 + 1)/r**2 + G*M*(2/r - 1/a1)) - sqrt(-G*M*a2*(-e2**2 + 1)/r**2 + G*M*(2/r - 1/a2)))**2)**0.5"
      ]
     },
     "execution_count": 47,
     "metadata": {},
     "output_type": "execute_result"
    }
   ],
   "source": [
    "dv = ((v1_phi - v2_phi)**2 + (v1_r - v2_r)**2)**(0.5)\n",
    "dv"
   ]
  },
  {
   "cell_type": "code",
   "execution_count": 48,
   "metadata": {
    "collapsed": false
   },
   "outputs": [
    {
     "data": {
      "text/plain": [
       "(0.5*(-2*(G*M*a1*(-e1**2 + 1)/r**3 - G*M/r**2)/sqrt(-G*M*a1*(-e1**2 + 1)/r**2 + G*M*(2/r - 1/a1)) - 2*(G*M*a2*(-e2**2 + 1)/r**3 - G*M/r**2)/sqrt(-G*M*a2*(-e2**2 + 1)/r**2 + G*M*(2/r - 1/a2)))*(-sqrt(-G*M*a1*(-e1**2 + 1)/r**2 + G*M*(2/r - 1/a1)) - sqrt(-G*M*a2*(-e2**2 + 1)/r**2 + G*M*(2/r - 1/a2))) + 0.5*(-2*a1**2*sqrt(G*M/a1**3)*sqrt(-e1**2 + 1)/r**2 + 2*a2**2*sqrt(G*M/a2**3)*sqrt(-e2**2 + 1)/r**2)*(a1**2*sqrt(G*M/a1**3)*sqrt(-e1**2 + 1)/r - a2**2*sqrt(G*M/a2**3)*sqrt(-e2**2 + 1)/r))*((a1**2*sqrt(G*M/a1**3)*sqrt(-e1**2 + 1)/r - a2**2*sqrt(G*M/a2**3)*sqrt(-e2**2 + 1)/r)**2 + (-sqrt(-G*M*a1*(-e1**2 + 1)/r**2 + G*M*(2/r - 1/a1)) - sqrt(-G*M*a2*(-e2**2 + 1)/r**2 + G*M*(2/r - 1/a2)))**2)**(-0.5)"
      ]
     },
     "execution_count": 48,
     "metadata": {},
     "output_type": "execute_result"
    }
   ],
   "source": [
    "ddv = diff(dv,r)\n",
    "ddv"
   ]
  },
  {
   "cell_type": "code",
   "execution_count": 49,
   "metadata": {
    "collapsed": false
   },
   "outputs": [],
   "source": [
    "r_dvmax = solve(ddv,r)"
   ]
  },
  {
   "cell_type": "code",
   "execution_count": 50,
   "metadata": {
    "collapsed": false
   },
   "outputs": [
    {
     "data": {
      "text/plain": [
       "[]"
      ]
     },
     "execution_count": 50,
     "metadata": {},
     "output_type": "execute_result"
    }
   ],
   "source": [
    "r_dvmax"
   ]
  },
  {
   "cell_type": "markdown",
   "metadata": {},
   "source": [
    "# Plotting Stuff\n",
    "From plotting a few simple cases, it looks like just doing v1 - v2 (i.e. a 1-D velocity solution) has no max/min solution"
   ]
  },
  {
   "cell_type": "code",
   "execution_count": 16,
   "metadata": {
    "collapsed": true
   },
   "outputs": [],
   "source": [
    "import matplotlib.pyplot as plt\n",
    "%matplotlib inline"
   ]
  },
  {
   "cell_type": "code",
   "execution_count": 19,
   "metadata": {
    "collapsed": false
   },
   "outputs": [
    {
     "data": {
      "text/plain": [
       "[<matplotlib.lines.Line2D at 0x10fbd49d0>]"
      ]
     },
     "execution_count": 19,
     "metadata": {},
     "output_type": "execute_result"
    },
    {
     "data": {
      "image/png": "[encoded data removed]",
      "text/plain": [
       "<matplotlib.figure.Figure at 0x10e427210>"
      ]
     },
     "metadata": {},
     "output_type": "display_data"
    }
   ],
   "source": [
    "#1-d case - no min/max solution, the further out the greater relative velocity\n",
    "a1 = 1\n",
    "a2 = 1.05\n",
    "r = np.linspace(0.5,1.9,100)\n",
    "dv = np.sqrt(2/r - 1/a2) - np.sqrt(2/r - 1/a1)\n",
    "plt.plot(r,dv)"
   ]
  },
  {
   "cell_type": "code",
   "execution_count": 51,
   "metadata": {
    "collapsed": false
   },
   "outputs": [
    {
     "data": {
      "text/plain": [
       "[<matplotlib.lines.Line2D at 0x10bd26f90>]"
      ]
     },
     "execution_count": 51,
     "metadata": {},
     "output_type": "execute_result"
    },
    {
     "data": {
      "image/png": "[encoded data removed]",
      "text/plain": [
       "<matplotlib.figure.Figure at 0x10aede610>"
      ]
     },
     "metadata": {},
     "output_type": "display_data"
    }
   ],
   "source": [
    "#2-d case - maximum exists\n",
    "mu = 1\n",
    "a1 = 1\n",
    "a2 = 1.2\n",
    "e1 = 0.07\n",
    "e2 = 0.5\n",
    "r = np.linspace(0.94,1.06,500)\n",
    "\n",
    "n1 = sqrt(mu/(a1**3))\n",
    "n2 = sqrt(mu/(a2**3))\n",
    "cosf1 = (a1*(1-e1*e1)/r - 1)/e1\n",
    "cosf2 = (a2*(1-e2*e2)/r - 1)/e2\n",
    "sinf1 = np.sqrt(1 - cosf1*cosf1)         #these are +/-\n",
    "sinf2 = -np.sqrt(1 - cosf2*cosf2)        #these are +/-\n",
    "v1_phi = n1*a1/sqrt(1-e1*e1)*(1+e1*cosf1)\n",
    "v1_r = n1*a1/sqrt(1-e1*e1)*(e1*sinf1)\n",
    "v2_phi = n2*a2/sqrt(1-e2*e2)*(1+e2*cosf2)\n",
    "v2_r = n2*a2/sqrt(1-e2*e2)*(e2*sinf2)\n",
    "\n",
    "dv = ((v1_phi - v2_phi)**2 + (v1_r - v2_r)**2)**(0.5)\n",
    "plt.plot(r,dv)"
   ]
  },
  {
   "cell_type": "code",
   "execution_count": null,
   "metadata": {
    "collapsed": true
   },
   "outputs": [],
   "source": []
  }
 ],
 "metadata": {
  "kernelspec": {
   "display_name": "Python 2",
   "language": "python",
   "name": "python2"
  },
  "language_info": {
   "codemirror_mode": {
    "name": "ipython",
    "version": 2
   },
   "file_extension": ".py",
   "mimetype": "text/x-python",
   "name": "python",
   "nbconvert_exporter": "python",
   "pygments_lexer": "ipython2",
   "version": "2.7.11"
  }
 },
 "nbformat": 4,
 "nbformat_minor": 0
}
