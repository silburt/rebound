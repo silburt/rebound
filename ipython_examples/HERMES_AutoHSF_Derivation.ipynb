{
 "cells": [
  {
   "cell_type": "markdown",
   "metadata": {},
   "source": [
    "# Derivation for the HSF Auto-scaling routine\n",
    "The ultimate goal is to find the maximum relative velocity between two intersecting orbits"
   ]
  },
  {
   "cell_type": "code",
   "execution_count": 17,
   "metadata": {
    "collapsed": false
   },
   "outputs": [],
   "source": [
    "from sympy import *\n",
    "init_printing()"
   ]
  },
  {
   "cell_type": "code",
   "execution_count": 18,
   "metadata": {
    "collapsed": false
   },
   "outputs": [],
   "source": [
    "r,e1,e2,cosf1,cosf2,a1,a2,m1,m2,G,M = symbols(\"r, e1, e2, f1, f2, a1, a2, m1, m2, G, M\")"
   ]
  },
  {
   "cell_type": "code",
   "execution_count": 23,
   "metadata": {
    "collapsed": false
   },
   "outputs": [],
   "source": [
    "mu = G*M\n",
    "n1 = sqrt(mu/(a1**3))\n",
    "n2 = sqrt(mu/(a2**3))\n",
    "v1 = sqrt(mu*(2/r - 1/a1))\n",
    "v2 = sqrt(mu*(2/r - 1/a2))\n",
    "cosf1 = (a1*(1-e1*e1)/r - 1)/e1\n",
    "cosf2 = (a2*(1-e2*e2)/r - 1)/e2\n",
    "#sinf1 = sqrt(1 - cosf1*cosf1)\n",
    "#sinf2 = sqrt(1 - cosf1*cosf1)\n",
    "#v1_r = n1*a1/sqrt(1-e1*e1)*(e1*sinf1)       #can be +/-\n",
    "#v2_r = n2*a2/sqrt(1-e2*e2)*(e2*sinf2)       #can be +/-\n",
    "#v1_phi = n1*a1/sqrt(1-e1*e1)*(1+e1*cosf1)\n",
    "#v2_phi = n2*a2/sqrt(1-e2*e2)*(1+e2*cosf2)\n",
    "\n",
    "v1_phi = n1*a1/sqrt(1-e1*e1)*(1+e1)\n",
    "v2_phi = n2*a2/sqrt(1-e2*e2)*(1+e2)\n",
    "v1_r = -sqrt(v1*v1 - v1_phi*v1_phi)           #can be +/-\n",
    "v2_r = sqrt(v2*v2 - v2_phi*v2_phi)           #can be +/-"
   ]
  },
  {
   "cell_type": "code",
   "execution_count": 24,
   "metadata": {
    "collapsed": false
   },
   "outputs": [
    {
     "data": {
      "image/png": "[encoded data removed]",
      "text/latex": [
       "$$\\left(\\frac{a_{1} \\sqrt{\\frac{G M}{a_{1}^{3}}} \\left(e_{1} + 1\\right)}{\\sqrt{- e_{1}^{2} + 1}} - \\frac{a_{2} \\sqrt{\\frac{G M}{a_{2}^{3}}} \\left(e_{2} + 1\\right)}{\\sqrt{- e_{2}^{2} + 1}}\\right)^{2} + \\left(- \\sqrt{G M \\left(\\frac{2}{r} - \\frac{1}{a_{1}}\\right) - \\frac{G M \\left(e_{1} + 1\\right)^{2}}{a_{1} \\left(- e_{1}^{2} + 1\\right)}} - \\sqrt{G M \\left(\\frac{2}{r} - \\frac{1}{a_{2}}\\right) - \\frac{G M \\left(e_{2} + 1\\right)^{2}}{a_{2} \\left(- e_{2}^{2} + 1\\right)}}\\right)^{2}$$"
      ],
      "text/plain": [
       "                                                 2                            \n",
       "⎛        _____                    _____         ⎞                             \n",
       "⎜       ╱ G⋅M                    ╱ G⋅M          ⎟                             \n",
       "⎜a₁⋅   ╱  ─── ⋅(e₁ + 1)   a₂⋅   ╱  ─── ⋅(e₂ + 1)⎟    ⎛        ________________\n",
       "⎜     ╱     3                  ╱     3          ⎟    ⎜       ╱                \n",
       "⎜   ╲╱    a₁                 ╲╱    a₂           ⎟    ⎜      ╱      ⎛2   1 ⎞   \n",
       "⎜────────────────────── - ──────────────────────⎟  + ⎜-    ╱   G⋅M⋅⎜─ - ──⎟ - \n",
       "⎜       ___________              ___________    ⎟    ⎜    ╱        ⎝r   a₁⎠   \n",
       "⎜      ╱     2                  ╱     2         ⎟    ⎝  ╲╱                    \n",
       "⎝    ╲╱  - e₁  + 1            ╲╱  - e₂  + 1     ⎠                             \n",
       "\n",
       "                                                         \n",
       "                                                         \n",
       "                                                        2\n",
       "_______________         _______________________________⎞ \n",
       "            2          ╱                            2  ⎟ \n",
       "G⋅M⋅(e₁ + 1)          ╱      ⎛2   1 ⎞   G⋅M⋅(e₂ + 1)   ⎟ \n",
       "──────────────  -    ╱   G⋅M⋅⎜─ - ──⎟ - ────────────── ⎟ \n",
       "   ⎛    2    ⎞      ╱        ⎝r   a₂⎠      ⎛    2    ⎞ ⎟ \n",
       "a₁⋅⎝- e₁  + 1⎠    ╲╱                    a₂⋅⎝- e₂  + 1⎠ ⎠ \n",
       "                                                         "
      ]
     },
     "execution_count": 24,
     "metadata": {},
     "output_type": "execute_result"
    }
   ],
   "source": [
    "dv = (v1_phi - v2_phi)**2 + (v1_r - v2_r)**2\n",
    "dv"
   ]
  },
  {
   "cell_type": "code",
   "execution_count": 25,
   "metadata": {
    "collapsed": false
   },
   "outputs": [
    {
     "data": {
      "image/png": "[encoded data removed]",
      "text/latex": [
       "$$\\left(\\frac{2 G M}{r^{2} \\sqrt{G M \\left(\\frac{2}{r} - \\frac{1}{a_{2}}\\right) - \\frac{G M \\left(e_{2} + 1\\right)^{2}}{a_{2} \\left(- e_{2}^{2} + 1\\right)}}} + \\frac{2 G M}{r^{2} \\sqrt{G M \\left(\\frac{2}{r} - \\frac{1}{a_{1}}\\right) - \\frac{G M \\left(e_{1} + 1\\right)^{2}}{a_{1} \\left(- e_{1}^{2} + 1\\right)}}}\\right) \\left(- \\sqrt{G M \\left(\\frac{2}{r} - \\frac{1}{a_{1}}\\right) - \\frac{G M \\left(e_{1} + 1\\right)^{2}}{a_{1} \\left(- e_{1}^{2} + 1\\right)}} - \\sqrt{G M \\left(\\frac{2}{r} - \\frac{1}{a_{2}}\\right) - \\frac{G M \\left(e_{2} + 1\\right)^{2}}{a_{2} \\left(- e_{2}^{2} + 1\\right)}}\\right)$$"
      ],
      "text/plain": [
       "                                                                              \n",
       "                                                                              \n",
       "⎛                 2⋅G⋅M                                      2⋅G⋅M            \n",
       "⎜──────────────────────────────────────── + ──────────────────────────────────\n",
       "⎜         _______________________________            _________________________\n",
       "⎜        ╱                            2             ╱                         \n",
       "⎜ 2     ╱      ⎛2   1 ⎞   G⋅M⋅(e₂ + 1)       2     ╱      ⎛2   1 ⎞   G⋅M⋅(e₁ +\n",
       "⎜r ⋅   ╱   G⋅M⋅⎜─ - ──⎟ - ──────────────    r ⋅   ╱   G⋅M⋅⎜─ - ──⎟ - ─────────\n",
       "⎜     ╱        ⎝r   a₂⎠      ⎛    2    ⎞         ╱        ⎝r   a₁⎠      ⎛    2\n",
       "⎝   ╲╱                    a₂⋅⎝- e₂  + 1⎠       ╲╱                    a₁⋅⎝- e₁ \n",
       "\n",
       "        ⎛        _______________________________         _____________________\n",
       "        ⎜       ╱                            2          ╱                     \n",
       "      ⎞ ⎜      ╱      ⎛2   1 ⎞   G⋅M⋅(e₁ + 1)          ╱      ⎛2   1 ⎞   G⋅M⋅(\n",
       "──────⎟⋅⎜-    ╱   G⋅M⋅⎜─ - ──⎟ - ──────────────  -    ╱   G⋅M⋅⎜─ - ──⎟ - ─────\n",
       "______⎟ ⎜    ╱        ⎝r   a₁⎠      ⎛    2    ⎞      ╱        ⎝r   a₂⎠      ⎛ \n",
       "   2  ⎟ ⎝  ╲╱                    a₁⋅⎝- e₁  + 1⎠    ╲╱                    a₂⋅⎝-\n",
       " 1)   ⎟                                                                       \n",
       "───── ⎟                                                                       \n",
       "    ⎞ ⎟                                                                       \n",
       " + 1⎠ ⎠                                                                       \n",
       "\n",
       "__________⎞\n",
       "       2  ⎟\n",
       "e₂ + 1)   ⎟\n",
       "───────── ⎟\n",
       "   2    ⎞ ⎟\n",
       " e₂  + 1⎠ ⎠\n",
       "           \n",
       "           \n",
       "           \n",
       "           "
      ]
     },
     "execution_count": 25,
     "metadata": {},
     "output_type": "execute_result"
    }
   ],
   "source": [
    "ddv = diff(dv,r)\n",
    "ddv"
   ]
  },
  {
   "cell_type": "code",
   "execution_count": 26,
   "metadata": {
    "collapsed": false
   },
   "outputs": [
    {
     "data": {
      "image/png": "[encoded data removed]",
      "text/latex": [
       "$$- \\frac{2 G M \\left(\\sqrt{\\frac{G M}{a_{1} r \\left(e_{1}^{2} - 1\\right)} \\left(r \\left(e_{1} + 1\\right)^{2} + \\left(2 a_{1} - r\\right) \\left(e_{1}^{2} - 1\\right)\\right)} + \\sqrt{\\frac{G M}{a_{2} r \\left(e_{2}^{2} - 1\\right)} \\left(r \\left(e_{2} + 1\\right)^{2} + \\left(2 a_{2} - r\\right) \\left(e_{2}^{2} - 1\\right)\\right)}\\right)^{2}}{r^{2} \\sqrt{\\frac{G M}{a_{1} r \\left(e_{1}^{2} - 1\\right)} \\left(r \\left(e_{1} + 1\\right)^{2} + \\left(2 a_{1} - r\\right) \\left(e_{1}^{2} - 1\\right)\\right)} \\sqrt{\\frac{G M}{a_{2} r \\left(e_{2}^{2} - 1\\right)} \\left(r \\left(e_{2} + 1\\right)^{2} + \\left(2 a_{2} - r\\right) \\left(e_{2}^{2} - 1\\right)\\right)}}$$"
      ],
      "text/plain": [
       "                                                                              \n",
       "       ⎛      __________________________________________         _____________\n",
       "       ⎜     ╱     ⎛          2              ⎛  2    ⎞⎞         ╱     ⎛       \n",
       "       ⎜    ╱  G⋅M⋅⎝r⋅(e₁ + 1)  + (2⋅a₁ - r)⋅⎝e₁  - 1⎠⎠        ╱  G⋅M⋅⎝r⋅(e₂ +\n",
       "-2⋅G⋅M⋅⎜   ╱   ────────────────────────────────────────  +    ╱   ────────────\n",
       "       ⎜  ╱                      ⎛  2    ⎞                   ╱                \n",
       "       ⎝╲╱                  a₁⋅r⋅⎝e₁  - 1⎠                 ╲╱                 \n",
       "──────────────────────────────────────────────────────────────────────────────\n",
       "              __________________________________________       _______________\n",
       "             ╱     ⎛          2              ⎛  2    ⎞⎞       ╱     ⎛         \n",
       "      2     ╱  G⋅M⋅⎝r⋅(e₁ + 1)  + (2⋅a₁ - r)⋅⎝e₁  - 1⎠⎠      ╱  G⋅M⋅⎝r⋅(e₂ + 1\n",
       "     r ⋅   ╱   ──────────────────────────────────────── ⋅   ╱   ──────────────\n",
       "          ╱                      ⎛  2    ⎞                 ╱                  \n",
       "        ╲╱                  a₁⋅r⋅⎝e₁  - 1⎠               ╲╱                  a\n",
       "\n",
       "                              2 \n",
       "_____________________________⎞  \n",
       "   2              ⎛  2    ⎞⎞ ⎟  \n",
       " 1)  + (2⋅a₂ - r)⋅⎝e₂  - 1⎠⎠ ⎟  \n",
       "──────────────────────────── ⎟  \n",
       "      ⎛  2    ⎞              ⎟  \n",
       " a₂⋅r⋅⎝e₂  - 1⎠              ⎠  \n",
       "────────────────────────────────\n",
       "___________________________     \n",
       " 2              ⎛  2    ⎞⎞      \n",
       ")  + (2⋅a₂ - r)⋅⎝e₂  - 1⎠⎠      \n",
       "──────────────────────────      \n",
       "    ⎛  2    ⎞                   \n",
       "₂⋅r⋅⎝e₂  - 1⎠                   "
      ]
     },
     "execution_count": 26,
     "metadata": {},
     "output_type": "execute_result"
    }
   ],
   "source": [
    "ddv = simplify(ddv)\n",
    "ddv"
   ]
  },
  {
   "cell_type": "markdown",
   "metadata": {},
   "source": [
    "# Plotting Stuff\n",
    "From plotting a few simple cases, it looks like just doing v1 - v2 (i.e. a 1-D velocity solution) has no max/min solution"
   ]
  },
  {
   "cell_type": "code",
   "execution_count": 13,
   "metadata": {
    "collapsed": true
   },
   "outputs": [],
   "source": [
    "import matplotlib.pyplot as plt\n",
    "import numpy as np\n",
    "%matplotlib inline"
   ]
  },
  {
   "cell_type": "code",
   "execution_count": 14,
   "metadata": {
    "collapsed": false
   },
   "outputs": [
    {
     "data": {
      "text/plain": [
       "[<matplotlib.lines.Line2D at 0x10d22df90>]"
      ]
     },
     "execution_count": 14,
     "metadata": {},
     "output_type": "execute_result"
    },
    {
     "data": {
      "image/png": "[encoded data removed]",
      "text/plain": [
       "<matplotlib.figure.Figure at 0x10eb59650>"
      ]
     },
     "metadata": {},
     "output_type": "display_data"
    }
   ],
   "source": [
    "#1-d case - no min/max solution, the further out the greater relative velocity\n",
    "a1 = 1\n",
    "a2 = 1.05\n",
    "r = np.linspace(0.5,1.9,100)\n",
    "dv = np.sqrt(2/r - 1/a2) - np.sqrt(2/r - 1/a1)\n",
    "plt.plot(r,dv)"
   ]
  },
  {
   "cell_type": "code",
   "execution_count": 15,
   "metadata": {
    "collapsed": false
   },
   "outputs": [
    {
     "data": {
      "text/plain": [
       "[<matplotlib.lines.Line2D at 0x111807750>]"
      ]
     },
     "execution_count": 15,
     "metadata": {},
     "output_type": "execute_result"
    },
    {
     "data": {
      "image/png": "[encoded data removed]",
      "text/plain": [
       "<matplotlib.figure.Figure at 0x10ea9bad0>"
      ]
     },
     "metadata": {},
     "output_type": "display_data"
    }
   ],
   "source": [
    "#2-d case - maximum exists\n",
    "mu = 1\n",
    "a1 = 1\n",
    "a2 = 1.2\n",
    "e1 = 0.07\n",
    "e2 = 0.5\n",
    "r = np.linspace(0.94,1.06,500)\n",
    "\n",
    "n1 = sqrt(mu/(a1**3))\n",
    "n2 = sqrt(mu/(a2**3))\n",
    "cosf1 = (a1*(1-e1*e1)/r - 1)/e1\n",
    "cosf2 = (a2*(1-e2*e2)/r - 1)/e2\n",
    "sinf1 = np.sqrt(1 - cosf1*cosf1)         #these are +/-\n",
    "sinf2 = -np.sqrt(1 - cosf2*cosf2)        #these are +/-\n",
    "v1_phi = n1*a1/sqrt(1-e1*e1)*(1+e1*cosf1)\n",
    "v1_r = n1*a1/sqrt(1-e1*e1)*(e1*sinf1)\n",
    "v2_phi = n2*a2/sqrt(1-e2*e2)*(1+e2*cosf2)\n",
    "v2_r = n2*a2/sqrt(1-e2*e2)*(e2*sinf2)\n",
    "\n",
    "dv = ((v1_phi - v2_phi)**2 + (v1_r - v2_r)**2)**(0.5)\n",
    "plt.plot(r,dv)"
   ]
  },
  {
   "cell_type": "code",
   "execution_count": null,
   "metadata": {
    "collapsed": true
   },
   "outputs": [],
   "source": []
  }
 ],
 "metadata": {
  "kernelspec": {
   "display_name": "Python 2",
   "language": "python",
   "name": "python2"
  },
  "language_info": {
   "codemirror_mode": {
    "name": "ipython",
    "version": 2
   },
   "file_extension": ".py",
   "mimetype": "text/x-python",
   "name": "python",
   "nbconvert_exporter": "python",
   "pygments_lexer": "ipython2",
   "version": "2.7.11"
  }
 },
 "nbformat": 4,
 "nbformat_minor": 0
}
