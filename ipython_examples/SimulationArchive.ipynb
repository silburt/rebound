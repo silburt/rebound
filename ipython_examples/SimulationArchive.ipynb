{
 "cells": [
  {
   "cell_type": "markdown",
   "metadata": {},
   "source": [
    "# Simulation Archive\n",
    "A Simulation Archive (Rein & Tamayo 2017) is useful when one runs long simulations. With the Simulation Archive, one can easily restart the simulation and analyize it. The Simulation Archive works with `WHFast`, `WHFastHelio` and `IAS15`. There are some restrictions that apply, for example, the number of paricles has to be constant throughout the integration."
   ]
  },
  {
   "cell_type": "markdown",
   "metadata": {},
   "source": [
    "To illustrate the Simulation Archive, let us setup a simulation of a two planet system and turn on the Simulation Archive. This is done with the following code:"
   ]
  },
  {
   "cell_type": "code",
   "execution_count": 1,
   "metadata": {
    "collapsed": false
   },
   "outputs": [],
   "source": [
    "import rebound\n",
    "import numpy as np\n",
    "sim = rebound.Simulation()\n",
    "sim.add(m=1.)\n",
    "sim.add(m=1e-3, a=1.)\n",
    "sim.add(m=1e-3, a=1.9)\n",
    "sim.move_to_com()\n",
    "sim.dt = sim.particles[1].P*0.05  # timestep is 5% of orbital period\n",
    "sim.integrator = \"whfast\"\n",
    "sim.initSimulationArchive(\"archive.bin\", interval=1e3)"
   ]
  },
  {
   "cell_type": "markdown",
   "metadata": {},
   "source": [
    "The first argument of `initSimulationArchive` is the binary file to write to, the `interval` argument specifies the interval at which snapshots of the simulation are saved (in whichever code units you work). The smaller the interval, the larger the file size, but the faster the access."
   ]
  },
  {
   "cell_type": "markdown",
   "metadata": {},
   "source": [
    "We now integrate the simulation forward in time. This should take a few seconds."
   ]
  },
  {
   "cell_type": "code",
   "execution_count": 2,
   "metadata": {
    "collapsed": false
   },
   "outputs": [],
   "source": [
    "sim.integrate(1e6)"
   ]
  },
  {
   "cell_type": "markdown",
   "metadata": {},
   "source": [
    "We can now delete the simulation. Note that we could also have run the simulation using the C version of REBOUND. This might be useful if one wants to run a long simulation on a cluster and doesn't want to bother with installing python. In C, one can initialize the Simulation Archive with\n",
    "```c\n",
    "struct reb_simulation* sim = reb_create_simulation();\n",
    "...\n",
    "sim->simulationarchive_interval = 1e3;\n",
    "sim->simulationarchive_filename = \"archive.bin\";\n",
    "```"
   ]
  },
  {
   "cell_type": "code",
   "execution_count": 3,
   "metadata": {
    "collapsed": true
   },
   "outputs": [],
   "source": [
    "del sim"
   ]
  },
  {
   "cell_type": "markdown",
   "metadata": {},
   "source": [
    "We now look at the Simulation Archive. You could do this at a later time, on a different computer, with a different version of REBOUND and it will still work. "
   ]
  },
  {
   "cell_type": "code",
   "execution_count": 4,
   "metadata": {
    "collapsed": true
   },
   "outputs": [],
   "source": [
    "sa = rebound.SimulationArchive(\"archive.bin\")"
   ]
  },
  {
   "cell_type": "markdown",
   "metadata": {},
   "source": [
    "Let's first print the number of snapshots and the time of the first and last snaphot in the archive:"
   ]
  },
  {
   "cell_type": "code",
   "execution_count": 5,
   "metadata": {
    "collapsed": false
   },
   "outputs": [
    {
     "name": "stdout",
     "output_type": "stream",
     "text": [
      "Number of snapshots: 1001\n",
      "Time of first and last snapshot: 0.0, 1000000.0\n"
     ]
    }
   ],
   "source": [
    "print(\"Number of snapshots: %d\" % len(sa))\n",
    "print(\"Time of first and last snapshot: %.1f, %.1f\" % (sa.tmin, sa.tmax))"
   ]
  },
  {
   "cell_type": "markdown",
   "metadata": {},
   "source": [
    "We can access each snapshot by indexing the Simulation Archive. This returns a REBOUND simulation object that corresponds to that time. Everything is accurate down to the last bit. That means one could use this simulation object and restart the simulation, the final coordinates of the planets will be exactly the same as in the original simulation."
   ]
  },
  {
   "cell_type": "code",
   "execution_count": 6,
   "metadata": {
    "collapsed": false
   },
   "outputs": [
    {
     "name": "stdout",
     "output_type": "stream",
     "text": [
      "500000.311856871 <rebound.Particle object, m=0.001 x=0.9504733955993411 y=-0.3136998291298755 z=0.0 vx=0.3120007167035874 vy=0.9470717195259918 vz=0.0>\n"
     ]
    }
   ],
   "source": [
    "sim = sa[500]\n",
    "print(sim.t, sim.particles[1])"
   ]
  },
  {
   "cell_type": "markdown",
   "metadata": {},
   "source": [
    "One can also step through every simulation in the archive using the generator functionality, for example to store the eccentricity of the inner planet as a function of time:"
   ]
  },
  {
   "cell_type": "code",
   "execution_count": 7,
   "metadata": {
    "collapsed": true
   },
   "outputs": [],
   "source": [
    "eccentricities = np.zeros(len(sa))\n",
    "for i, sim in enumerate(sa):\n",
    "    eccentricities[i] = sim.particles[1].e"
   ]
  },
  {
   "cell_type": "markdown",
   "metadata": {},
   "source": [
    "If we to access a simulation at a specific time, such as in-between snapshots, one can use the `getSimulation()` function:"
   ]
  },
  {
   "cell_type": "code",
   "execution_count": 8,
   "metadata": {
    "collapsed": false
   },
   "outputs": [
    {
     "name": "stdout",
     "output_type": "stream",
     "text": [
      "12000.226030496653\n"
     ]
    }
   ],
   "source": [
    "sim = sa.getSimulation(12345.6)\n",
    "print(sim.t)"
   ]
  },
  {
   "cell_type": "markdown",
   "metadata": {},
   "source": [
    "By default, the function returns a simulation that corresponds to the snapshot that is nearby. To get closer to the requested time, one can use the `mode` attribute:"
   ]
  },
  {
   "cell_type": "code",
   "execution_count": 9,
   "metadata": {
    "collapsed": false
   },
   "outputs": [
    {
     "name": "stdout",
     "output_type": "stream",
     "text": [
      "12345.628564279925\n"
     ]
    }
   ],
   "source": [
    "sim = sa.getSimulation(12345.6, mode=\"close\")\n",
    "print(sim.t)"
   ]
  },
  {
   "cell_type": "markdown",
   "metadata": {},
   "source": [
    "In the above code, REBOUND looks up a nearby snaphot and then integrates the simulation forward in time to get close to the request time. As one can see, with `mode=\"close\"`, one gets a simulation very close to the request time, but it is still slightly off. This is because `WHFast` uses a fixed timestep. If we want to reach the requested time eactly, we have to change the timestep. Changing a timestep in a symplectic integrator can cause problems, but if one really wants to get a simulation object at the exact time (for example to match observations), then the `mode=\"exact\"` flag does that."
   ]
  },
  {
   "cell_type": "code",
   "execution_count": 10,
   "metadata": {
    "collapsed": false
   },
   "outputs": [
    {
     "name": "stdout",
     "output_type": "stream",
     "text": [
      "12345.6\n"
     ]
    }
   ],
   "source": [
    "sim = sa.getSimulation(12345.6, mode=\"exact\")\n",
    "print(sim.t)"
   ]
  },
  {
   "cell_type": "markdown",
   "metadata": {},
   "source": [
    "Requesting a simulation at any time between `tmin` and `tmax` only takes a few seconds at most (keep in mind, REBOUND integrates the simulation from the nearest snaphot to the requested time). To analyze a large simulation, you might want to do this in parallel. We can easily do that by using REBOUND's `InterruptiblePool`. In the following example, we calculate the distance between the two planets at 432 times in the interval $[t_{min},t_{max}]$."
   ]
  },
  {
   "cell_type": "code",
   "execution_count": 11,
   "metadata": {
    "collapsed": false
   },
   "outputs": [],
   "source": [
    "def thread_init(*rest):\n",
    "    global sat\n",
    "    sat = rebound.SimulationArchive(\"archive.bin\")\n",
    "def analyze(t):\n",
    "    sim = sat.getSimulation(t,mode=\"close\")\n",
    "    d12 = sim.particles[1] - sim.particles[2]\n",
    "    return np.sqrt(d12.x*d12.x+d12.y*d12.y+d12.z*d12.z)\n",
    "pool = rebound.InterruptiblePool(initializer=thread_init)\n",
    "times = np.linspace(sa.tmin, sa.tmax, 432)\n",
    "distances = pool.map(analyze,times)"
   ]
  },
  {
   "cell_type": "markdown",
   "metadata": {},
   "source": [
    "Note that in the above example, we use an initializer function so that each thread has its own Simulation Archive."
   ]
  },
  {
   "cell_type": "markdown",
   "metadata": {
    "collapsed": true
   },
   "source": [
    "# Note\n",
    "\n",
    "For efficiency reasons, indexing the `SimulationArchive` always updates an internal pointer to a `Simulation` and returns it. This can sometimes lead to surprising behavior. For example, if one tried to rerun a simulation from the first snapshot to the final time:"
   ]
  },
  {
   "cell_type": "code",
   "execution_count": 12,
   "metadata": {
    "collapsed": false
   },
   "outputs": [],
   "source": [
    "sim = sa[0]\n",
    "sim.integrate(sa[-1].t)"
   ]
  },
  {
   "cell_type": "markdown",
   "metadata": {},
   "source": [
    "This code executes immediately because it's not doing the integration! When `sa[-1].t` is evaluated to get the final time, `sim` is automatically updated to reflect a simulation initialized at the final snapshot, which is already at the final time."
   ]
  },
  {
   "cell_type": "code",
   "execution_count": null,
   "metadata": {
    "collapsed": true
   },
   "outputs": [],
   "source": []
  }
 ],
 "metadata": {
  "kernelspec": {
   "display_name": "Python 3",
   "language": "python",
   "name": "python3"
  },
  "language_info": {
   "codemirror_mode": {
    "name": "ipython",
    "version": 3
   },
   "file_extension": ".py",
   "mimetype": "text/x-python",
   "name": "python",
   "nbconvert_exporter": "python",
   "pygments_lexer": "ipython3",
   "version": "3.5.1"
  }
 },
 "nbformat": 4,
 "nbformat_minor": 0
}
