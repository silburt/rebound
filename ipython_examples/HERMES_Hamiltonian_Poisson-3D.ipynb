{
 "cells": [
  {
   "cell_type": "code",
   "execution_count": 53,
   "metadata": {
    "collapsed": false
   },
   "outputs": [],
   "source": [
    "from sympy import *\n",
    "import numpy as np"
   ]
  },
  {
   "cell_type": "code",
   "execution_count": 123,
   "metadata": {
    "collapsed": true
   },
   "outputs": [],
   "source": [
    "r0,r1,r2,p0,p1,p2,m0,m1,m2,v0,v,a,G = symbols(\"r0, r1, r2, p0, p1, p2, m0, m1, m2, v0, v, a, G\")"
   ]
  },
  {
   "cell_type": "code",
   "execution_count": 103,
   "metadata": {
    "collapsed": false
   },
   "outputs": [],
   "source": [
    "#Jacobi variables\n",
    "M1 = m0 + m1\n",
    "M2 = m0 + m1 + m2\n",
    "m1p = m1*m0/M1           #p for prime, as in jacobi coordinates\n",
    "m2p = m2*M1/M2\n",
    "r1p = r1 - r0\n",
    "r2p = r2 - (m1*r1 + m0*r0)/M1\n",
    "p1p = m1p*(p1/m1 - p0/m0)\n",
    "p2p = m2p*(p2/m2 - p1/M1 - p0/M1)"
   ]
  },
  {
   "cell_type": "code",
   "execution_count": 104,
   "metadata": {
    "collapsed": false
   },
   "outputs": [],
   "source": [
    "H_k = 0.5*p2p*p2p/m2p + 0.5*p1p*p1p/m1p - G*M1*m1p/r1p - G*M2*m2p/r2p\n",
    "H_i = -G*m1*m2/(r1 - r2) - G*m0*m2/(r0 - r2) + G*M2*m2p/r2p"
   ]
  },
  {
   "cell_type": "code",
   "execution_count": 105,
   "metadata": {
    "collapsed": false
   },
   "outputs": [],
   "source": [
    "A = -diff(H_k,p1)*diff(H_i,r1)\n",
    "B = 0.5*H_k + H_i"
   ]
  },
  {
   "cell_type": "code",
   "execution_count": 128,
   "metadata": {
    "collapsed": false
   },
   "outputs": [
    {
     "data": {
      "text/plain": [
       "-0.5*G*m0*(-2*G*m1*m2/(r1 - r2)**3 + 2*G*m1**2*m2/(m0*(r2 - (m0*r0 + m1*r1)/m0)**3))/a + 1.0*(G*m1*m2/(r2 - (m0*r0 + m1*r1)/m0)**2 + G*m1*m2/(r1 - r2)**2)*(0.5*G*m1*m2/(r2 - (m0*r0 + m1*r1)/m0)**2 + G*m1*m2/(r1 - r2)**2 + 0.5*G*m0*m1/a**2)/m1"
      ]
     },
     "execution_count": 128,
     "metadata": {},
     "output_type": "execute_result"
    }
   ],
   "source": [
    "#differentiate\n",
    "result = diff(A,r1)*diff(B,p1) - diff(A,p1)*diff(B,r1) \n",
    "\n",
    "#assumptions\n",
    "result = result.subs({p0:m0*v0, p1:m1*v, p2:m2*v})  #assume planet/planetesimal have roughly same velocity\n",
    "result = result.subs({m0+m1:m0, m0+m2:m0, m1+m2:m2})\n",
    "result = result.subs(-1.0/m1 - 1.0*m2/m0**2, -1.0/m1)\n",
    "\n",
    "#questionable - I think this is true because second term has m1**2\n",
    "#result = result.subs(-2*G*m1*m2/(r1-r2)**3 + 2*G*m1**2*m2/(m0*(r2-(m0*r0+m1*r1)/m0)**3), -2*G*m1*m2/(r1-r2)**3)\n",
    "\n",
    "#good\n",
    "result = result.subs({v+v0:v, v-v0:v, -1.0*v+1.0*v0:-v, 0.5*v-0.5*v0:0.5*v}) #star velocity is small vs. planet\n",
    "result = result.subs(-v + 1.0*m2*(v - m1*v/m0)/m0, -v)        #these are basically the same\n",
    "result = result.subs(0.5*v - 0.5*m2*(v - m1*v/m0)/m0, 0.5*v)  #these are basically the same\n",
    "result = result.subs(v**2, G*m0/a)\n",
    "result = result.subs(-r0 + r1, a)\n",
    "\n",
    "result"
   ]
  },
  {
   "cell_type": "code",
   "execution_count": null,
   "metadata": {
    "collapsed": true
   },
   "outputs": [],
   "source": []
  }
 ],
 "metadata": {
  "kernelspec": {
   "display_name": "Python 2",
   "language": "python",
   "name": "python2"
  },
  "language_info": {
   "codemirror_mode": {
    "name": "ipython",
    "version": 2
   },
   "file_extension": ".py",
   "mimetype": "text/x-python",
   "name": "python",
   "nbconvert_exporter": "python",
   "pygments_lexer": "ipython2",
   "version": "2.7.11"
  }
 },
 "nbformat": 4,
 "nbformat_minor": 0
}
