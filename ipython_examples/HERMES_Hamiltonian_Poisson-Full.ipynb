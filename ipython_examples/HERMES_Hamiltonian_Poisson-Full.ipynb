{
 "cells": [
  {
   "cell_type": "code",
   "execution_count": 1,
   "metadata": {
    "collapsed": false
   },
   "outputs": [],
   "source": [
    "from sympy import *\n",
    "init_printing()\n",
    "import numpy as np"
   ]
  },
  {
   "cell_type": "code",
   "execution_count": 2,
   "metadata": {
    "collapsed": true
   },
   "outputs": [],
   "source": [
    "m0,m1,m2,v0,v,a,G = symbols(\"m0, m1, m2, v0, v, a, G\")\n",
    "r0,r1,r2,p0,p1,p2 = symbols(\"r0,r1,r2,p0,p1,p2\")"
   ]
  },
  {
   "cell_type": "code",
   "execution_count": 3,
   "metadata": {
    "collapsed": false
   },
   "outputs": [],
   "source": [
    "#Jacobi variables\n",
    "M1 = m0 + m1\n",
    "M2 = m0 + m1 + m2\n",
    "m1p = m1*m0/M1           #p for prime, as in jacobi coordinates\n",
    "m2p = m2*M1/M2\n",
    "r1p = r1 - r0\n",
    "r2p = r2 - (m1*r1 + m0*r0)/M1\n",
    "p1p = m1p*(p1/m1 - p0/m0)\n",
    "p2p = m2p*(p2/m2 - p1/M1 - p0/M1)"
   ]
  },
  {
   "cell_type": "code",
   "execution_count": 4,
   "metadata": {
    "collapsed": false
   },
   "outputs": [],
   "source": [
    "H_k = 0.5*p2p*p2p/m2p + 0.5*p1p*p1p/m1p - G*M1*m1p/r1p - G*M2*m2p/r2p\n",
    "H_i = -G*m1*m2/(r1 - r2) - G*m0*m2/(r0 - r2) + G*M2*m2p/r2p"
   ]
  },
  {
   "cell_type": "code",
   "execution_count": 5,
   "metadata": {
    "collapsed": false
   },
   "outputs": [],
   "source": [
    "A = -(diff(H_k,p0)*diff(H_i,r0) + diff(H_k,p1)*diff(H_i,r1) + diff(H_k,p2)*diff(H_i,r2))\n",
    "B = 0.5*H_k + H_i"
   ]
  },
  {
   "cell_type": "code",
   "execution_count": 6,
   "metadata": {
    "collapsed": true
   },
   "outputs": [],
   "source": [
    "#differentiate\n",
    "diff0 = diff(A,r0)*diff(B,p0) - diff(A,p0)*diff(B,r0)\n",
    "diff1 = diff(A,r1)*diff(B,p1) - diff(A,p1)*diff(B,r1)\n",
    "diff2 = diff(A,r2)*diff(B,p2) - diff(A,p2)*diff(B,r2)\n",
    "result = diff0 + diff1 + diff2"
   ]
  },
  {
   "cell_type": "code",
   "execution_count": 15,
   "metadata": {
    "collapsed": false
   },
   "outputs": [],
   "source": [
    "#assumptions\n",
    "#basic\n",
    "result = result.subs({p0:m0*v0, p1:m1*v, p2:m2*v})  #assume planet/planetesimal have roughly same velocity\n",
    "result = result.subs({m0+m1:m0, m0+m2:m0, m1+m2:m2})\n",
    "result = result.subs(-1.0/m1 - 1.0*m2/m0**2, -1.0/m1)\n",
    "\n",
    "#more specific m0>>m2>>m1, v1=v2 >> v0 subs\n",
    "result = result.subs({1.0*v-1.0*v0:1.0*v, (v-v0):v})\n",
    "result = result.subs({1.0*v-1.0*m2*v/m0:1.0*v, 0.5*v-0.5*v0-0.5*m2*v/m0:0.5*v, -1.0*m1*v/m0-1.0*m2*v/m0:1.0*m2*v/m0})\n",
    "#result"
   ]
  },
  {
   "cell_type": "code",
   "execution_count": 13,
   "metadata": {
    "collapsed": false
   },
   "outputs": [],
   "source": [
    "#checkpoint\n",
    "term1 = 2*G/(r2 - (m0*r0 + m1*r1)/m0)**3\n",
    "term2 = 2*G*m1*m2/(r1 - r2)**3\n",
    "term3 = G/(r2 - (m0*r0 + m1*r1)/m0)**2\n",
    "term4 = G*m1*m2/(r1 - r2)**2\n",
    "\n",
    "rs1 = -v*(term1*m0*m2 - 2*G*m0*m2/(r0 - r2)**3 + term2) -v*(-term1*m1*m2 + term2) \n",
    "rs2 = -term1*m1*m2*v - v*(-term1*m0*m2 + 2*G*m0*m2/(r0-r2)**2) \n",
    "rs3 = -term1*m1*m2*(-m2*v/m0) - v*(-term1*m1*m2 + term2) -v*(-term2 + term1*m1*m1*m2/m0)\n",
    "rs4 = (-1/m2)*(-term3*m0*m2 - G*m0*m2/(r0-r2)**2 - term4)\n",
    "rs5 = -(0.5*term3*m0*m2 + G*m0*m2/(r0-r2)**2 + term4) \n",
    "rs6 = (term3*m2 + G*m2/(r0-r2)**2) - (term3*m2 + term4/m1) + (-term3*m2 - G*m2/(r0-r2)**2 - term4/m0)\n",
    "rs7 = 0.5*G*m0*m1/(r1 - r0)**2 + term3*m1*m2 + term4\n",
    "rs8 = (1/m0)*(-term3*m0*m2 - G*m0*m2/(r0-r2)**2)\n",
    "rs9 = 0.5*G*m0*m1/(r1 - r0)**2 + 0.5*term3*m0*m2 + G*m0*m2/(r0 - r2)**2\n",
    "\n",
    "result_simple = 0.5*v*rs1 + (-0.5*m2*v/m0)*rs2 + 0.5*v*rs3 - rs4*rs5 - rs6*rs7 - rs8*rs9\n",
    "#result_simple"
   ]
  },
  {
   "cell_type": "code",
   "execution_count": 14,
   "metadata": {
    "collapsed": false
   },
   "outputs": [],
   "source": [
    "#checkpoint 2\n",
    "term5 = 1/(r2 - (m0*r0 + m1*r1)/m0)**3\n",
    "term6 = 1/(r0 - r2)**3\n",
    "term7 = 1/(r2 - (m0*r0 + m1*r1)/m0)**2\n",
    "term8 = 1/(r0 - r2)**2\n",
    "term9 = 1/(r1 - r2)**2\n",
    "term10 = 1/(r1 - r2)**3\n",
    "\n",
    "rs11 = -G*m2*v**2*(m1*term5 - 2*m1*term10 -m0*term5 + m0*term6)\n",
    "rs12 = -G*m2**2*v**2*(term5 - term6)\n",
    "rs13 = v**2*G*m1*m2*term5\n",
    "rs14 = G**2*m2*(m0*term7 + m0*term8 + m1*term9)\n",
    "rs15 = 0.5*m0*term7 + m0*term8 + m1*term9\n",
    "rs16 = -G**2*m2*m1*(term7 + term9)\n",
    "rs17 = 0.5*m0/(r1 - r0)**2 + m2*term7 + m2*term9\n",
    "rs18 = -G**2*m0*m2*(term7 + term8)\n",
    "rs19 = 0.5*m1/(r1 - r0)**2 + 0.5*term7*m2 + term8*m2\n",
    "\n",
    "result_simple2 = rs11 + rs12 + rs13 + rs14*rs15 - rs16*rs17 - rs18*rs19\n",
    "#result_simple2"
   ]
  },
  {
   "cell_type": "code",
   "execution_count": 37,
   "metadata": {
    "collapsed": false
   },
   "outputs": [
    {
     "data": {
      "image/png": "[encoded data removed]",
      "text/latex": [
       "$$G^{2} m_{0} m_{2} \\left(\\frac{1}{\\left(r_{2} - \\frac{1}{m_{0}} \\left(m_{0} r_{0} + m_{1} r_{1}\\right)\\right)^{2}} + \\frac{1}{\\left(r_{0} - r_{2}\\right)^{2}}\\right) \\left(\\frac{0.5 m_{1}}{\\left(- r_{0} + r_{1}\\right)^{2}} + \\frac{0.5 m_{2}}{\\left(r_{2} - \\frac{1}{m_{0}} \\left(m_{0} r_{0} + m_{1} r_{1}\\right)\\right)^{2}} + \\frac{m_{2}}{\\left(r_{0} - r_{2}\\right)^{2}}\\right) + G^{2} m_{1} m_{2} \\left(\\frac{1}{\\left(r_{2} - \\frac{1}{m_{0}} \\left(m_{0} r_{0} + m_{1} r_{1}\\right)\\right)^{2}} + \\frac{1}{\\left(r_{1} - r_{2}\\right)^{2}}\\right) \\left(\\frac{0.5 m_{0}}{\\left(- r_{0} + r_{1}\\right)^{2}} + \\frac{m_{2}}{\\left(r_{2} - \\frac{1}{m_{0}} \\left(m_{0} r_{0} + m_{1} r_{1}\\right)\\right)^{2}} + \\frac{m_{2}}{\\left(r_{1} - r_{2}\\right)^{2}}\\right) + G^{2} m_{2} \\left(\\frac{0.5 m_{0}}{\\left(r_{2} - \\frac{1}{m_{0}} \\left(m_{0} r_{0} + m_{1} r_{1}\\right)\\right)^{2}} + \\frac{m_{0}}{\\left(r_{0} - r_{2}\\right)^{2}} + \\frac{m_{1}}{\\left(r_{1} - r_{2}\\right)^{2}}\\right) \\left(\\frac{m_{0}}{\\left(r_{2} - \\frac{1}{m_{0}} \\left(m_{0} r_{0} + m_{1} r_{1}\\right)\\right)^{2}} + \\frac{m_{0}}{\\left(r_{0} - r_{2}\\right)^{2}} + \\frac{m_{1}}{\\left(r_{1} - r_{2}\\right)^{2}}\\right) - G m_{2} v^{2} \\left(\\frac{m_{0}}{\\left(r_{2} - \\frac{1}{m_{0}} \\left(m_{0} r_{0} + m_{1} r_{1}\\right)\\right)^{3}} - \\frac{m_{0}}{\\left(r_{0} - r_{2}\\right)^{3}} - \\frac{2 m_{1}}{\\left(r_{1} - r_{2}\\right)^{3}}\\right)$$"
      ],
      "text/plain": [
       " 2       ⎛          1                 1     ⎞ ⎛   0.5⋅m₁             0.5⋅m₂   \n",
       "G ⋅m₀⋅m₂⋅⎜───────────────────── + ──────────⎟⋅⎜─────────── + ─────────────────\n",
       "         ⎜                    2            2⎟ ⎜          2                    \n",
       "         ⎜⎛     m₀⋅r₀ + m₁⋅r₁⎞    (r₀ - r₂) ⎟ ⎜(-r₀ + r₁)    ⎛     m₀⋅r₀ + m₁⋅\n",
       "         ⎜⎜r₂ - ─────────────⎟              ⎟ ⎜              ⎜r₂ - ───────────\n",
       "         ⎝⎝           m₀     ⎠              ⎠ ⎝              ⎝           m₀   \n",
       "\n",
       "           m₂    ⎞    2       ⎛          1                 1     ⎞ ⎛   0.5⋅m₀ \n",
       "──── + ──────────⎟ + G ⋅m₁⋅m₂⋅⎜───────────────────── + ──────────⎟⋅⎜──────────\n",
       "   2            2⎟            ⎜                    2            2⎟ ⎜          \n",
       "r₁⎞    (r₀ - r₂) ⎟            ⎜⎛     m₀⋅r₀ + m₁⋅r₁⎞    (r₁ - r₂) ⎟ ⎜(-r₀ + r₁)\n",
       "──⎟              ⎟            ⎜⎜r₂ - ─────────────⎟              ⎟ ⎜          \n",
       "  ⎠              ⎠            ⎝⎝           m₀     ⎠              ⎠ ⎝          \n",
       "\n",
       "              m₂                m₂    ⎞    2    ⎛        0.5⋅m₀              m\n",
       "─ + ───────────────────── + ──────────⎟ + G ⋅m₂⋅⎜───────────────────── + ─────\n",
       "2                       2            2⎟         ⎜                    2        \n",
       "    ⎛     m₀⋅r₀ + m₁⋅r₁⎞    (r₁ - r₂) ⎟         ⎜⎛     m₀⋅r₀ + m₁⋅r₁⎞    (r₀ -\n",
       "    ⎜r₂ - ─────────────⎟              ⎟         ⎜⎜r₂ - ─────────────⎟         \n",
       "    ⎝           m₀     ⎠              ⎠         ⎝⎝           m₀     ⎠         \n",
       "\n",
       "₀           m₁    ⎞ ⎛          m₀                m₀           m₁    ⎞         \n",
       "───── + ──────────⎟⋅⎜───────────────────── + ────────── + ──────────⎟ - G⋅m₂⋅v\n",
       "    2            2⎟ ⎜                    2            2            2⎟         \n",
       " r₂)    (r₁ - r₂) ⎟ ⎜⎛     m₀⋅r₀ + m₁⋅r₁⎞    (r₀ - r₂)    (r₁ - r₂) ⎟         \n",
       "                  ⎟ ⎜⎜r₂ - ─────────────⎟                           ⎟         \n",
       "                  ⎠ ⎝⎝           m₀     ⎠                           ⎠         \n",
       "\n",
       "2 ⎛          m₀                m₀          2⋅m₁   ⎞\n",
       " ⋅⎜───────────────────── - ────────── - ──────────⎟\n",
       "  ⎜                    3            3            3⎟\n",
       "  ⎜⎛     m₀⋅r₀ + m₁⋅r₁⎞    (r₀ - r₂)    (r₁ - r₂) ⎟\n",
       "  ⎜⎜r₂ - ─────────────⎟                           ⎟\n",
       "  ⎝⎝           m₀     ⎠                           ⎠"
      ]
     },
     "execution_count": 37,
     "metadata": {},
     "output_type": "execute_result"
    }
   ],
   "source": [
    "#checkpoint 3\n",
    "rs21 = -G*m2*v**2*(m0*term5 - m0*term6 - 2*m1*term10)\n",
    "rs24 = G**2*m2*(m0*term7 + m0*term8 + m1*term9)\n",
    "rs25 = 0.5*m0*term7 + m0*term8 + m1*term9\n",
    "rs26 = -G**2*m2*m1*(term7 + term9)\n",
    "rs27 = 0.5*m0/(r1 - r0)**2 + m2*term7 + m2*term9\n",
    "rs28 = -G**2*m0*m2*(term7 + term8)\n",
    "rs29 = 0.5*m1/(r1 - r0)**2 + 0.5*term7*m2 + term8*m2\n",
    "\n",
    "result_simple3 = rs21 + rs24*rs25 - rs26*rs27 - rs28*rs29"
   ]
  },
  {
   "cell_type": "code",
   "execution_count": 42,
   "metadata": {
    "collapsed": false
   },
   "outputs": [
    {
     "data": {
      "image/png": "[encoded data removed]",
      "text/latex": [
       "$$- \\frac{G^{2} m_{0}^{2} m_{2}}{a \\left(r_{2} - \\frac{1}{m_{0}} \\left(m_{0} r_{0} + m_{1} r_{1}\\right)\\right)^{3}} + \\frac{2 G^{2} m_{0} m_{1} m_{2}}{a \\left(r_{1} - r_{2}\\right)^{3}} + \\frac{2.5 G^{2} m_{0} m_{1} m_{2}}{a^{2} \\left(r_{1} - r_{2}\\right)^{2}} + \\frac{2 m_{2}}{a^{4}} G^{2} m_{0}^{2} + \\frac{0.5 m_{0}}{a^{4}} G^{2} m_{1} m_{2} + \\frac{G^{2} m_{0}}{a^{4}} m_{2}^{2} + \\frac{1}{\\left(r_{2} - \\frac{1}{m_{0}} \\left(m_{0} r_{0} + m_{1} r_{1}\\right)\\right)^{2}} \\left(\\frac{2 G^{2} m_{0} m_{1} m_{2}}{\\left(r_{1} - r_{2}\\right)^{2}} + \\frac{2 G^{2} m_{1} m_{2}^{2}}{\\left(r_{1} - r_{2}\\right)^{2}} + \\frac{2 m_{2}}{a^{2}} G^{2} m_{0}^{2} + \\frac{1.0 m_{0}}{a^{2}} G^{2} m_{1} m_{2} + \\frac{2 m_{0}}{a^{2}} G^{2} m_{2}^{2}\\right) + \\frac{0.5 G^{2} m_{0}^{2} m_{2} + 0.5 G^{2} m_{0} m_{2}^{2} + G^{2} m_{1} m_{2}^{2}}{\\left(r_{2} - \\frac{1}{m_{0}} \\left(m_{0} r_{0} + m_{1} r_{1}\\right)\\right)^{4}} + \\frac{1}{\\left(r_{1} - r_{2}\\right)^{4}} \\left(G^{2} m_{1}^{2} m_{2} + G^{2} m_{1} m_{2}^{2}\\right)$$"
      ],
      "text/plain": [
       "                                                                              \n",
       "                                                                              \n",
       "                                                                              \n",
       "          2   2                2                 2               2   2        \n",
       "         G ⋅m₀ ⋅m₂          2⋅G ⋅m₀⋅m₁⋅m₂   2.5⋅G ⋅m₀⋅m₁⋅m₂   2⋅G ⋅m₀ ⋅m₂   0.\n",
       "- ─────────────────────── + ───────────── + ─────────────── + ─────────── + ──\n",
       "                        3               3     2          2          4         \n",
       "    ⎛     m₀⋅r₀ + m₁⋅r₁⎞     a⋅(r₁ - r₂)     a ⋅(r₁ - r₂)          a          \n",
       "  a⋅⎜r₂ - ─────────────⎟                                                      \n",
       "    ⎝           m₀     ⎠                                                      \n",
       "\n",
       "                               2               2      2      2   2           2\n",
       "                            2⋅G ⋅m₀⋅m₁⋅m₂   2⋅G ⋅m₁⋅m₂    2⋅G ⋅m₀ ⋅m₂   1.0⋅G \n",
       "                            ───────────── + ─────────── + ─────────── + ──────\n",
       "   2             2      2              2              2         2             \n",
       "5⋅G ⋅m₀⋅m₁⋅m₂   G ⋅m₀⋅m₂      (r₁ - r₂)      (r₁ - r₂)         a              \n",
       "───────────── + ───────── + ──────────────────────────────────────────────────\n",
       "      4              4                                                    2   \n",
       "     a              a                                 ⎛     m₀⋅r₀ + m₁⋅r₁⎞    \n",
       "                                                      ⎜r₂ - ─────────────⎟    \n",
       "                                                      ⎝           m₀     ⎠    \n",
       "\n",
       "               2      2                                                       \n",
       "⋅m₀⋅m₁⋅m₂   2⋅G ⋅m₀⋅m₂                                                        \n",
       "───────── + ───────────                                                       \n",
       "  2               2            2   2           2      2    2      2    2   2  \n",
       " a               a        0.5⋅G ⋅m₀ ⋅m₂ + 0.5⋅G ⋅m₀⋅m₂  + G ⋅m₁⋅m₂    G ⋅m₁ ⋅m\n",
       "─────────────────────── + ───────────────────────────────────────── + ────────\n",
       "                                                        4                     \n",
       "                                    ⎛     m₀⋅r₀ + m₁⋅r₁⎞                    (r\n",
       "                                    ⎜r₂ - ─────────────⎟                      \n",
       "                                    ⎝           m₀     ⎠                      \n",
       "\n",
       "             \n",
       "             \n",
       "             \n",
       "     2      2\n",
       "₂ + G ⋅m₁⋅m₂ \n",
       "─────────────\n",
       "       4     \n",
       "₁ - r₂)      \n",
       "             \n",
       "             "
      ]
     },
     "execution_count": 42,
     "metadata": {},
     "output_type": "execute_result"
    }
   ],
   "source": [
    "#checkpoint4\n",
    "#exp1\n",
    "rs31 = 0.5*G**2*m2*m0**2*term7**2 + 2*G**2*m2*m0**2*term7*term8 + 2*G**2*m2*m0*m1*term7*term9 + G**2*m2*m0**2*term8**2\n",
    "rs32 = 2*G**2*m2*m0*m1*term8*term9 + G**2*m2*m1**2*term9**2\n",
    "#exp2\n",
    "rs33 = 0.5*G**2*m0*m2*m1*term7/(r1 - r0)**2 + 0.5*G**2*m0*m2**2*term7**2 + 2*G**2*m0*m2**2*term7*term8\n",
    "rs34 = 0.5*G**2*m0*m2*m1*term8/(r1 - r0)**2 + G**2*m0*m2**2*term8**2\n",
    "#exp3\n",
    "rs35 = 0.5*G**2*m2*m1*m0*term7/(r1 - r0)**2 + G**2*m2**2*m1*term7**2 + 2*G**2*m2**2*m1*term7*term9\n",
    "rs36 = 0.5*G**2*m2*m1*m0*term9/(r1 - r0)**2 + G**2*m2**2*m1*term9**2 \n",
    "#exp4\n",
    "rs37 = -G*m2*v**2*m0*term5 + G*m2*v**2*m0*term6 + 2*G*m2*v**2*m1*term10\n",
    "\n",
    "result_simple4 = rs37 + rs31 + rs32 + rs33 + rs34 + rs35 + rs36\n",
    "result_simple4 = result_simple4.subs(v**2, G*m0/a)\n",
    "result_simple4 = result_simple4.subs({(r1 - r0):a, (r0 - r2):a})\n",
    "\n",
    "result_simple4 = collect(result_simple4, term7)\n",
    "result_simple4 = collect(result_simple4, term8)\n",
    "result_simple4 = collect(result_simple4, term9)\n",
    "result_simple4"
   ]
  },
  {
   "cell_type": "code",
   "execution_count": 52,
   "metadata": {
    "collapsed": false
   },
   "outputs": [
    {
     "data": {
      "image/png": "[encoded data removed]",
      "text/latex": [
       "$$\\frac{G^{2} m_{0} m_{2}}{\\left(r_{2} - \\frac{1}{m_{0}} \\left(m_{0} r_{0} + m_{1} r_{1}\\right)\\right)^{2}} \\left(\\frac{0.5 m_{0}}{\\left(r_{2} - \\frac{1}{m_{0}} \\left(m_{0} r_{0} + m_{1} r_{1}\\right)\\right)^{2}} + \\frac{2 m_{1}}{\\left(r_{1} - r_{2}\\right)^{2}} + \\frac{m_{0}}{a \\left(r_{2} - \\frac{1}{m_{0}} \\left(m_{0} r_{0} + m_{1} r_{1}\\right)\\right)} + \\frac{2 m_{0}}{a^{2}}\\right) + \\frac{G^{2} m_{1} m_{2}}{\\left(r_{1} - r_{2}\\right)^{2}} \\left(\\frac{m_{2}}{\\left(r_{1} - r_{2}\\right)^{2}} + \\frac{2 m_{0}}{a \\left(r_{1} - r_{2}\\right)} + \\frac{2.5 m_{0}}{a^{2}}\\right) + \\frac{2 m_{2}}{a^{4}} G^{2} m_{0}^{2}$$"
      ],
      "text/plain": [
       " 2       ⎛        0.5⋅m₀             2⋅m₁                m₀             2⋅m₀⎞ \n",
       "G ⋅m₀⋅m₂⋅⎜───────────────────── + ────────── + ────────────────────── + ────⎟ \n",
       "         ⎜                    2            2     ⎛     m₀⋅r₀ + m₁⋅r₁⎞     2 ⎟ \n",
       "         ⎜⎛     m₀⋅r₀ + m₁⋅r₁⎞    (r₁ - r₂)    a⋅⎜r₂ - ─────────────⎟    a  ⎟ \n",
       "         ⎜⎜r₂ - ─────────────⎟                   ⎝           m₀     ⎠       ⎟ \n",
       "         ⎝⎝           m₀     ⎠                                              ⎠ \n",
       "───────────────────────────────────────────────────────────────────────────── \n",
       "                                                2                             \n",
       "                            ⎛     m₀⋅r₀ + m₁⋅r₁⎞                              \n",
       "                            ⎜r₂ - ─────────────⎟                              \n",
       "                            ⎝           m₀     ⎠                              \n",
       "\n",
       "                                                            \n",
       "                                                            \n",
       "   2       ⎛    m₂           2⋅m₀      2.5⋅m₀⎞              \n",
       "  G ⋅m₁⋅m₂⋅⎜────────── + ─────────── + ──────⎟              \n",
       "           ⎜         2   a⋅(r₁ - r₂)      2  ⎟      2   2   \n",
       "           ⎝(r₁ - r₂)                    a   ⎠   2⋅G ⋅m₀ ⋅m₂\n",
       "+ ──────────────────────────────────────────── + ───────────\n",
       "                            2                          4    \n",
       "                   (r₁ - r₂)                          a     \n",
       "                                                            \n",
       "                                                            "
      ]
     },
     "execution_count": 52,
     "metadata": {},
     "output_type": "execute_result"
    }
   ],
   "source": [
    "#checkpoint5\n",
    "rs41 = G**2*m0*m2*term7*(2*m1*term9 + 2*m0/a**2 + m0/a/(r2 - (m0*r0 + m1*r1)/m0) + 0.5*m0*term7)\n",
    "rs42 = G**2*m1*m2*term9*(2.5*m0/a**2 + 2*m0/(a*(r1 - r2)) + m2*term9)\n",
    "rs43 = 2*G**2*m0**2*m2/a**4\n",
    "\n",
    "result_simple5 = rs41 + rs42 + rs43\n",
    "result_simple5"
   ]
  },
  {
   "cell_type": "code",
   "execution_count": null,
   "metadata": {
    "collapsed": true
   },
   "outputs": [],
   "source": []
  }
 ],
 "metadata": {
  "kernelspec": {
   "display_name": "Python 2",
   "language": "python",
   "name": "python2"
  },
  "language_info": {
   "codemirror_mode": {
    "name": "ipython",
    "version": 2
   },
   "file_extension": ".py",
   "mimetype": "text/x-python",
   "name": "python",
   "nbconvert_exporter": "python",
   "pygments_lexer": "ipython2",
   "version": "2.7.11"
  }
 },
 "nbformat": 4,
 "nbformat_minor": 0
}
