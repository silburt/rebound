{
 "cells": [
  {
   "cell_type": "markdown",
   "metadata": {},
   "source": [
    "# Adding Post-Newtonian general relativity corrections\n",
    "\n",
    "It's easy to add post-newtonian corrections to your REBOUND simulations with REBOUNDx.  Let's start with a simulation without GR:"
   ]
  },
  {
   "cell_type": "code",
   "execution_count": 1,
   "metadata": {
    "collapsed": false
   },
   "outputs": [
    {
     "name": "stdout",
     "output_type": "stream",
     "text": [
      "pomega = 0.0000000000000000\n"
     ]
    }
   ],
   "source": [
    "import rebound\n",
    "sim = rebound.Simulation()\n",
    "sim.add(m=1.) # Sun\n",
    "sim.add(m=1.66013e-07,a=0.387098,e=0.205630) # Mercury-like\n",
    "sim.move_to_com() # Moves to the center of momentum frame\n",
    "\n",
    "sim.integrate(10.)\n",
    "print(\"pomega = %.16f\"%sim.particles[1].pomega)"
   ]
  },
  {
   "cell_type": "markdown",
   "metadata": {},
   "source": [
    "As expected, the pericenter did not move at all.  Now let's add GR"
   ]
  },
  {
   "cell_type": "code",
   "execution_count": 2,
   "metadata": {
    "collapsed": false
   },
   "outputs": [],
   "source": [
    "import reboundx\n",
    "rebx = reboundx.Extras(sim)\n",
    "params = rebx.add_gr()\n",
    "E0 = rebx.gr_hamiltonian(sim, params)"
   ]
  },
  {
   "cell_type": "markdown",
   "metadata": {},
   "source": [
    "and run for another 100 time units"
   ]
  },
  {
   "cell_type": "code",
   "execution_count": 3,
   "metadata": {
    "collapsed": false
   },
   "outputs": [
    {
     "name": "stdout",
     "output_type": "stream",
     "text": [
      "pomega = 0.0000332618418421\n",
      "Rate of change of pomega = 43.1083 [arcsec / Julian century]\n",
      "Relative error on the relativistic Hamiltonian = 1.234409293531869e-16\n"
     ]
    }
   ],
   "source": [
    "deltat = 100.\n",
    "sim.integrate(sim.t + deltat)\n",
    "print(\"pomega = %.16f\"%sim.particles[1].pomega)\n",
    "juliancentury = 628.33195 # in yr/2pi\n",
    "arcsec = 4.8481368e-06 # in rad\n",
    "print(\"Rate of change of pomega = %.4f [arcsec / Julian century]\"% (sim.particles[1].pomega/deltat*juliancentury/arcsec))\n",
    "Ef = rebx.gr_hamiltonian(sim, params)\n",
    "print(\"Relative error on the relativistic Hamiltonian = {0}\".format(abs(Ef-E0)/abs(E0)))"
   ]
  },
  {
   "cell_type": "markdown",
   "metadata": {},
   "source": [
    "As expected there was pericenter precession. The literature value is 42.98 arcsec / century.   "
   ]
  },
  {
   "cell_type": "markdown",
   "metadata": {
    "collapsed": true
   },
   "source": [
    "**Units**\n",
    "\n",
    "To add GR, you need to pass `add_gr` the speed of light `c` in the units appropriate to the simulation.  By not passing a value above, `c` defaulted to our default units of AU, $M_\\odot$ and yr/$2\\pi$, for which `G=1` which is what we used for our initial conditions above.\n",
    "\n",
    "But imagine now we wanted to instead use SI units:"
   ]
  },
  {
   "cell_type": "code",
   "execution_count": 4,
   "metadata": {
    "collapsed": false
   },
   "outputs": [],
   "source": [
    "sim = rebound.Simulation()\n",
    "sim.G = 6.67408e-11\n",
    "sim.add(m=1.989e30) # Sun\n",
    "sim.add(m=3.30216458e23,a=5.79090366e10,e=0.205630) # SI units\n",
    "sim.move_to_com() # Moves to the center of momentum frame\n",
    "rebx = reboundx.Extras(sim)"
   ]
  },
  {
   "cell_type": "markdown",
   "metadata": {
    "collapsed": false
   },
   "source": [
    "We now have to explicitly pass `c`:"
   ]
  },
  {
   "cell_type": "code",
   "execution_count": 5,
   "metadata": {
    "collapsed": false
   },
   "outputs": [],
   "source": [
    "params = rebx.add_gr(c=3.e8)"
   ]
  },
  {
   "cell_type": "markdown",
   "metadata": {},
   "source": [
    "Currently, setting the `units` member in Simulation does not work with REBOUNDx.  If you want to use your own units you always have to pass `c` explicitly.\n",
    "\n",
    "**Variants**\n",
    "\n",
    "Above we always called `add_gr`, but there are two other options `add_gr_potential` and `add_gr_full`.  Before running any serious simulations, you should read the more detailed descriptions at http://reboundx.readthedocs.io/en/latest/effects.html to see which implementation is appropriate for your application.\n",
    "\n",
    "**Source**\n",
    "\n",
    "For the implementations that treat a single body as massive (`add_gr` and `add_gr_potential`), you can also specify which particle in the simulation is the massive body responsible for the post-newtonian corrections by passing the index of the body in the `particles` array, e.g."
   ]
  },
  {
   "cell_type": "code",
   "execution_count": 6,
   "metadata": {
    "collapsed": true
   },
   "outputs": [],
   "source": [
    "params = rebx.add_gr_potential(source_index = 0, c=3.e8)"
   ]
  },
  {
   "cell_type": "markdown",
   "metadata": {},
   "source": [
    "If you don't pass a source_index, it will default to `particles[0]`, so in this case we didn't have to pass it."
   ]
  }
 ],
 "metadata": {
  "kernelspec": {
   "display_name": "Python 3",
   "language": "python",
   "name": "python3"
  },
  "language_info": {
   "codemirror_mode": {
    "name": "ipython",
    "version": 3
   },
   "file_extension": ".py",
   "mimetype": "text/x-python",
   "name": "python",
   "nbconvert_exporter": "python",
   "pygments_lexer": "ipython3",
   "version": "3.5.1"
  }
 },
 "nbformat": 4,
 "nbformat_minor": 0
}
