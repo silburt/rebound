{
 "cells": [
  {
   "cell_type": "markdown",
   "metadata": {},
   "source": [
    "# Custom Effects\n",
    "\n",
    "REBOUNDx is an all-or-nothing proposition.  Either you use it for all additional effects, or none.  This is because behind the scenes, REBOUNDx is setting REBOUND's `additional_forces` function pointer--so if you use REBOUNDx to, e.g., include general relativity corrections, and then define a custom force that you set with\n",
    "\n",
    "`sim.additional_forces = custom_force`\n",
    "\n",
    "like in REBOUND's [Forces.ipynb](https://github.com/hannorein/rebound/blob/master/ipython_examples/Forces.ipynb) ipython example, then you're overwriting the function pointer and only your effect will show up.\n",
    "\n",
    "The ideal solution would be to write your function in C, and include it in REBOUNDx itself, following the instructions in this [page](http://reboundx.readthedocs.org/en/latest/add_effect.html) of the documentation. \n",
    "\n",
    "This will be faster by a factor of a few since everything can happen in C (rather than having to switch and call your function in Python every timestep), and would help grow the library of effects in REBOUNDx (and get you citations to your paper when people use your implementation!).\n",
    "\n",
    "However, it is useful to be able to get things running quick and dirty in cases where it's a one-off thing or just to quickly test the implementation before doing it the \"right\" way.  We first add a custom force to include in the integration, and then a custom function to execute between integrator timesteps (post-timestep modification).\n",
    "\n",
    "# Adding a Custom Force\n",
    "\n",
    "This example parallels REBOUND's [Forces.ipynb](https://github.com/hannorein/rebound/blob/master/ipython_examples/Forces.ipynb) example, which implements a Python function for calculating the simple Stark force, showing how to add it to REBOUNDx (again, you would do this so that you could use other REBOUNDx effects at the same time).  See the original notebook for context of the force itself--this just shows the method."
   ]
  },
  {
   "cell_type": "code",
   "execution_count": 1,
   "metadata": {
    "collapsed": true
   },
   "outputs": [],
   "source": [
    "import rebound\n",
    "sim = rebound.Simulation()\n",
    "sim.integrator = \"whfast\"\n",
    "sim.add(m=1.)\n",
    "sim.add(m=1e-6,a=1.)\n",
    "sim.move_to_com()  # Moves to the center of momentum frame"
   ]
  },
  {
   "cell_type": "markdown",
   "metadata": {},
   "source": [
    "We now define our function that updates our particle accelerations.  We also define a flag for whether our force depends on the particle velocities or not, which we'll need to pass to REBOUNDx in order to get accurate behavior."
   ]
  },
  {
   "cell_type": "code",
   "execution_count": 2,
   "metadata": {
    "collapsed": false
   },
   "outputs": [],
   "source": [
    "force_is_velocity_dependent = False\n",
    "def starkForce(reb_sim, rebx_effect):\n",
    "    sim = reb_sim.contents\n",
    "    c=0.01\n",
    "    sim.particles[1].ax += c"
   ]
  },
  {
   "cell_type": "markdown",
   "metadata": {},
   "source": [
    "Note that this looks different from an additional force in REBOUND.  In addition to passing the simulation, you also have to pass a `rebx_effect`.  In principle this would allow you to store parameters for the effect, but if you wanted to do this from Python, it would take some customized legwork using the ctypes library that the Python version of REBOUND uses under the hood.  \n",
    "\n",
    "If you need to store parameters, it will probably be just as fast for you to code things in C as if you try to learn the ctypes library to do things from Python.  The former option also has the advantage that you'll be most of the way there to fully incorporating it into REBOUNDx!\n",
    "\n",
    "In summary, your function should always look like\n",
    "\n",
    "`def force(reb_sim, rebx_effect):`\n",
    "\n",
    "but you won't use `rebx_effect` in the function itself.  Also, note that `reb_sim` is a ctypes object (not a `rebound.Simulation` object).  To get the simulation, you have to access the `contents` member as shown above.\n",
    "\n",
    "Now we add REBOUNDx just like we would normally do, and add the custom force, passing it our flag that says whether the force is velocity dependent."
   ]
  },
  {
   "cell_type": "code",
   "execution_count": 3,
   "metadata": {
    "collapsed": false
   },
   "outputs": [],
   "source": [
    "import reboundx\n",
    "rebx = reboundx.Extras(sim)\n",
    "rebx.add_custom_force(starkForce, force_is_velocity_dependent)"
   ]
  },
  {
   "cell_type": "markdown",
   "metadata": {},
   "source": [
    "Now we can just integrate as usual. Comparing the output between this and [Forces.ipynb](https://github.com/hannorein/rebound/blob/master/ipython_examples/Forces.ipynb), it is the same."
   ]
  },
  {
   "cell_type": "code",
   "execution_count": 4,
   "metadata": {
    "collapsed": false
   },
   "outputs": [],
   "source": [
    "import numpy as np\n",
    "Nout = 1000\n",
    "es = np.zeros(Nout)\n",
    "times = np.linspace(0.,100.*2.*np.pi,Nout)\n",
    "for i, time in enumerate(times):\n",
    "    sim.integrate(time, exact_finish_time=0) # integrate to the nearest timestep so WHFast's timestep stays constant\n",
    "    es[i] = sim.particles[1].e "
   ]
  },
  {
   "cell_type": "markdown",
   "metadata": {},
   "source": [
    "And let's plot the result."
   ]
  },
  {
   "cell_type": "code",
   "execution_count": 5,
   "metadata": {
    "collapsed": false
   },
   "outputs": [
    {
     "data": {
      "image/png": "[encoded data removed]",
      "text/plain": [
       "<matplotlib.figure.Figure at 0x104fdcda0>"
      ]
     },
     "metadata": {},
     "output_type": "display_data"
    }
   ],
   "source": [
    "%matplotlib inline\n",
    "import matplotlib.pyplot as plt\n",
    "fig = plt.figure(figsize=(15,5))\n",
    "ax = plt.subplot(111)\n",
    "plt.xlabel=\"time\"\n",
    "plt.plot(times, es);"
   ]
  },
  {
   "cell_type": "markdown",
   "metadata": {},
   "source": [
    "# Adding a Custom Post-Timestep Modification\n",
    "\n",
    "This looks very similar to what we did above, but now this function is executed between integrator timesteps, rather than including a custom force in addition to point source gravity as above."
   ]
  },
  {
   "cell_type": "code",
   "execution_count": 6,
   "metadata": {
    "collapsed": true
   },
   "outputs": [],
   "source": [
    "import rebound\n",
    "sim = rebound.Simulation()\n",
    "sim.integrator = \"whfast\"\n",
    "sim.add(m=1.)\n",
    "sim.add(m=1e-6,a=1.)\n",
    "sim.move_to_com()  # Moves to the center of momentum frame"
   ]
  },
  {
   "cell_type": "markdown",
   "metadata": {},
   "source": [
    "Now we define a simple function that adds mass to `particles[1]` between timesteps.  Note that if this is all you want to do, you probably should use the `modify_mass` effect that's already in REBOUNDx, since that will be substantially faster (since it's doing everything in C and not switching back and forth to call your Python function).  If you haven't, read the description of the custom force above, since all the same points apply here."
   ]
  },
  {
   "cell_type": "code",
   "execution_count": 7,
   "metadata": {
    "collapsed": true
   },
   "outputs": [],
   "source": [
    "def add_mass(reb_sim, rebx_effect):\n",
    "    sim = reb_sim.contents\n",
    "    deltaM = 1.e-6\n",
    "    sim.particles[1].m += deltaM"
   ]
  },
  {
   "cell_type": "markdown",
   "metadata": {},
   "source": [
    "Now we add REBOUNDx as usual, and add our function.  In contrast to the example in the previous section, we don't have to pass a `force_is_velocity_dependent` flag (because we're not adding a force!)."
   ]
  },
  {
   "cell_type": "code",
   "execution_count": 8,
   "metadata": {
    "collapsed": false
   },
   "outputs": [],
   "source": [
    "import reboundx\n",
    "rebx = reboundx.Extras(sim)\n",
    "rebx.add_custom_post_timestep_modification(add_mass)"
   ]
  },
  {
   "cell_type": "markdown",
   "metadata": {},
   "source": [
    "Now if we integrate and plot the mass of `particles[1]`, we see that our function is getting called, since the mass grows linearly with time."
   ]
  },
  {
   "cell_type": "code",
   "execution_count": 9,
   "metadata": {
    "collapsed": true
   },
   "outputs": [],
   "source": [
    "import numpy as np\n",
    "Nout = 1000\n",
    "ms = np.zeros(Nout)\n",
    "times = np.linspace(0.,10.*2.*np.pi,Nout)\n",
    "for i, time in enumerate(times):\n",
    "    sim.integrate(time)\n",
    "    ms[i] = sim.particles[1].m "
   ]
  },
  {
   "cell_type": "code",
   "execution_count": 10,
   "metadata": {
    "collapsed": false
   },
   "outputs": [
    {
     "data": {
      "image/png": "[encoded data removed]",
      "text/plain": [
       "<matplotlib.figure.Figure at 0x10fcbeeb8>"
      ]
     },
     "metadata": {},
     "output_type": "display_data"
    }
   ],
   "source": [
    "%matplotlib inline\n",
    "import matplotlib.pyplot as plt\n",
    "fig = plt.figure(figsize=(15,5))\n",
    "ax = plt.subplot(111)\n",
    "ax.set_xlabel(\"Time\")\n",
    "ax.set_ylabel(\"Mass\")\n",
    "ax.plot(times, ms);"
   ]
  },
  {
   "cell_type": "code",
   "execution_count": null,
   "metadata": {
    "collapsed": true
   },
   "outputs": [],
   "source": []
  }
 ],
 "metadata": {
  "kernelspec": {
   "display_name": "Python 3",
   "language": "python",
   "name": "python3"
  },
  "language_info": {
   "codemirror_mode": {
    "name": "ipython",
    "version": 3
   },
   "file_extension": ".py",
   "mimetype": "text/x-python",
   "name": "python",
   "nbconvert_exporter": "python",
   "pygments_lexer": "ipython3",
   "version": "3.5.1"
  }
 },
 "nbformat": 4,
 "nbformat_minor": 0
}
